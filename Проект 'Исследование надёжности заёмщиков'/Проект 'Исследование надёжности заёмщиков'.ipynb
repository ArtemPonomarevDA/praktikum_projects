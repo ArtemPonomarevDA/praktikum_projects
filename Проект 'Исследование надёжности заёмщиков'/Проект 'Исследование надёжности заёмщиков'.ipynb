{
 "cells": [
  {
   "cell_type": "markdown",
   "metadata": {},
   "source": [
    "# Проект \"Исследовательский анализ данных\""
   ]
  },
  {
   "cell_type": "markdown",
   "metadata": {},
   "source": [
    "## Исследование объявлений о продаже квартир\n",
    "\n",
    "В нашем распоряжении данные сервиса Яндекс.Недвижимость — архив объявлений о продаже квартир в Санкт-Петербурге и соседних населённых пунктов за несколько лет. Нужно научиться определять рыночную стоимость объектов недвижимости. Наша задача — установить параметры. Это позволит построить автоматизированную систему: она отследит аномалии и мошенническую деятельность. \n",
    "\n",
    "По каждой квартире на продажу доступны два вида данных. Первые вписаны пользователем, вторые — получены автоматически на основе картографических данных. Например, расстояние до центра, аэропорта, ближайшего парка и водоёма. "
   ]
  },
  {
   "cell_type": "markdown",
   "metadata": {},
   "source": [
    "### Шаг 1. Откройте файл с данными и изучите общую информацию. "
   ]
  },
  {
   "cell_type": "markdown",
   "metadata": {},
   "source": [
    "Откроем файл с данными и выведем первые 5 строк на экран."
   ]
  },
  {
   "cell_type": "code",
   "execution_count": 1,
   "metadata": {},
   "outputs": [
    {
     "data": {
      "text/html": [
       "<div>\n",
       "<style scoped>\n",
       "    .dataframe tbody tr th:only-of-type {\n",
       "        vertical-align: middle;\n",
       "    }\n",
       "\n",
       "    .dataframe tbody tr th {\n",
       "        vertical-align: top;\n",
       "    }\n",
       "\n",
       "    .dataframe thead th {\n",
       "        text-align: right;\n",
       "    }\n",
       "</style>\n",
       "<table border=\"1\" class=\"dataframe\">\n",
       "  <thead>\n",
       "    <tr style=\"text-align: right;\">\n",
       "      <th></th>\n",
       "      <th>total_images</th>\n",
       "      <th>last_price</th>\n",
       "      <th>total_area</th>\n",
       "      <th>first_day_exposition</th>\n",
       "      <th>rooms</th>\n",
       "      <th>ceiling_height</th>\n",
       "      <th>floors_total</th>\n",
       "      <th>living_area</th>\n",
       "      <th>floor</th>\n",
       "      <th>is_apartment</th>\n",
       "      <th>...</th>\n",
       "      <th>kitchen_area</th>\n",
       "      <th>balcony</th>\n",
       "      <th>locality_name</th>\n",
       "      <th>airports_nearest</th>\n",
       "      <th>cityCenters_nearest</th>\n",
       "      <th>parks_around3000</th>\n",
       "      <th>parks_nearest</th>\n",
       "      <th>ponds_around3000</th>\n",
       "      <th>ponds_nearest</th>\n",
       "      <th>days_exposition</th>\n",
       "    </tr>\n",
       "  </thead>\n",
       "  <tbody>\n",
       "    <tr>\n",
       "      <td>0</td>\n",
       "      <td>20</td>\n",
       "      <td>13000000.0</td>\n",
       "      <td>108.0</td>\n",
       "      <td>2019-03-07T00:00:00</td>\n",
       "      <td>3</td>\n",
       "      <td>2.70</td>\n",
       "      <td>16.0</td>\n",
       "      <td>51.0</td>\n",
       "      <td>8</td>\n",
       "      <td>NaN</td>\n",
       "      <td>...</td>\n",
       "      <td>25.0</td>\n",
       "      <td>NaN</td>\n",
       "      <td>Санкт-Петербург</td>\n",
       "      <td>18863.0</td>\n",
       "      <td>16028.0</td>\n",
       "      <td>1.0</td>\n",
       "      <td>482.0</td>\n",
       "      <td>2.0</td>\n",
       "      <td>755.0</td>\n",
       "      <td>NaN</td>\n",
       "    </tr>\n",
       "    <tr>\n",
       "      <td>1</td>\n",
       "      <td>7</td>\n",
       "      <td>3350000.0</td>\n",
       "      <td>40.4</td>\n",
       "      <td>2018-12-04T00:00:00</td>\n",
       "      <td>1</td>\n",
       "      <td>NaN</td>\n",
       "      <td>11.0</td>\n",
       "      <td>18.6</td>\n",
       "      <td>1</td>\n",
       "      <td>NaN</td>\n",
       "      <td>...</td>\n",
       "      <td>11.0</td>\n",
       "      <td>2.0</td>\n",
       "      <td>посёлок Шушары</td>\n",
       "      <td>12817.0</td>\n",
       "      <td>18603.0</td>\n",
       "      <td>0.0</td>\n",
       "      <td>NaN</td>\n",
       "      <td>0.0</td>\n",
       "      <td>NaN</td>\n",
       "      <td>81.0</td>\n",
       "    </tr>\n",
       "    <tr>\n",
       "      <td>2</td>\n",
       "      <td>10</td>\n",
       "      <td>5196000.0</td>\n",
       "      <td>56.0</td>\n",
       "      <td>2015-08-20T00:00:00</td>\n",
       "      <td>2</td>\n",
       "      <td>NaN</td>\n",
       "      <td>5.0</td>\n",
       "      <td>34.3</td>\n",
       "      <td>4</td>\n",
       "      <td>NaN</td>\n",
       "      <td>...</td>\n",
       "      <td>8.3</td>\n",
       "      <td>0.0</td>\n",
       "      <td>Санкт-Петербург</td>\n",
       "      <td>21741.0</td>\n",
       "      <td>13933.0</td>\n",
       "      <td>1.0</td>\n",
       "      <td>90.0</td>\n",
       "      <td>2.0</td>\n",
       "      <td>574.0</td>\n",
       "      <td>558.0</td>\n",
       "    </tr>\n",
       "    <tr>\n",
       "      <td>3</td>\n",
       "      <td>0</td>\n",
       "      <td>64900000.0</td>\n",
       "      <td>159.0</td>\n",
       "      <td>2015-07-24T00:00:00</td>\n",
       "      <td>3</td>\n",
       "      <td>NaN</td>\n",
       "      <td>14.0</td>\n",
       "      <td>NaN</td>\n",
       "      <td>9</td>\n",
       "      <td>NaN</td>\n",
       "      <td>...</td>\n",
       "      <td>NaN</td>\n",
       "      <td>0.0</td>\n",
       "      <td>Санкт-Петербург</td>\n",
       "      <td>28098.0</td>\n",
       "      <td>6800.0</td>\n",
       "      <td>2.0</td>\n",
       "      <td>84.0</td>\n",
       "      <td>3.0</td>\n",
       "      <td>234.0</td>\n",
       "      <td>424.0</td>\n",
       "    </tr>\n",
       "    <tr>\n",
       "      <td>4</td>\n",
       "      <td>2</td>\n",
       "      <td>10000000.0</td>\n",
       "      <td>100.0</td>\n",
       "      <td>2018-06-19T00:00:00</td>\n",
       "      <td>2</td>\n",
       "      <td>3.03</td>\n",
       "      <td>14.0</td>\n",
       "      <td>32.0</td>\n",
       "      <td>13</td>\n",
       "      <td>NaN</td>\n",
       "      <td>...</td>\n",
       "      <td>41.0</td>\n",
       "      <td>NaN</td>\n",
       "      <td>Санкт-Петербург</td>\n",
       "      <td>31856.0</td>\n",
       "      <td>8098.0</td>\n",
       "      <td>2.0</td>\n",
       "      <td>112.0</td>\n",
       "      <td>1.0</td>\n",
       "      <td>48.0</td>\n",
       "      <td>121.0</td>\n",
       "    </tr>\n",
       "  </tbody>\n",
       "</table>\n",
       "<p>5 rows × 22 columns</p>\n",
       "</div>"
      ],
      "text/plain": [
       "   total_images  last_price  total_area first_day_exposition  rooms  \\\n",
       "0            20  13000000.0       108.0  2019-03-07T00:00:00      3   \n",
       "1             7   3350000.0        40.4  2018-12-04T00:00:00      1   \n",
       "2            10   5196000.0        56.0  2015-08-20T00:00:00      2   \n",
       "3             0  64900000.0       159.0  2015-07-24T00:00:00      3   \n",
       "4             2  10000000.0       100.0  2018-06-19T00:00:00      2   \n",
       "\n",
       "   ceiling_height  floors_total  living_area  floor is_apartment  ...  \\\n",
       "0            2.70          16.0         51.0      8          NaN  ...   \n",
       "1             NaN          11.0         18.6      1          NaN  ...   \n",
       "2             NaN           5.0         34.3      4          NaN  ...   \n",
       "3             NaN          14.0          NaN      9          NaN  ...   \n",
       "4            3.03          14.0         32.0     13          NaN  ...   \n",
       "\n",
       "   kitchen_area  balcony    locality_name  airports_nearest  \\\n",
       "0          25.0      NaN  Санкт-Петербург           18863.0   \n",
       "1          11.0      2.0   посёлок Шушары           12817.0   \n",
       "2           8.3      0.0  Санкт-Петербург           21741.0   \n",
       "3           NaN      0.0  Санкт-Петербург           28098.0   \n",
       "4          41.0      NaN  Санкт-Петербург           31856.0   \n",
       "\n",
       "  cityCenters_nearest  parks_around3000  parks_nearest  ponds_around3000  \\\n",
       "0             16028.0               1.0          482.0               2.0   \n",
       "1             18603.0               0.0            NaN               0.0   \n",
       "2             13933.0               1.0           90.0               2.0   \n",
       "3              6800.0               2.0           84.0               3.0   \n",
       "4              8098.0               2.0          112.0               1.0   \n",
       "\n",
       "   ponds_nearest  days_exposition  \n",
       "0          755.0              NaN  \n",
       "1            NaN             81.0  \n",
       "2          574.0            558.0  \n",
       "3          234.0            424.0  \n",
       "4           48.0            121.0  \n",
       "\n",
       "[5 rows x 22 columns]"
      ]
     },
     "execution_count": 1,
     "metadata": {},
     "output_type": "execute_result"
    }
   ],
   "source": [
    "import pandas as pd\n",
    "import numpy as np\n",
    "import matplotlib.pyplot as plt\n",
    "data = pd.read_csv('/datasets/real_estate_data.csv', sep='\\t')\n",
    "data.head(5)"
   ]
  },
  {
   "cell_type": "markdown",
   "metadata": {},
   "source": [
    "Посмотрим общую информацию о нашем датафрейме."
   ]
  },
  {
   "cell_type": "code",
   "execution_count": 2,
   "metadata": {},
   "outputs": [
    {
     "name": "stdout",
     "output_type": "stream",
     "text": [
      "<class 'pandas.core.frame.DataFrame'>\n",
      "RangeIndex: 23699 entries, 0 to 23698\n",
      "Data columns (total 22 columns):\n",
      "total_images            23699 non-null int64\n",
      "last_price              23699 non-null float64\n",
      "total_area              23699 non-null float64\n",
      "first_day_exposition    23699 non-null object\n",
      "rooms                   23699 non-null int64\n",
      "ceiling_height          14504 non-null float64\n",
      "floors_total            23613 non-null float64\n",
      "living_area             21796 non-null float64\n",
      "floor                   23699 non-null int64\n",
      "is_apartment            2775 non-null object\n",
      "studio                  23699 non-null bool\n",
      "open_plan               23699 non-null bool\n",
      "kitchen_area            21421 non-null float64\n",
      "balcony                 12180 non-null float64\n",
      "locality_name           23650 non-null object\n",
      "airports_nearest        18157 non-null float64\n",
      "cityCenters_nearest     18180 non-null float64\n",
      "parks_around3000        18181 non-null float64\n",
      "parks_nearest           8079 non-null float64\n",
      "ponds_around3000        18181 non-null float64\n",
      "ponds_nearest           9110 non-null float64\n",
      "days_exposition         20518 non-null float64\n",
      "dtypes: bool(2), float64(14), int64(3), object(3)\n",
      "memory usage: 3.7+ MB\n"
     ]
    }
   ],
   "source": [
    "data.info()"
   ]
  },
  {
   "cell_type": "markdown",
   "metadata": {},
   "source": [
    "В нашем датафрейме имеется 23699 строк и 22 столбца. \n",
    "Названия столбцов с информацией об их содержании: \n",
    "\n",
    "* airports_nearest — расстояние до ближайшего аэропорта в метрах (м)\n",
    "* balcony — число балконов\n",
    "* ceiling_height — высота потолков (м)\n",
    "* cityCenters_nearest — расстояние до центра города (м)\n",
    "* days_exposition — сколько дней было размещено объявление (от публикации до снятия)\n",
    "* first_day_exposition — дата публикации\n",
    "* floor — этаж\n",
    "* floors_total — всего этажей в доме\n",
    "* is_apartment — апартаменты (булев тип)\n",
    "* kitchen_area — площадь кухни в квадратных метрах (м²)\n",
    "* last_price — цена на момент снятия с публикации\n",
    "* living_area — жилая площадь в квадратных метрах(м²)\n",
    "* locality_name — название населённого пункта\n",
    "* open_plan — свободная планировка (булев тип)\n",
    "* parks_around3000 — число парков в радиусе 3 км\n",
    "* parks_nearest — расстояние до ближайшего парка (м)\n",
    "* ponds_around3000 — число водоёмов в радиусе 3 км\n",
    "* ponds_nearest — расстояние до ближайшего водоёма (м)\n",
    "* rooms — число комнат\n",
    "* studio — квартира-студия (булев тип)\n",
    "* total_area — площадь квартиры в квадратных метрах (м²)\n",
    "* total_images — число фотографий квартиры в объявлении\n",
    "\n",
    "Все данные делятся на 4 типа: `bool`, `float64`, `int64` и `object`. \n"
   ]
  },
  {
   "cell_type": "markdown",
   "metadata": {},
   "source": [
    "### Шаг 2. Предобработка данных"
   ]
  },
  {
   "cell_type": "markdown",
   "metadata": {},
   "source": [
    "Более чем в половине столбцов есть пропуски. Посморим, что мы можем с ними сделать. \n",
    "Начнём по порядку. Первый столбец с пропусками - `ceiling_height` (высота потолков (м))."
   ]
  },
  {
   "cell_type": "code",
   "execution_count": 3,
   "metadata": {},
   "outputs": [
    {
     "data": {
      "text/plain": [
       "9195"
      ]
     },
     "execution_count": 3,
     "metadata": {},
     "output_type": "execute_result"
    }
   ],
   "source": [
    "data['ceiling_height'].isnull().sum()"
   ]
  },
  {
   "cell_type": "markdown",
   "metadata": {},
   "source": [
    "В данном столбце 9195 пропущенных значений. Посмотрим на его значения с помощью метода `describe`."
   ]
  },
  {
   "cell_type": "code",
   "execution_count": 4,
   "metadata": {},
   "outputs": [
    {
     "data": {
      "text/plain": [
       "count    14504.000000\n",
       "mean         2.771499\n",
       "std          1.261056\n",
       "min          1.000000\n",
       "25%          2.520000\n",
       "50%          2.650000\n",
       "75%          2.800000\n",
       "max        100.000000\n",
       "Name: ceiling_height, dtype: float64"
      ]
     },
     "execution_count": 4,
     "metadata": {},
     "output_type": "execute_result"
    }
   ],
   "source": [
    "data['ceiling_height'].describe()"
   ]
  },
  {
   "cell_type": "markdown",
   "metadata": {},
   "source": [
    "Значения медианы и среднего близки друг к другу и в целом похожи на правду. Заменим пропуски средним значением по столбцу."
   ]
  },
  {
   "cell_type": "code",
   "execution_count": 5,
   "metadata": {},
   "outputs": [],
   "source": [
    "data['ceiling_height'] = data['ceiling_height'].fillna(data['ceiling_height'].mean())"
   ]
  },
  {
   "cell_type": "code",
   "execution_count": 6,
   "metadata": {},
   "outputs": [
    {
     "data": {
      "text/plain": [
       "0"
      ]
     },
     "execution_count": 6,
     "metadata": {},
     "output_type": "execute_result"
    }
   ],
   "source": [
    "data['ceiling_height'].isnull().sum()"
   ]
  },
  {
   "cell_type": "markdown",
   "metadata": {},
   "source": [
    "От пропущенных значений здесь избавились."
   ]
  },
  {
   "cell_type": "markdown",
   "metadata": {},
   "source": [
    "Проверим, сколько пропусков в столбце `floors_total` (всего этажей в доме)."
   ]
  },
  {
   "cell_type": "code",
   "execution_count": 7,
   "metadata": {},
   "outputs": [
    {
     "data": {
      "text/plain": [
       "86"
      ]
     },
     "execution_count": 7,
     "metadata": {},
     "output_type": "execute_result"
    }
   ],
   "source": [
    "data['floors_total'].isnull().sum()"
   ]
  },
  {
   "cell_type": "code",
   "execution_count": 8,
   "metadata": {},
   "outputs": [
    {
     "data": {
      "text/plain": [
       "count    23613.000000\n",
       "mean        10.673824\n",
       "std          6.597173\n",
       "min          1.000000\n",
       "25%          5.000000\n",
       "50%          9.000000\n",
       "75%         16.000000\n",
       "max         60.000000\n",
       "Name: floors_total, dtype: float64"
      ]
     },
     "execution_count": 8,
     "metadata": {},
     "output_type": "execute_result"
    }
   ],
   "source": [
    "data['floors_total'].describe()"
   ]
  },
  {
   "cell_type": "markdown",
   "metadata": {},
   "source": [
    "Пропусков совсем немного, заменим их медианой."
   ]
  },
  {
   "cell_type": "code",
   "execution_count": 9,
   "metadata": {},
   "outputs": [],
   "source": [
    "data['floors_total'] = data['floors_total'].fillna(data['floors_total'].median())"
   ]
  },
  {
   "cell_type": "code",
   "execution_count": 10,
   "metadata": {
    "scrolled": true
   },
   "outputs": [
    {
     "data": {
      "text/plain": [
       "0"
      ]
     },
     "execution_count": 10,
     "metadata": {},
     "output_type": "execute_result"
    }
   ],
   "source": [
    "data['floors_total'].isnull().sum()"
   ]
  },
  {
   "cell_type": "markdown",
   "metadata": {},
   "source": [
    "От пропусков в этом столбце мы избавились. Но обратим внимание на тип данных - `float64`. Так как число этажей в доме всегда целое число, заменим этот тип на `int64`."
   ]
  },
  {
   "cell_type": "code",
   "execution_count": 11,
   "metadata": {},
   "outputs": [],
   "source": [
    "data['floors_total'] = data['floors_total'].astype('int')"
   ]
  },
  {
   "cell_type": "code",
   "execution_count": 12,
   "metadata": {},
   "outputs": [
    {
     "name": "stdout",
     "output_type": "stream",
     "text": [
      "<class 'pandas.core.frame.DataFrame'>\n",
      "RangeIndex: 23699 entries, 0 to 23698\n",
      "Data columns (total 22 columns):\n",
      "total_images            23699 non-null int64\n",
      "last_price              23699 non-null float64\n",
      "total_area              23699 non-null float64\n",
      "first_day_exposition    23699 non-null object\n",
      "rooms                   23699 non-null int64\n",
      "ceiling_height          23699 non-null float64\n",
      "floors_total            23699 non-null int64\n",
      "living_area             21796 non-null float64\n",
      "floor                   23699 non-null int64\n",
      "is_apartment            2775 non-null object\n",
      "studio                  23699 non-null bool\n",
      "open_plan               23699 non-null bool\n",
      "kitchen_area            21421 non-null float64\n",
      "balcony                 12180 non-null float64\n",
      "locality_name           23650 non-null object\n",
      "airports_nearest        18157 non-null float64\n",
      "cityCenters_nearest     18180 non-null float64\n",
      "parks_around3000        18181 non-null float64\n",
      "parks_nearest           8079 non-null float64\n",
      "ponds_around3000        18181 non-null float64\n",
      "ponds_nearest           9110 non-null float64\n",
      "days_exposition         20518 non-null float64\n",
      "dtypes: bool(2), float64(13), int64(4), object(3)\n",
      "memory usage: 3.7+ MB\n"
     ]
    }
   ],
   "source": [
    "data.info()"
   ]
  },
  {
   "cell_type": "markdown",
   "metadata": {},
   "source": [
    "Видим, что тип данных столбца `floors_total` изменился, а количество пропусков уменьшается. Посмотрим теперь на столбец `living_area` (жилая площадь в квадратных метрах(м²))."
   ]
  },
  {
   "cell_type": "code",
   "execution_count": 13,
   "metadata": {},
   "outputs": [
    {
     "data": {
      "text/plain": [
       "1903"
      ]
     },
     "execution_count": 13,
     "metadata": {},
     "output_type": "execute_result"
    }
   ],
   "source": [
    "data['living_area'].isnull().sum() "
   ]
  },
  {
   "cell_type": "code",
   "execution_count": 14,
   "metadata": {},
   "outputs": [
    {
     "data": {
      "text/plain": [
       "count    21796.000000\n",
       "mean        34.457852\n",
       "std         22.030445\n",
       "min          2.000000\n",
       "25%         18.600000\n",
       "50%         30.000000\n",
       "75%         42.300000\n",
       "max        409.700000\n",
       "Name: living_area, dtype: float64"
      ]
     },
     "execution_count": 14,
     "metadata": {},
     "output_type": "execute_result"
    }
   ],
   "source": [
    "data['living_area'].describe()"
   ]
  },
  {
   "cell_type": "markdown",
   "metadata": {},
   "source": [
    "Пропусков немного, а среднее похоже на адекватный размер жилой площади квартиры. Заменим им пропущенные значения."
   ]
  },
  {
   "cell_type": "code",
   "execution_count": 15,
   "metadata": {},
   "outputs": [],
   "source": [
    "data['living_area'] = data['living_area'].fillna(data['living_area'].mean())"
   ]
  },
  {
   "cell_type": "code",
   "execution_count": 16,
   "metadata": {},
   "outputs": [
    {
     "data": {
      "text/plain": [
       "0"
      ]
     },
     "execution_count": 16,
     "metadata": {},
     "output_type": "execute_result"
    }
   ],
   "source": [
    "data['living_area'].isnull().sum() "
   ]
  },
  {
   "cell_type": "markdown",
   "metadata": {},
   "source": [
    "Теперь посмотрим на столбец `is_apartment`, значения которого принимают `False` либо `True`."
   ]
  },
  {
   "cell_type": "code",
   "execution_count": 17,
   "metadata": {},
   "outputs": [
    {
     "data": {
      "text/plain": [
       "20924"
      ]
     },
     "execution_count": 17,
     "metadata": {},
     "output_type": "execute_result"
    }
   ],
   "source": [
    "data['is_apartment'].isnull().sum()"
   ]
  },
  {
   "cell_type": "code",
   "execution_count": 18,
   "metadata": {},
   "outputs": [
    {
     "data": {
      "text/plain": [
       "False    2725\n",
       "True       50\n",
       "Name: is_apartment, dtype: int64"
      ]
     },
     "execution_count": 18,
     "metadata": {},
     "output_type": "execute_result"
    }
   ],
   "source": [
    "data['is_apartment'].value_counts()"
   ]
  },
  {
   "cell_type": "markdown",
   "metadata": {},
   "source": [
    "Пропусков очень много. исходя из тех данных, которые есть, можно предположить, что большинство пропусков в целом приняли бы значение `False`, но точно мы этого знать не можем. \n",
    "Поэтому оставим этот столбец как есть. \n",
    "Тип данных с `object` на `bool` пока менять тоже не будем, иначе все пропуски заменятся на `True`."
   ]
  },
  {
   "cell_type": "markdown",
   "metadata": {},
   "source": [
    "В столбце `kitchen_area` тоже есть пропуски. Посмотрим подробнее и поступим по той же аналогии, что и со столбцом `living_area`."
   ]
  },
  {
   "cell_type": "code",
   "execution_count": 19,
   "metadata": {},
   "outputs": [
    {
     "data": {
      "text/plain": [
       "2278"
      ]
     },
     "execution_count": 19,
     "metadata": {},
     "output_type": "execute_result"
    }
   ],
   "source": [
    "data['kitchen_area'].isnull().sum() "
   ]
  },
  {
   "cell_type": "code",
   "execution_count": 20,
   "metadata": {},
   "outputs": [
    {
     "data": {
      "text/plain": [
       "count    21421.000000\n",
       "mean        10.569807\n",
       "std          5.905438\n",
       "min          1.300000\n",
       "25%          7.000000\n",
       "50%          9.100000\n",
       "75%         12.000000\n",
       "max        112.000000\n",
       "Name: kitchen_area, dtype: float64"
      ]
     },
     "execution_count": 20,
     "metadata": {},
     "output_type": "execute_result"
    }
   ],
   "source": [
    "data['kitchen_area'].describe()"
   ]
  },
  {
   "cell_type": "code",
   "execution_count": 21,
   "metadata": {},
   "outputs": [],
   "source": [
    "data['kitchen_area'] = data['kitchen_area'].fillna(data['kitchen_area'].mean())"
   ]
  },
  {
   "cell_type": "code",
   "execution_count": 22,
   "metadata": {},
   "outputs": [
    {
     "data": {
      "text/plain": [
       "0"
      ]
     },
     "execution_count": 22,
     "metadata": {},
     "output_type": "execute_result"
    }
   ],
   "source": [
    "data['kitchen_area'].isnull().sum() "
   ]
  },
  {
   "cell_type": "markdown",
   "metadata": {},
   "source": [
    "Следующие пропуски нас ждут в столбце `balcony`. "
   ]
  },
  {
   "cell_type": "code",
   "execution_count": 23,
   "metadata": {},
   "outputs": [
    {
     "data": {
      "text/plain": [
       "11519"
      ]
     },
     "execution_count": 23,
     "metadata": {},
     "output_type": "execute_result"
    }
   ],
   "source": [
    "data['balcony'].isnull().sum()"
   ]
  },
  {
   "cell_type": "markdown",
   "metadata": {},
   "source": [
    "Пропусков много, предположим, что пропущенные значения означают отсутствие балконов. Заменим пропуски здесь на `0`."
   ]
  },
  {
   "cell_type": "code",
   "execution_count": 24,
   "metadata": {},
   "outputs": [],
   "source": [
    "data['balcony'] = data['balcony'].fillna(0)"
   ]
  },
  {
   "cell_type": "code",
   "execution_count": 25,
   "metadata": {},
   "outputs": [
    {
     "data": {
      "text/plain": [
       "0"
      ]
     },
     "execution_count": 25,
     "metadata": {},
     "output_type": "execute_result"
    }
   ],
   "source": [
    "data['balcony'].isnull().sum()"
   ]
  },
  {
   "cell_type": "markdown",
   "metadata": {},
   "source": [
    "От пропусков избавились, теперь заменим тип данных этого столбца на `int`, т.к. количество балконов - целое число."
   ]
  },
  {
   "cell_type": "code",
   "execution_count": 26,
   "metadata": {},
   "outputs": [],
   "source": [
    "data['balcony'] = data['balcony'].astype('int')"
   ]
  },
  {
   "cell_type": "code",
   "execution_count": 27,
   "metadata": {},
   "outputs": [
    {
     "name": "stdout",
     "output_type": "stream",
     "text": [
      "<class 'pandas.core.frame.DataFrame'>\n",
      "RangeIndex: 23699 entries, 0 to 23698\n",
      "Data columns (total 22 columns):\n",
      "total_images            23699 non-null int64\n",
      "last_price              23699 non-null float64\n",
      "total_area              23699 non-null float64\n",
      "first_day_exposition    23699 non-null object\n",
      "rooms                   23699 non-null int64\n",
      "ceiling_height          23699 non-null float64\n",
      "floors_total            23699 non-null int64\n",
      "living_area             23699 non-null float64\n",
      "floor                   23699 non-null int64\n",
      "is_apartment            2775 non-null object\n",
      "studio                  23699 non-null bool\n",
      "open_plan               23699 non-null bool\n",
      "kitchen_area            23699 non-null float64\n",
      "balcony                 23699 non-null int64\n",
      "locality_name           23650 non-null object\n",
      "airports_nearest        18157 non-null float64\n",
      "cityCenters_nearest     18180 non-null float64\n",
      "parks_around3000        18181 non-null float64\n",
      "parks_nearest           8079 non-null float64\n",
      "ponds_around3000        18181 non-null float64\n",
      "ponds_nearest           9110 non-null float64\n",
      "days_exposition         20518 non-null float64\n",
      "dtypes: bool(2), float64(12), int64(5), object(3)\n",
      "memory usage: 3.7+ MB\n"
     ]
    }
   ],
   "source": [
    "data.info()"
   ]
  },
  {
   "cell_type": "markdown",
   "metadata": {},
   "source": [
    "Незначительное количество пропусков присутствует в столбце `locality_name` (название населённого пункта)."
   ]
  },
  {
   "cell_type": "code",
   "execution_count": 28,
   "metadata": {},
   "outputs": [
    {
     "data": {
      "text/plain": [
       "49"
      ]
     },
     "execution_count": 28,
     "metadata": {},
     "output_type": "execute_result"
    }
   ],
   "source": [
    "data['locality_name'].isnull().sum()"
   ]
  },
  {
   "cell_type": "code",
   "execution_count": 29,
   "metadata": {},
   "outputs": [
    {
     "data": {
      "text/plain": [
       "Санкт-Петербург                               15721\n",
       "посёлок Мурино                                  522\n",
       "посёлок Шушары                                  440\n",
       "Всеволожск                                      398\n",
       "Пушкин                                          369\n",
       "                                              ...  \n",
       "посёлок Коробицыно                                1\n",
       "поселок городского типа Рябово                    1\n",
       "садовое товарищество Приладожский                 1\n",
       "поселок станции Корнево                           1\n",
       "посёлок при железнодорожной станции Вещево        1\n",
       "Name: locality_name, Length: 364, dtype: int64"
      ]
     },
     "execution_count": 29,
     "metadata": {},
     "output_type": "execute_result"
    }
   ],
   "source": [
    "data['locality_name'].value_counts()"
   ]
  },
  {
   "cell_type": "markdown",
   "metadata": {},
   "source": [
    "Так как пропусков совсем мало, а подавляющее число значений в столбце - `Санкт-Петербург`, то заменим их на это значение."
   ]
  },
  {
   "cell_type": "code",
   "execution_count": 30,
   "metadata": {},
   "outputs": [],
   "source": [
    "data['locality_name'] = data['locality_name'].fillna('Санкт-Петербург')"
   ]
  },
  {
   "cell_type": "code",
   "execution_count": 31,
   "metadata": {},
   "outputs": [
    {
     "data": {
      "text/plain": [
       "Санкт-Петербург                               15770\n",
       "посёлок Мурино                                  522\n",
       "посёлок Шушары                                  440\n",
       "Всеволожск                                      398\n",
       "Пушкин                                          369\n",
       "                                              ...  \n",
       "посёлок Коробицыно                                1\n",
       "поселок городского типа Рябово                    1\n",
       "садовое товарищество Приладожский                 1\n",
       "поселок станции Корнево                           1\n",
       "посёлок при железнодорожной станции Вещево        1\n",
       "Name: locality_name, Length: 364, dtype: int64"
      ]
     },
     "execution_count": 31,
     "metadata": {},
     "output_type": "execute_result"
    }
   ],
   "source": [
    "data['locality_name'].value_counts()"
   ]
  },
  {
   "cell_type": "code",
   "execution_count": 32,
   "metadata": {},
   "outputs": [
    {
     "data": {
      "text/plain": [
       "0"
      ]
     },
     "execution_count": 32,
     "metadata": {},
     "output_type": "execute_result"
    }
   ],
   "source": [
    "data['locality_name'].isnull().sum()"
   ]
  },
  {
   "cell_type": "markdown",
   "metadata": {},
   "source": [
    "Видим, что пропусков не стало, они отправились в `Санкт-Петербург`."
   ]
  },
  {
   "cell_type": "markdown",
   "metadata": {},
   "source": [
    "Обратим внимание, что в столбцах `parks_around3000` и `ponds_around3000` одинаковое количество пропусков. Скорее всего они взаимосвязаны. Это можно объяснить тем, что, как правило, водоёмы находятся на территории парков. И, наоборот, парки зачастую находятся недалеко от водоёмов. Также отсутствующие значения могут означать, что парки и водоёмы в радиусе 3 км отсутствуют вовсе. Поэтому заменим пропуски в обоих столбцах нулями."
   ]
  },
  {
   "cell_type": "code",
   "execution_count": 33,
   "metadata": {},
   "outputs": [],
   "source": [
    "data['parks_around3000'] = data['parks_around3000'].fillna(0)\n",
    "data['ponds_around3000'] = data['ponds_around3000'].fillna(0)"
   ]
  },
  {
   "cell_type": "markdown",
   "metadata": {},
   "source": [
    "Поменяем типы данных в этих столбцах на `int`, т.к. количества парков и озёр - целые числа."
   ]
  },
  {
   "cell_type": "code",
   "execution_count": 34,
   "metadata": {},
   "outputs": [],
   "source": [
    "data['parks_around3000'] = data['parks_around3000'].astype('int')\n",
    "data['ponds_around3000'] = data['ponds_around3000'].astype('int')"
   ]
  },
  {
   "cell_type": "code",
   "execution_count": 35,
   "metadata": {},
   "outputs": [
    {
     "data": {
      "text/plain": [
       "total_images                0\n",
       "last_price                  0\n",
       "total_area                  0\n",
       "first_day_exposition        0\n",
       "rooms                       0\n",
       "ceiling_height              0\n",
       "floors_total                0\n",
       "living_area                 0\n",
       "floor                       0\n",
       "is_apartment            20924\n",
       "studio                      0\n",
       "open_plan                   0\n",
       "kitchen_area                0\n",
       "balcony                     0\n",
       "locality_name               0\n",
       "airports_nearest         5542\n",
       "cityCenters_nearest      5519\n",
       "parks_around3000            0\n",
       "parks_nearest           15620\n",
       "ponds_around3000            0\n",
       "ponds_nearest           14589\n",
       "days_exposition          3181\n",
       "dtype: int64"
      ]
     },
     "execution_count": 35,
     "metadata": {},
     "output_type": "execute_result"
    }
   ],
   "source": [
    "data.isnull().sum()"
   ]
  },
  {
   "cell_type": "markdown",
   "metadata": {},
   "source": [
    "Посмотрим на столбцы `airports_nearest` и `cityCenters_nearest`. Мы можем заменить пропуски здесь медианным значением, но чтобы сделать это точнее, добавим в наш датафрейм новый столбец, где населенным пунктам присвоим значения `Санкт-Петербург` либо `Ленинградская область`. "
   ]
  },
  {
   "cell_type": "code",
   "execution_count": 36,
   "metadata": {},
   "outputs": [],
   "source": [
    "def spb_or_not(locality_name):\n",
    "    if locality_name == 'Санкт-Петербург':\n",
    "        return 'Санкт-Петербург'\n",
    "    return 'Ленинградская область'"
   ]
  },
  {
   "cell_type": "code",
   "execution_count": 37,
   "metadata": {},
   "outputs": [],
   "source": [
    "data['spb_or_not'] = data['locality_name'].apply(spb_or_not)"
   ]
  },
  {
   "cell_type": "code",
   "execution_count": 38,
   "metadata": {},
   "outputs": [
    {
     "data": {
      "text/html": [
       "<div>\n",
       "<style scoped>\n",
       "    .dataframe tbody tr th:only-of-type {\n",
       "        vertical-align: middle;\n",
       "    }\n",
       "\n",
       "    .dataframe tbody tr th {\n",
       "        vertical-align: top;\n",
       "    }\n",
       "\n",
       "    .dataframe thead th {\n",
       "        text-align: right;\n",
       "    }\n",
       "</style>\n",
       "<table border=\"1\" class=\"dataframe\">\n",
       "  <thead>\n",
       "    <tr style=\"text-align: right;\">\n",
       "      <th></th>\n",
       "      <th>total_images</th>\n",
       "      <th>last_price</th>\n",
       "      <th>total_area</th>\n",
       "      <th>first_day_exposition</th>\n",
       "      <th>rooms</th>\n",
       "      <th>ceiling_height</th>\n",
       "      <th>floors_total</th>\n",
       "      <th>living_area</th>\n",
       "      <th>floor</th>\n",
       "      <th>is_apartment</th>\n",
       "      <th>...</th>\n",
       "      <th>balcony</th>\n",
       "      <th>locality_name</th>\n",
       "      <th>airports_nearest</th>\n",
       "      <th>cityCenters_nearest</th>\n",
       "      <th>parks_around3000</th>\n",
       "      <th>parks_nearest</th>\n",
       "      <th>ponds_around3000</th>\n",
       "      <th>ponds_nearest</th>\n",
       "      <th>days_exposition</th>\n",
       "      <th>spb_or_not</th>\n",
       "    </tr>\n",
       "  </thead>\n",
       "  <tbody>\n",
       "    <tr>\n",
       "      <td>0</td>\n",
       "      <td>20</td>\n",
       "      <td>13000000.0</td>\n",
       "      <td>108.0</td>\n",
       "      <td>2019-03-07T00:00:00</td>\n",
       "      <td>3</td>\n",
       "      <td>2.700000</td>\n",
       "      <td>16</td>\n",
       "      <td>51.000000</td>\n",
       "      <td>8</td>\n",
       "      <td>NaN</td>\n",
       "      <td>...</td>\n",
       "      <td>0</td>\n",
       "      <td>Санкт-Петербург</td>\n",
       "      <td>18863.0</td>\n",
       "      <td>16028.0</td>\n",
       "      <td>1</td>\n",
       "      <td>482.0</td>\n",
       "      <td>2</td>\n",
       "      <td>755.0</td>\n",
       "      <td>NaN</td>\n",
       "      <td>Санкт-Петербург</td>\n",
       "    </tr>\n",
       "    <tr>\n",
       "      <td>1</td>\n",
       "      <td>7</td>\n",
       "      <td>3350000.0</td>\n",
       "      <td>40.4</td>\n",
       "      <td>2018-12-04T00:00:00</td>\n",
       "      <td>1</td>\n",
       "      <td>2.771499</td>\n",
       "      <td>11</td>\n",
       "      <td>18.600000</td>\n",
       "      <td>1</td>\n",
       "      <td>NaN</td>\n",
       "      <td>...</td>\n",
       "      <td>2</td>\n",
       "      <td>посёлок Шушары</td>\n",
       "      <td>12817.0</td>\n",
       "      <td>18603.0</td>\n",
       "      <td>0</td>\n",
       "      <td>NaN</td>\n",
       "      <td>0</td>\n",
       "      <td>NaN</td>\n",
       "      <td>81.0</td>\n",
       "      <td>Ленинградская область</td>\n",
       "    </tr>\n",
       "    <tr>\n",
       "      <td>2</td>\n",
       "      <td>10</td>\n",
       "      <td>5196000.0</td>\n",
       "      <td>56.0</td>\n",
       "      <td>2015-08-20T00:00:00</td>\n",
       "      <td>2</td>\n",
       "      <td>2.771499</td>\n",
       "      <td>5</td>\n",
       "      <td>34.300000</td>\n",
       "      <td>4</td>\n",
       "      <td>NaN</td>\n",
       "      <td>...</td>\n",
       "      <td>0</td>\n",
       "      <td>Санкт-Петербург</td>\n",
       "      <td>21741.0</td>\n",
       "      <td>13933.0</td>\n",
       "      <td>1</td>\n",
       "      <td>90.0</td>\n",
       "      <td>2</td>\n",
       "      <td>574.0</td>\n",
       "      <td>558.0</td>\n",
       "      <td>Санкт-Петербург</td>\n",
       "    </tr>\n",
       "    <tr>\n",
       "      <td>3</td>\n",
       "      <td>0</td>\n",
       "      <td>64900000.0</td>\n",
       "      <td>159.0</td>\n",
       "      <td>2015-07-24T00:00:00</td>\n",
       "      <td>3</td>\n",
       "      <td>2.771499</td>\n",
       "      <td>14</td>\n",
       "      <td>34.457852</td>\n",
       "      <td>9</td>\n",
       "      <td>NaN</td>\n",
       "      <td>...</td>\n",
       "      <td>0</td>\n",
       "      <td>Санкт-Петербург</td>\n",
       "      <td>28098.0</td>\n",
       "      <td>6800.0</td>\n",
       "      <td>2</td>\n",
       "      <td>84.0</td>\n",
       "      <td>3</td>\n",
       "      <td>234.0</td>\n",
       "      <td>424.0</td>\n",
       "      <td>Санкт-Петербург</td>\n",
       "    </tr>\n",
       "    <tr>\n",
       "      <td>4</td>\n",
       "      <td>2</td>\n",
       "      <td>10000000.0</td>\n",
       "      <td>100.0</td>\n",
       "      <td>2018-06-19T00:00:00</td>\n",
       "      <td>2</td>\n",
       "      <td>3.030000</td>\n",
       "      <td>14</td>\n",
       "      <td>32.000000</td>\n",
       "      <td>13</td>\n",
       "      <td>NaN</td>\n",
       "      <td>...</td>\n",
       "      <td>0</td>\n",
       "      <td>Санкт-Петербург</td>\n",
       "      <td>31856.0</td>\n",
       "      <td>8098.0</td>\n",
       "      <td>2</td>\n",
       "      <td>112.0</td>\n",
       "      <td>1</td>\n",
       "      <td>48.0</td>\n",
       "      <td>121.0</td>\n",
       "      <td>Санкт-Петербург</td>\n",
       "    </tr>\n",
       "  </tbody>\n",
       "</table>\n",
       "<p>5 rows × 23 columns</p>\n",
       "</div>"
      ],
      "text/plain": [
       "   total_images  last_price  total_area first_day_exposition  rooms  \\\n",
       "0            20  13000000.0       108.0  2019-03-07T00:00:00      3   \n",
       "1             7   3350000.0        40.4  2018-12-04T00:00:00      1   \n",
       "2            10   5196000.0        56.0  2015-08-20T00:00:00      2   \n",
       "3             0  64900000.0       159.0  2015-07-24T00:00:00      3   \n",
       "4             2  10000000.0       100.0  2018-06-19T00:00:00      2   \n",
       "\n",
       "   ceiling_height  floors_total  living_area  floor is_apartment  ...  \\\n",
       "0        2.700000            16    51.000000      8          NaN  ...   \n",
       "1        2.771499            11    18.600000      1          NaN  ...   \n",
       "2        2.771499             5    34.300000      4          NaN  ...   \n",
       "3        2.771499            14    34.457852      9          NaN  ...   \n",
       "4        3.030000            14    32.000000     13          NaN  ...   \n",
       "\n",
       "   balcony    locality_name  airports_nearest  cityCenters_nearest  \\\n",
       "0        0  Санкт-Петербург           18863.0              16028.0   \n",
       "1        2   посёлок Шушары           12817.0              18603.0   \n",
       "2        0  Санкт-Петербург           21741.0              13933.0   \n",
       "3        0  Санкт-Петербург           28098.0               6800.0   \n",
       "4        0  Санкт-Петербург           31856.0               8098.0   \n",
       "\n",
       "  parks_around3000  parks_nearest  ponds_around3000  ponds_nearest  \\\n",
       "0                1          482.0                 2          755.0   \n",
       "1                0            NaN                 0            NaN   \n",
       "2                1           90.0                 2          574.0   \n",
       "3                2           84.0                 3          234.0   \n",
       "4                2          112.0                 1           48.0   \n",
       "\n",
       "   days_exposition             spb_or_not  \n",
       "0              NaN        Санкт-Петербург  \n",
       "1             81.0  Ленинградская область  \n",
       "2            558.0        Санкт-Петербург  \n",
       "3            424.0        Санкт-Петербург  \n",
       "4            121.0        Санкт-Петербург  \n",
       "\n",
       "[5 rows x 23 columns]"
      ]
     },
     "execution_count": 38,
     "metadata": {},
     "output_type": "execute_result"
    }
   ],
   "source": [
    "data.head()"
   ]
  },
  {
   "cell_type": "markdown",
   "metadata": {},
   "source": [
    "Новый столбец `spb_or_not` готов. Городу Санкт-Петербургу соответствуют значения `Санкт-Петербург`, для остальных населённых пунктов значение `Ленинградская область`."
   ]
  },
  {
   "cell_type": "markdown",
   "metadata": {},
   "source": [
    "Теперь построим сводные таблицы, чтобы посмотреть, как различаются медианные значения `airports_nearest` и `cityCenters_nearest` для Петербурга и Ленинградской области"
   ]
  },
  {
   "cell_type": "code",
   "execution_count": 39,
   "metadata": {},
   "outputs": [
    {
     "data": {
      "text/html": [
       "<div>\n",
       "<style scoped>\n",
       "    .dataframe tbody tr th:only-of-type {\n",
       "        vertical-align: middle;\n",
       "    }\n",
       "\n",
       "    .dataframe tbody tr th {\n",
       "        vertical-align: top;\n",
       "    }\n",
       "\n",
       "    .dataframe thead th {\n",
       "        text-align: right;\n",
       "    }\n",
       "</style>\n",
       "<table border=\"1\" class=\"dataframe\">\n",
       "  <thead>\n",
       "    <tr style=\"text-align: right;\">\n",
       "      <th></th>\n",
       "      <th>airports_nearest</th>\n",
       "    </tr>\n",
       "    <tr>\n",
       "      <th>spb_or_not</th>\n",
       "      <th></th>\n",
       "    </tr>\n",
       "  </thead>\n",
       "  <tbody>\n",
       "    <tr>\n",
       "      <td>Ленинградская область</td>\n",
       "      <td>26739.5</td>\n",
       "    </tr>\n",
       "    <tr>\n",
       "      <td>Санкт-Петербург</td>\n",
       "      <td>26726.0</td>\n",
       "    </tr>\n",
       "  </tbody>\n",
       "</table>\n",
       "</div>"
      ],
      "text/plain": [
       "                       airports_nearest\n",
       "spb_or_not                             \n",
       "Ленинградская область           26739.5\n",
       "Санкт-Петербург                 26726.0"
      ]
     },
     "execution_count": 39,
     "metadata": {},
     "output_type": "execute_result"
    }
   ],
   "source": [
    "airports_nearest_pvt = data.pivot_table(index='spb_or_not', values='airports_nearest', aggfunc='median')\n",
    "airports_nearest_pvt"
   ]
  },
  {
   "cell_type": "code",
   "execution_count": 40,
   "metadata": {},
   "outputs": [
    {
     "data": {
      "text/html": [
       "<div>\n",
       "<style scoped>\n",
       "    .dataframe tbody tr th:only-of-type {\n",
       "        vertical-align: middle;\n",
       "    }\n",
       "\n",
       "    .dataframe tbody tr th {\n",
       "        vertical-align: top;\n",
       "    }\n",
       "\n",
       "    .dataframe thead th {\n",
       "        text-align: right;\n",
       "    }\n",
       "</style>\n",
       "<table border=\"1\" class=\"dataframe\">\n",
       "  <thead>\n",
       "    <tr style=\"text-align: right;\">\n",
       "      <th></th>\n",
       "      <th>cityCenters_nearest</th>\n",
       "    </tr>\n",
       "    <tr>\n",
       "      <th>spb_or_not</th>\n",
       "      <th></th>\n",
       "    </tr>\n",
       "  </thead>\n",
       "  <tbody>\n",
       "    <tr>\n",
       "      <td>Ленинградская область</td>\n",
       "      <td>30371.0</td>\n",
       "    </tr>\n",
       "    <tr>\n",
       "      <td>Санкт-Петербург</td>\n",
       "      <td>12243.0</td>\n",
       "    </tr>\n",
       "  </tbody>\n",
       "</table>\n",
       "</div>"
      ],
      "text/plain": [
       "                       cityCenters_nearest\n",
       "spb_or_not                                \n",
       "Ленинградская область              30371.0\n",
       "Санкт-Петербург                    12243.0"
      ]
     },
     "execution_count": 40,
     "metadata": {},
     "output_type": "execute_result"
    }
   ],
   "source": [
    "cityCenters_nearest_pvt = data.pivot_table(index='spb_or_not', values='cityCenters_nearest', aggfunc='median')\n",
    "cityCenters_nearest_pvt"
   ]
  },
  {
   "cell_type": "markdown",
   "metadata": {},
   "source": [
    "В случае с расстоянием до аэропорта можно было бы сразу заполнить пропуски медианным значением, так как разницы в цифрах практически нет. А вот в случае с расстоянием до центра города разница большая. Заполним пропуски в обоих столбцах с учётом нового `spb_or_not` и проверим наличие оставшихся пропусков в таблице."
   ]
  },
  {
   "cell_type": "code",
   "execution_count": 41,
   "metadata": {},
   "outputs": [],
   "source": [
    "def median_airports_nearest(spb_or_not):\n",
    "    return data.loc[data['spb_or_not'] == spb_or_not, 'airports_nearest'].median()"
   ]
  },
  {
   "cell_type": "code",
   "execution_count": 42,
   "metadata": {},
   "outputs": [],
   "source": [
    "data.loc[(data['airports_nearest'].isnull()) & (data['spb_or_not'] == 'Санкт-Петербург'), 'airports_nearest'] = median_airports_nearest('Санкт-Петербург')"
   ]
  },
  {
   "cell_type": "code",
   "execution_count": 43,
   "metadata": {},
   "outputs": [],
   "source": [
    "data.loc[(data['airports_nearest'].isnull()) & (data['spb_or_not'] == 'Ленинградская область'), 'airports_nearest'] = median_airports_nearest('Ленинградская область')"
   ]
  },
  {
   "cell_type": "code",
   "execution_count": 44,
   "metadata": {},
   "outputs": [],
   "source": [
    "def median_cityCenters_nearest(spb_or_not):\n",
    "    return data.loc[data['spb_or_not'] == spb_or_not, 'cityCenters_nearest'].median()"
   ]
  },
  {
   "cell_type": "code",
   "execution_count": 45,
   "metadata": {},
   "outputs": [],
   "source": [
    "data.loc[(data['cityCenters_nearest'].isnull()) & (data['spb_or_not'] == 'Санкт-Петербург'), 'cityCenters_nearest'] = median_cityCenters_nearest('Санкт-Петербург')"
   ]
  },
  {
   "cell_type": "code",
   "execution_count": 46,
   "metadata": {},
   "outputs": [],
   "source": [
    "data.loc[(data['cityCenters_nearest'].isnull()) & (data['spb_or_not'] == 'Ленинградская область'), 'cityCenters_nearest'] = median_cityCenters_nearest('Ленинградская область')"
   ]
  },
  {
   "cell_type": "code",
   "execution_count": 47,
   "metadata": {},
   "outputs": [
    {
     "data": {
      "text/plain": [
       "total_images                0\n",
       "last_price                  0\n",
       "total_area                  0\n",
       "first_day_exposition        0\n",
       "rooms                       0\n",
       "ceiling_height              0\n",
       "floors_total                0\n",
       "living_area                 0\n",
       "floor                       0\n",
       "is_apartment            20924\n",
       "studio                      0\n",
       "open_plan                   0\n",
       "kitchen_area                0\n",
       "balcony                     0\n",
       "locality_name               0\n",
       "airports_nearest            0\n",
       "cityCenters_nearest         0\n",
       "parks_around3000            0\n",
       "parks_nearest           15620\n",
       "ponds_around3000            0\n",
       "ponds_nearest           14589\n",
       "days_exposition          3181\n",
       "spb_or_not                  0\n",
       "dtype: int64"
      ]
     },
     "execution_count": 47,
     "metadata": {},
     "output_type": "execute_result"
    }
   ],
   "source": [
    "data.isnull().sum()"
   ]
  },
  {
   "cell_type": "markdown",
   "metadata": {},
   "source": [
    "Замена прошла успешно. В оставшихся столбцах `parks_nearest`, `ponds_nearest` и `days_exposition` замену производить не будем. В первых двух случаях слишком много пропусков, чтобы полагаться на среднее/медиану. Мы можем внести в датафрейм много данных далёких от действительности. В отличие от расстояний до центра или аэропорта в данном случае может быть множество локальных парков/водоёмов. Нулями тоже заменять будет нецелесообразно, так как эти парки и водоёмы существуют, неизвестно лишь расстояние до них. "
   ]
  },
  {
   "cell_type": "markdown",
   "metadata": {},
   "source": [
    "Посмотрим информацию о последнем необработанном столбце с пропусками `days_exposition` (сколько дней было размещено объявление (от публикации до снятия))."
   ]
  },
  {
   "cell_type": "code",
   "execution_count": 48,
   "metadata": {},
   "outputs": [
    {
     "data": {
      "text/plain": [
       "count    20518.000000\n",
       "mean       180.888634\n",
       "std        219.727988\n",
       "min          1.000000\n",
       "25%         45.000000\n",
       "50%         95.000000\n",
       "75%        232.000000\n",
       "max       1580.000000\n",
       "Name: days_exposition, dtype: float64"
      ]
     },
     "execution_count": 48,
     "metadata": {},
     "output_type": "execute_result"
    }
   ],
   "source": [
    "data['days_exposition'].describe()"
   ]
  },
  {
   "cell_type": "markdown",
   "metadata": {},
   "source": [
    "Видим, что разброс значений здесь очень большой: от 1 до 1580 дней. Заменять средним/медианой/нулями будет нецелесообразным. У нас есть заполненный столбец с датами начала публикаций. Если бы был такой же, только с датами снятия публикаций, тогда мы смогли бы высчитать пропущенные значения в `days_exposition`. Но такого столбца нет, поэтому заполнять эти пропуски не будем."
   ]
  },
  {
   "cell_type": "markdown",
   "metadata": {},
   "source": [
    "### Вывод"
   ]
  },
  {
   "cell_type": "markdown",
   "metadata": {},
   "source": [
    "Мы обработали пропущенные значения в датафрейме и, где это можно было сделать, заполнили пропуски. В 4-х столбцах это сделать оказалось тяжелее ввиду отсутствия дополнительной информации. \n",
    "Также мы в некоторых столбцах заменили типы данных с `float64` на `int64`."
   ]
  },
  {
   "cell_type": "markdown",
   "metadata": {},
   "source": [
    "### Шаг 3. Посчитайте и добавьте в таблицу"
   ]
  },
  {
   "cell_type": "markdown",
   "metadata": {},
   "source": [
    "Посчитаем и добавим в таблицу цену квадратного метра."
   ]
  },
  {
   "cell_type": "code",
   "execution_count": 49,
   "metadata": {},
   "outputs": [
    {
     "data": {
      "text/plain": [
       "0        120370.370370\n",
       "1         82920.792079\n",
       "2         92785.714286\n",
       "3        408176.100629\n",
       "4        100000.000000\n",
       "             ...      \n",
       "23694     72490.845228\n",
       "23695     52542.372881\n",
       "23696     44091.710758\n",
       "23697    149511.400651\n",
       "23698     41795.665635\n",
       "Name: price_per_square, Length: 23699, dtype: float64"
      ]
     },
     "execution_count": 49,
     "metadata": {},
     "output_type": "execute_result"
    }
   ],
   "source": [
    "data['price_per_square'] = data['last_price']/data['total_area']\n",
    "data['price_per_square']"
   ]
  },
  {
   "cell_type": "markdown",
   "metadata": {},
   "source": [
    "Округлим значения и выведем первые 5 строк датафрейма."
   ]
  },
  {
   "cell_type": "code",
   "execution_count": 50,
   "metadata": {},
   "outputs": [
    {
     "data": {
      "text/plain": [
       "0        120370.0\n",
       "1         82921.0\n",
       "2         92786.0\n",
       "3        408176.0\n",
       "4        100000.0\n",
       "           ...   \n",
       "23694     72491.0\n",
       "23695     52542.0\n",
       "23696     44092.0\n",
       "23697    149511.0\n",
       "23698     41796.0\n",
       "Name: price_per_square, Length: 23699, dtype: float64"
      ]
     },
     "execution_count": 50,
     "metadata": {},
     "output_type": "execute_result"
    }
   ],
   "source": [
    "data['price_per_square'] = data['price_per_square'].round()\n",
    "data['price_per_square']"
   ]
  },
  {
   "cell_type": "code",
   "execution_count": 51,
   "metadata": {},
   "outputs": [
    {
     "data": {
      "text/html": [
       "<div>\n",
       "<style scoped>\n",
       "    .dataframe tbody tr th:only-of-type {\n",
       "        vertical-align: middle;\n",
       "    }\n",
       "\n",
       "    .dataframe tbody tr th {\n",
       "        vertical-align: top;\n",
       "    }\n",
       "\n",
       "    .dataframe thead th {\n",
       "        text-align: right;\n",
       "    }\n",
       "</style>\n",
       "<table border=\"1\" class=\"dataframe\">\n",
       "  <thead>\n",
       "    <tr style=\"text-align: right;\">\n",
       "      <th></th>\n",
       "      <th>total_images</th>\n",
       "      <th>last_price</th>\n",
       "      <th>total_area</th>\n",
       "      <th>first_day_exposition</th>\n",
       "      <th>rooms</th>\n",
       "      <th>ceiling_height</th>\n",
       "      <th>floors_total</th>\n",
       "      <th>living_area</th>\n",
       "      <th>floor</th>\n",
       "      <th>is_apartment</th>\n",
       "      <th>...</th>\n",
       "      <th>locality_name</th>\n",
       "      <th>airports_nearest</th>\n",
       "      <th>cityCenters_nearest</th>\n",
       "      <th>parks_around3000</th>\n",
       "      <th>parks_nearest</th>\n",
       "      <th>ponds_around3000</th>\n",
       "      <th>ponds_nearest</th>\n",
       "      <th>days_exposition</th>\n",
       "      <th>spb_or_not</th>\n",
       "      <th>price_per_square</th>\n",
       "    </tr>\n",
       "  </thead>\n",
       "  <tbody>\n",
       "    <tr>\n",
       "      <td>0</td>\n",
       "      <td>20</td>\n",
       "      <td>13000000.0</td>\n",
       "      <td>108.0</td>\n",
       "      <td>2019-03-07T00:00:00</td>\n",
       "      <td>3</td>\n",
       "      <td>2.700000</td>\n",
       "      <td>16</td>\n",
       "      <td>51.000000</td>\n",
       "      <td>8</td>\n",
       "      <td>NaN</td>\n",
       "      <td>...</td>\n",
       "      <td>Санкт-Петербург</td>\n",
       "      <td>18863.0</td>\n",
       "      <td>16028.0</td>\n",
       "      <td>1</td>\n",
       "      <td>482.0</td>\n",
       "      <td>2</td>\n",
       "      <td>755.0</td>\n",
       "      <td>NaN</td>\n",
       "      <td>Санкт-Петербург</td>\n",
       "      <td>120370.0</td>\n",
       "    </tr>\n",
       "    <tr>\n",
       "      <td>1</td>\n",
       "      <td>7</td>\n",
       "      <td>3350000.0</td>\n",
       "      <td>40.4</td>\n",
       "      <td>2018-12-04T00:00:00</td>\n",
       "      <td>1</td>\n",
       "      <td>2.771499</td>\n",
       "      <td>11</td>\n",
       "      <td>18.600000</td>\n",
       "      <td>1</td>\n",
       "      <td>NaN</td>\n",
       "      <td>...</td>\n",
       "      <td>посёлок Шушары</td>\n",
       "      <td>12817.0</td>\n",
       "      <td>18603.0</td>\n",
       "      <td>0</td>\n",
       "      <td>NaN</td>\n",
       "      <td>0</td>\n",
       "      <td>NaN</td>\n",
       "      <td>81.0</td>\n",
       "      <td>Ленинградская область</td>\n",
       "      <td>82921.0</td>\n",
       "    </tr>\n",
       "    <tr>\n",
       "      <td>2</td>\n",
       "      <td>10</td>\n",
       "      <td>5196000.0</td>\n",
       "      <td>56.0</td>\n",
       "      <td>2015-08-20T00:00:00</td>\n",
       "      <td>2</td>\n",
       "      <td>2.771499</td>\n",
       "      <td>5</td>\n",
       "      <td>34.300000</td>\n",
       "      <td>4</td>\n",
       "      <td>NaN</td>\n",
       "      <td>...</td>\n",
       "      <td>Санкт-Петербург</td>\n",
       "      <td>21741.0</td>\n",
       "      <td>13933.0</td>\n",
       "      <td>1</td>\n",
       "      <td>90.0</td>\n",
       "      <td>2</td>\n",
       "      <td>574.0</td>\n",
       "      <td>558.0</td>\n",
       "      <td>Санкт-Петербург</td>\n",
       "      <td>92786.0</td>\n",
       "    </tr>\n",
       "    <tr>\n",
       "      <td>3</td>\n",
       "      <td>0</td>\n",
       "      <td>64900000.0</td>\n",
       "      <td>159.0</td>\n",
       "      <td>2015-07-24T00:00:00</td>\n",
       "      <td>3</td>\n",
       "      <td>2.771499</td>\n",
       "      <td>14</td>\n",
       "      <td>34.457852</td>\n",
       "      <td>9</td>\n",
       "      <td>NaN</td>\n",
       "      <td>...</td>\n",
       "      <td>Санкт-Петербург</td>\n",
       "      <td>28098.0</td>\n",
       "      <td>6800.0</td>\n",
       "      <td>2</td>\n",
       "      <td>84.0</td>\n",
       "      <td>3</td>\n",
       "      <td>234.0</td>\n",
       "      <td>424.0</td>\n",
       "      <td>Санкт-Петербург</td>\n",
       "      <td>408176.0</td>\n",
       "    </tr>\n",
       "    <tr>\n",
       "      <td>4</td>\n",
       "      <td>2</td>\n",
       "      <td>10000000.0</td>\n",
       "      <td>100.0</td>\n",
       "      <td>2018-06-19T00:00:00</td>\n",
       "      <td>2</td>\n",
       "      <td>3.030000</td>\n",
       "      <td>14</td>\n",
       "      <td>32.000000</td>\n",
       "      <td>13</td>\n",
       "      <td>NaN</td>\n",
       "      <td>...</td>\n",
       "      <td>Санкт-Петербург</td>\n",
       "      <td>31856.0</td>\n",
       "      <td>8098.0</td>\n",
       "      <td>2</td>\n",
       "      <td>112.0</td>\n",
       "      <td>1</td>\n",
       "      <td>48.0</td>\n",
       "      <td>121.0</td>\n",
       "      <td>Санкт-Петербург</td>\n",
       "      <td>100000.0</td>\n",
       "    </tr>\n",
       "  </tbody>\n",
       "</table>\n",
       "<p>5 rows × 24 columns</p>\n",
       "</div>"
      ],
      "text/plain": [
       "   total_images  last_price  total_area first_day_exposition  rooms  \\\n",
       "0            20  13000000.0       108.0  2019-03-07T00:00:00      3   \n",
       "1             7   3350000.0        40.4  2018-12-04T00:00:00      1   \n",
       "2            10   5196000.0        56.0  2015-08-20T00:00:00      2   \n",
       "3             0  64900000.0       159.0  2015-07-24T00:00:00      3   \n",
       "4             2  10000000.0       100.0  2018-06-19T00:00:00      2   \n",
       "\n",
       "   ceiling_height  floors_total  living_area  floor is_apartment  ...  \\\n",
       "0        2.700000            16    51.000000      8          NaN  ...   \n",
       "1        2.771499            11    18.600000      1          NaN  ...   \n",
       "2        2.771499             5    34.300000      4          NaN  ...   \n",
       "3        2.771499            14    34.457852      9          NaN  ...   \n",
       "4        3.030000            14    32.000000     13          NaN  ...   \n",
       "\n",
       "     locality_name  airports_nearest  cityCenters_nearest  parks_around3000  \\\n",
       "0  Санкт-Петербург           18863.0              16028.0                 1   \n",
       "1   посёлок Шушары           12817.0              18603.0                 0   \n",
       "2  Санкт-Петербург           21741.0              13933.0                 1   \n",
       "3  Санкт-Петербург           28098.0               6800.0                 2   \n",
       "4  Санкт-Петербург           31856.0               8098.0                 2   \n",
       "\n",
       "  parks_nearest  ponds_around3000  ponds_nearest  days_exposition  \\\n",
       "0         482.0                 2          755.0              NaN   \n",
       "1           NaN                 0            NaN             81.0   \n",
       "2          90.0                 2          574.0            558.0   \n",
       "3          84.0                 3          234.0            424.0   \n",
       "4         112.0                 1           48.0            121.0   \n",
       "\n",
       "              spb_or_not  price_per_square  \n",
       "0        Санкт-Петербург          120370.0  \n",
       "1  Ленинградская область           82921.0  \n",
       "2        Санкт-Петербург           92786.0  \n",
       "3        Санкт-Петербург          408176.0  \n",
       "4        Санкт-Петербург          100000.0  \n",
       "\n",
       "[5 rows x 24 columns]"
      ]
     },
     "execution_count": 51,
     "metadata": {},
     "output_type": "execute_result"
    }
   ],
   "source": [
    "data.head()"
   ]
  },
  {
   "cell_type": "markdown",
   "metadata": {},
   "source": [
    "Приведём в порядок дни недели, месяцы и годы публикации объявлений."
   ]
  },
  {
   "cell_type": "code",
   "execution_count": 52,
   "metadata": {},
   "outputs": [
    {
     "data": {
      "text/plain": [
       "0       2019-03-07\n",
       "1       2018-12-04\n",
       "2       2015-08-20\n",
       "3       2015-07-24\n",
       "4       2018-06-19\n",
       "           ...    \n",
       "23694   2017-03-21\n",
       "23695   2018-01-15\n",
       "23696   2018-02-11\n",
       "23697   2017-03-28\n",
       "23698   2017-07-21\n",
       "Name: first_day_exposition, Length: 23699, dtype: datetime64[ns]"
      ]
     },
     "execution_count": 52,
     "metadata": {},
     "output_type": "execute_result"
    }
   ],
   "source": [
    "data['first_day_exposition'] = pd.to_datetime(data['first_day_exposition'], format='%Y-%m-%dT%H:%M:%S')\n",
    "data['first_day_exposition']"
   ]
  },
  {
   "cell_type": "markdown",
   "metadata": {},
   "source": [
    "Добавим в наш датафрейм отдельные столбцы с названиями дней и месяцев, а также отдельный столбец с годом."
   ]
  },
  {
   "cell_type": "code",
   "execution_count": 53,
   "metadata": {},
   "outputs": [],
   "source": [
    "data['weekday'] = data['first_day_exposition'].dt.day_name()\n",
    "data['month'] = data['first_day_exposition'].dt.month_name()\n",
    "data['year'] = data['first_day_exposition'].dt.year"
   ]
  },
  {
   "cell_type": "code",
   "execution_count": 54,
   "metadata": {},
   "outputs": [
    {
     "data": {
      "text/html": [
       "<div>\n",
       "<style scoped>\n",
       "    .dataframe tbody tr th:only-of-type {\n",
       "        vertical-align: middle;\n",
       "    }\n",
       "\n",
       "    .dataframe tbody tr th {\n",
       "        vertical-align: top;\n",
       "    }\n",
       "\n",
       "    .dataframe thead th {\n",
       "        text-align: right;\n",
       "    }\n",
       "</style>\n",
       "<table border=\"1\" class=\"dataframe\">\n",
       "  <thead>\n",
       "    <tr style=\"text-align: right;\">\n",
       "      <th></th>\n",
       "      <th>total_images</th>\n",
       "      <th>last_price</th>\n",
       "      <th>total_area</th>\n",
       "      <th>first_day_exposition</th>\n",
       "      <th>rooms</th>\n",
       "      <th>ceiling_height</th>\n",
       "      <th>floors_total</th>\n",
       "      <th>living_area</th>\n",
       "      <th>floor</th>\n",
       "      <th>is_apartment</th>\n",
       "      <th>...</th>\n",
       "      <th>parks_around3000</th>\n",
       "      <th>parks_nearest</th>\n",
       "      <th>ponds_around3000</th>\n",
       "      <th>ponds_nearest</th>\n",
       "      <th>days_exposition</th>\n",
       "      <th>spb_or_not</th>\n",
       "      <th>price_per_square</th>\n",
       "      <th>weekday</th>\n",
       "      <th>month</th>\n",
       "      <th>year</th>\n",
       "    </tr>\n",
       "  </thead>\n",
       "  <tbody>\n",
       "    <tr>\n",
       "      <td>0</td>\n",
       "      <td>20</td>\n",
       "      <td>13000000.0</td>\n",
       "      <td>108.0</td>\n",
       "      <td>2019-03-07</td>\n",
       "      <td>3</td>\n",
       "      <td>2.700000</td>\n",
       "      <td>16</td>\n",
       "      <td>51.000000</td>\n",
       "      <td>8</td>\n",
       "      <td>NaN</td>\n",
       "      <td>...</td>\n",
       "      <td>1</td>\n",
       "      <td>482.0</td>\n",
       "      <td>2</td>\n",
       "      <td>755.0</td>\n",
       "      <td>NaN</td>\n",
       "      <td>Санкт-Петербург</td>\n",
       "      <td>120370.0</td>\n",
       "      <td>Thursday</td>\n",
       "      <td>March</td>\n",
       "      <td>2019</td>\n",
       "    </tr>\n",
       "    <tr>\n",
       "      <td>1</td>\n",
       "      <td>7</td>\n",
       "      <td>3350000.0</td>\n",
       "      <td>40.4</td>\n",
       "      <td>2018-12-04</td>\n",
       "      <td>1</td>\n",
       "      <td>2.771499</td>\n",
       "      <td>11</td>\n",
       "      <td>18.600000</td>\n",
       "      <td>1</td>\n",
       "      <td>NaN</td>\n",
       "      <td>...</td>\n",
       "      <td>0</td>\n",
       "      <td>NaN</td>\n",
       "      <td>0</td>\n",
       "      <td>NaN</td>\n",
       "      <td>81.0</td>\n",
       "      <td>Ленинградская область</td>\n",
       "      <td>82921.0</td>\n",
       "      <td>Tuesday</td>\n",
       "      <td>December</td>\n",
       "      <td>2018</td>\n",
       "    </tr>\n",
       "    <tr>\n",
       "      <td>2</td>\n",
       "      <td>10</td>\n",
       "      <td>5196000.0</td>\n",
       "      <td>56.0</td>\n",
       "      <td>2015-08-20</td>\n",
       "      <td>2</td>\n",
       "      <td>2.771499</td>\n",
       "      <td>5</td>\n",
       "      <td>34.300000</td>\n",
       "      <td>4</td>\n",
       "      <td>NaN</td>\n",
       "      <td>...</td>\n",
       "      <td>1</td>\n",
       "      <td>90.0</td>\n",
       "      <td>2</td>\n",
       "      <td>574.0</td>\n",
       "      <td>558.0</td>\n",
       "      <td>Санкт-Петербург</td>\n",
       "      <td>92786.0</td>\n",
       "      <td>Thursday</td>\n",
       "      <td>August</td>\n",
       "      <td>2015</td>\n",
       "    </tr>\n",
       "    <tr>\n",
       "      <td>3</td>\n",
       "      <td>0</td>\n",
       "      <td>64900000.0</td>\n",
       "      <td>159.0</td>\n",
       "      <td>2015-07-24</td>\n",
       "      <td>3</td>\n",
       "      <td>2.771499</td>\n",
       "      <td>14</td>\n",
       "      <td>34.457852</td>\n",
       "      <td>9</td>\n",
       "      <td>NaN</td>\n",
       "      <td>...</td>\n",
       "      <td>2</td>\n",
       "      <td>84.0</td>\n",
       "      <td>3</td>\n",
       "      <td>234.0</td>\n",
       "      <td>424.0</td>\n",
       "      <td>Санкт-Петербург</td>\n",
       "      <td>408176.0</td>\n",
       "      <td>Friday</td>\n",
       "      <td>July</td>\n",
       "      <td>2015</td>\n",
       "    </tr>\n",
       "    <tr>\n",
       "      <td>4</td>\n",
       "      <td>2</td>\n",
       "      <td>10000000.0</td>\n",
       "      <td>100.0</td>\n",
       "      <td>2018-06-19</td>\n",
       "      <td>2</td>\n",
       "      <td>3.030000</td>\n",
       "      <td>14</td>\n",
       "      <td>32.000000</td>\n",
       "      <td>13</td>\n",
       "      <td>NaN</td>\n",
       "      <td>...</td>\n",
       "      <td>2</td>\n",
       "      <td>112.0</td>\n",
       "      <td>1</td>\n",
       "      <td>48.0</td>\n",
       "      <td>121.0</td>\n",
       "      <td>Санкт-Петербург</td>\n",
       "      <td>100000.0</td>\n",
       "      <td>Tuesday</td>\n",
       "      <td>June</td>\n",
       "      <td>2018</td>\n",
       "    </tr>\n",
       "  </tbody>\n",
       "</table>\n",
       "<p>5 rows × 27 columns</p>\n",
       "</div>"
      ],
      "text/plain": [
       "   total_images  last_price  total_area first_day_exposition  rooms  \\\n",
       "0            20  13000000.0       108.0           2019-03-07      3   \n",
       "1             7   3350000.0        40.4           2018-12-04      1   \n",
       "2            10   5196000.0        56.0           2015-08-20      2   \n",
       "3             0  64900000.0       159.0           2015-07-24      3   \n",
       "4             2  10000000.0       100.0           2018-06-19      2   \n",
       "\n",
       "   ceiling_height  floors_total  living_area  floor is_apartment  ...  \\\n",
       "0        2.700000            16    51.000000      8          NaN  ...   \n",
       "1        2.771499            11    18.600000      1          NaN  ...   \n",
       "2        2.771499             5    34.300000      4          NaN  ...   \n",
       "3        2.771499            14    34.457852      9          NaN  ...   \n",
       "4        3.030000            14    32.000000     13          NaN  ...   \n",
       "\n",
       "   parks_around3000  parks_nearest  ponds_around3000  ponds_nearest  \\\n",
       "0                 1          482.0                 2          755.0   \n",
       "1                 0            NaN                 0            NaN   \n",
       "2                 1           90.0                 2          574.0   \n",
       "3                 2           84.0                 3          234.0   \n",
       "4                 2          112.0                 1           48.0   \n",
       "\n",
       "  days_exposition             spb_or_not  price_per_square   weekday  \\\n",
       "0             NaN        Санкт-Петербург          120370.0  Thursday   \n",
       "1            81.0  Ленинградская область           82921.0   Tuesday   \n",
       "2           558.0        Санкт-Петербург           92786.0  Thursday   \n",
       "3           424.0        Санкт-Петербург          408176.0    Friday   \n",
       "4           121.0        Санкт-Петербург          100000.0   Tuesday   \n",
       "\n",
       "      month  year  \n",
       "0     March  2019  \n",
       "1  December  2018  \n",
       "2    August  2015  \n",
       "3      July  2015  \n",
       "4      June  2018  \n",
       "\n",
       "[5 rows x 27 columns]"
      ]
     },
     "execution_count": 54,
     "metadata": {},
     "output_type": "execute_result"
    }
   ],
   "source": [
    "data.head()"
   ]
  },
  {
   "cell_type": "markdown",
   "metadata": {},
   "source": [
    "Создадим 3 новых столбца, который разделит квартиры на 3 группы с учётом этажа: `Первый`, `Последний`, `Другой`."
   ]
  },
  {
   "cell_type": "code",
   "execution_count": 55,
   "metadata": {},
   "outputs": [],
   "source": [
    "data['first_floor']=(data['floor']==1)*1\n",
    "data['last_floor']=(data['floor']==data['floors_total'])*1\n",
    "def other_floor (row):\n",
    "    if row['first_floor']==1:\n",
    "        return 0\n",
    "    elif row['last_floor']==1:\n",
    "        return 0\n",
    "    return 1\n",
    " \n",
    "data['other_floor'] = data.apply(other_floor, axis = 1)"
   ]
  },
  {
   "cell_type": "code",
   "execution_count": 56,
   "metadata": {},
   "outputs": [
    {
     "data": {
      "text/html": [
       "<div>\n",
       "<style scoped>\n",
       "    .dataframe tbody tr th:only-of-type {\n",
       "        vertical-align: middle;\n",
       "    }\n",
       "\n",
       "    .dataframe tbody tr th {\n",
       "        vertical-align: top;\n",
       "    }\n",
       "\n",
       "    .dataframe thead th {\n",
       "        text-align: right;\n",
       "    }\n",
       "</style>\n",
       "<table border=\"1\" class=\"dataframe\">\n",
       "  <thead>\n",
       "    <tr style=\"text-align: right;\">\n",
       "      <th></th>\n",
       "      <th>total_images</th>\n",
       "      <th>last_price</th>\n",
       "      <th>total_area</th>\n",
       "      <th>first_day_exposition</th>\n",
       "      <th>rooms</th>\n",
       "      <th>ceiling_height</th>\n",
       "      <th>floors_total</th>\n",
       "      <th>living_area</th>\n",
       "      <th>floor</th>\n",
       "      <th>is_apartment</th>\n",
       "      <th>...</th>\n",
       "      <th>ponds_nearest</th>\n",
       "      <th>days_exposition</th>\n",
       "      <th>spb_or_not</th>\n",
       "      <th>price_per_square</th>\n",
       "      <th>weekday</th>\n",
       "      <th>month</th>\n",
       "      <th>year</th>\n",
       "      <th>first_floor</th>\n",
       "      <th>last_floor</th>\n",
       "      <th>other_floor</th>\n",
       "    </tr>\n",
       "  </thead>\n",
       "  <tbody>\n",
       "    <tr>\n",
       "      <td>0</td>\n",
       "      <td>20</td>\n",
       "      <td>13000000.0</td>\n",
       "      <td>108.0</td>\n",
       "      <td>2019-03-07</td>\n",
       "      <td>3</td>\n",
       "      <td>2.700000</td>\n",
       "      <td>16</td>\n",
       "      <td>51.000000</td>\n",
       "      <td>8</td>\n",
       "      <td>NaN</td>\n",
       "      <td>...</td>\n",
       "      <td>755.0</td>\n",
       "      <td>NaN</td>\n",
       "      <td>Санкт-Петербург</td>\n",
       "      <td>120370.0</td>\n",
       "      <td>Thursday</td>\n",
       "      <td>March</td>\n",
       "      <td>2019</td>\n",
       "      <td>0</td>\n",
       "      <td>0</td>\n",
       "      <td>1</td>\n",
       "    </tr>\n",
       "    <tr>\n",
       "      <td>1</td>\n",
       "      <td>7</td>\n",
       "      <td>3350000.0</td>\n",
       "      <td>40.4</td>\n",
       "      <td>2018-12-04</td>\n",
       "      <td>1</td>\n",
       "      <td>2.771499</td>\n",
       "      <td>11</td>\n",
       "      <td>18.600000</td>\n",
       "      <td>1</td>\n",
       "      <td>NaN</td>\n",
       "      <td>...</td>\n",
       "      <td>NaN</td>\n",
       "      <td>81.0</td>\n",
       "      <td>Ленинградская область</td>\n",
       "      <td>82921.0</td>\n",
       "      <td>Tuesday</td>\n",
       "      <td>December</td>\n",
       "      <td>2018</td>\n",
       "      <td>1</td>\n",
       "      <td>0</td>\n",
       "      <td>0</td>\n",
       "    </tr>\n",
       "    <tr>\n",
       "      <td>2</td>\n",
       "      <td>10</td>\n",
       "      <td>5196000.0</td>\n",
       "      <td>56.0</td>\n",
       "      <td>2015-08-20</td>\n",
       "      <td>2</td>\n",
       "      <td>2.771499</td>\n",
       "      <td>5</td>\n",
       "      <td>34.300000</td>\n",
       "      <td>4</td>\n",
       "      <td>NaN</td>\n",
       "      <td>...</td>\n",
       "      <td>574.0</td>\n",
       "      <td>558.0</td>\n",
       "      <td>Санкт-Петербург</td>\n",
       "      <td>92786.0</td>\n",
       "      <td>Thursday</td>\n",
       "      <td>August</td>\n",
       "      <td>2015</td>\n",
       "      <td>0</td>\n",
       "      <td>0</td>\n",
       "      <td>1</td>\n",
       "    </tr>\n",
       "    <tr>\n",
       "      <td>3</td>\n",
       "      <td>0</td>\n",
       "      <td>64900000.0</td>\n",
       "      <td>159.0</td>\n",
       "      <td>2015-07-24</td>\n",
       "      <td>3</td>\n",
       "      <td>2.771499</td>\n",
       "      <td>14</td>\n",
       "      <td>34.457852</td>\n",
       "      <td>9</td>\n",
       "      <td>NaN</td>\n",
       "      <td>...</td>\n",
       "      <td>234.0</td>\n",
       "      <td>424.0</td>\n",
       "      <td>Санкт-Петербург</td>\n",
       "      <td>408176.0</td>\n",
       "      <td>Friday</td>\n",
       "      <td>July</td>\n",
       "      <td>2015</td>\n",
       "      <td>0</td>\n",
       "      <td>0</td>\n",
       "      <td>1</td>\n",
       "    </tr>\n",
       "    <tr>\n",
       "      <td>4</td>\n",
       "      <td>2</td>\n",
       "      <td>10000000.0</td>\n",
       "      <td>100.0</td>\n",
       "      <td>2018-06-19</td>\n",
       "      <td>2</td>\n",
       "      <td>3.030000</td>\n",
       "      <td>14</td>\n",
       "      <td>32.000000</td>\n",
       "      <td>13</td>\n",
       "      <td>NaN</td>\n",
       "      <td>...</td>\n",
       "      <td>48.0</td>\n",
       "      <td>121.0</td>\n",
       "      <td>Санкт-Петербург</td>\n",
       "      <td>100000.0</td>\n",
       "      <td>Tuesday</td>\n",
       "      <td>June</td>\n",
       "      <td>2018</td>\n",
       "      <td>0</td>\n",
       "      <td>0</td>\n",
       "      <td>1</td>\n",
       "    </tr>\n",
       "  </tbody>\n",
       "</table>\n",
       "<p>5 rows × 30 columns</p>\n",
       "</div>"
      ],
      "text/plain": [
       "   total_images  last_price  total_area first_day_exposition  rooms  \\\n",
       "0            20  13000000.0       108.0           2019-03-07      3   \n",
       "1             7   3350000.0        40.4           2018-12-04      1   \n",
       "2            10   5196000.0        56.0           2015-08-20      2   \n",
       "3             0  64900000.0       159.0           2015-07-24      3   \n",
       "4             2  10000000.0       100.0           2018-06-19      2   \n",
       "\n",
       "   ceiling_height  floors_total  living_area  floor is_apartment  ...  \\\n",
       "0        2.700000            16    51.000000      8          NaN  ...   \n",
       "1        2.771499            11    18.600000      1          NaN  ...   \n",
       "2        2.771499             5    34.300000      4          NaN  ...   \n",
       "3        2.771499            14    34.457852      9          NaN  ...   \n",
       "4        3.030000            14    32.000000     13          NaN  ...   \n",
       "\n",
       "   ponds_nearest  days_exposition             spb_or_not  price_per_square  \\\n",
       "0          755.0              NaN        Санкт-Петербург          120370.0   \n",
       "1            NaN             81.0  Ленинградская область           82921.0   \n",
       "2          574.0            558.0        Санкт-Петербург           92786.0   \n",
       "3          234.0            424.0        Санкт-Петербург          408176.0   \n",
       "4           48.0            121.0        Санкт-Петербург          100000.0   \n",
       "\n",
       "    weekday     month  year  first_floor  last_floor  other_floor  \n",
       "0  Thursday     March  2019            0           0            1  \n",
       "1   Tuesday  December  2018            1           0            0  \n",
       "2  Thursday    August  2015            0           0            1  \n",
       "3    Friday      July  2015            0           0            1  \n",
       "4   Tuesday      June  2018            0           0            1  \n",
       "\n",
       "[5 rows x 30 columns]"
      ]
     },
     "execution_count": 56,
     "metadata": {},
     "output_type": "execute_result"
    }
   ],
   "source": [
    "data.head()"
   ]
  },
  {
   "cell_type": "markdown",
   "metadata": {},
   "source": [
    "Видим, что в датафрейме появились новые столбцы с соответствующими значениями: `first_floor`, `last_floor` и `other_floor`. "
   ]
  },
  {
   "cell_type": "markdown",
   "metadata": {},
   "source": [
    "Теперь добавим в таблицу соотношение жилой и общей площади, а также отношение площади кухни к общей."
   ]
  },
  {
   "cell_type": "code",
   "execution_count": 57,
   "metadata": {},
   "outputs": [],
   "source": [
    "data['part_of_living_area'] = data['living_area']/data['total_area']*100\n",
    "data['part_of_living_area'] = data['part_of_living_area'].round()\n",
    "data['part_of_kitchen_area'] = data['kitchen_area']/data['total_area']*100\n",
    "data['part_of_kitchen_area'] = data['part_of_kitchen_area'].round()"
   ]
  },
  {
   "cell_type": "code",
   "execution_count": 58,
   "metadata": {},
   "outputs": [
    {
     "data": {
      "text/html": [
       "<div>\n",
       "<style scoped>\n",
       "    .dataframe tbody tr th:only-of-type {\n",
       "        vertical-align: middle;\n",
       "    }\n",
       "\n",
       "    .dataframe tbody tr th {\n",
       "        vertical-align: top;\n",
       "    }\n",
       "\n",
       "    .dataframe thead th {\n",
       "        text-align: right;\n",
       "    }\n",
       "</style>\n",
       "<table border=\"1\" class=\"dataframe\">\n",
       "  <thead>\n",
       "    <tr style=\"text-align: right;\">\n",
       "      <th></th>\n",
       "      <th>total_images</th>\n",
       "      <th>last_price</th>\n",
       "      <th>total_area</th>\n",
       "      <th>first_day_exposition</th>\n",
       "      <th>rooms</th>\n",
       "      <th>ceiling_height</th>\n",
       "      <th>floors_total</th>\n",
       "      <th>living_area</th>\n",
       "      <th>floor</th>\n",
       "      <th>is_apartment</th>\n",
       "      <th>...</th>\n",
       "      <th>spb_or_not</th>\n",
       "      <th>price_per_square</th>\n",
       "      <th>weekday</th>\n",
       "      <th>month</th>\n",
       "      <th>year</th>\n",
       "      <th>first_floor</th>\n",
       "      <th>last_floor</th>\n",
       "      <th>other_floor</th>\n",
       "      <th>part_of_living_area</th>\n",
       "      <th>part_of_kitchen_area</th>\n",
       "    </tr>\n",
       "  </thead>\n",
       "  <tbody>\n",
       "    <tr>\n",
       "      <td>0</td>\n",
       "      <td>20</td>\n",
       "      <td>13000000.0</td>\n",
       "      <td>108.0</td>\n",
       "      <td>2019-03-07</td>\n",
       "      <td>3</td>\n",
       "      <td>2.700000</td>\n",
       "      <td>16</td>\n",
       "      <td>51.000000</td>\n",
       "      <td>8</td>\n",
       "      <td>NaN</td>\n",
       "      <td>...</td>\n",
       "      <td>Санкт-Петербург</td>\n",
       "      <td>120370.0</td>\n",
       "      <td>Thursday</td>\n",
       "      <td>March</td>\n",
       "      <td>2019</td>\n",
       "      <td>0</td>\n",
       "      <td>0</td>\n",
       "      <td>1</td>\n",
       "      <td>47.0</td>\n",
       "      <td>23.0</td>\n",
       "    </tr>\n",
       "    <tr>\n",
       "      <td>1</td>\n",
       "      <td>7</td>\n",
       "      <td>3350000.0</td>\n",
       "      <td>40.4</td>\n",
       "      <td>2018-12-04</td>\n",
       "      <td>1</td>\n",
       "      <td>2.771499</td>\n",
       "      <td>11</td>\n",
       "      <td>18.600000</td>\n",
       "      <td>1</td>\n",
       "      <td>NaN</td>\n",
       "      <td>...</td>\n",
       "      <td>Ленинградская область</td>\n",
       "      <td>82921.0</td>\n",
       "      <td>Tuesday</td>\n",
       "      <td>December</td>\n",
       "      <td>2018</td>\n",
       "      <td>1</td>\n",
       "      <td>0</td>\n",
       "      <td>0</td>\n",
       "      <td>46.0</td>\n",
       "      <td>27.0</td>\n",
       "    </tr>\n",
       "    <tr>\n",
       "      <td>2</td>\n",
       "      <td>10</td>\n",
       "      <td>5196000.0</td>\n",
       "      <td>56.0</td>\n",
       "      <td>2015-08-20</td>\n",
       "      <td>2</td>\n",
       "      <td>2.771499</td>\n",
       "      <td>5</td>\n",
       "      <td>34.300000</td>\n",
       "      <td>4</td>\n",
       "      <td>NaN</td>\n",
       "      <td>...</td>\n",
       "      <td>Санкт-Петербург</td>\n",
       "      <td>92786.0</td>\n",
       "      <td>Thursday</td>\n",
       "      <td>August</td>\n",
       "      <td>2015</td>\n",
       "      <td>0</td>\n",
       "      <td>0</td>\n",
       "      <td>1</td>\n",
       "      <td>61.0</td>\n",
       "      <td>15.0</td>\n",
       "    </tr>\n",
       "    <tr>\n",
       "      <td>3</td>\n",
       "      <td>0</td>\n",
       "      <td>64900000.0</td>\n",
       "      <td>159.0</td>\n",
       "      <td>2015-07-24</td>\n",
       "      <td>3</td>\n",
       "      <td>2.771499</td>\n",
       "      <td>14</td>\n",
       "      <td>34.457852</td>\n",
       "      <td>9</td>\n",
       "      <td>NaN</td>\n",
       "      <td>...</td>\n",
       "      <td>Санкт-Петербург</td>\n",
       "      <td>408176.0</td>\n",
       "      <td>Friday</td>\n",
       "      <td>July</td>\n",
       "      <td>2015</td>\n",
       "      <td>0</td>\n",
       "      <td>0</td>\n",
       "      <td>1</td>\n",
       "      <td>22.0</td>\n",
       "      <td>7.0</td>\n",
       "    </tr>\n",
       "    <tr>\n",
       "      <td>4</td>\n",
       "      <td>2</td>\n",
       "      <td>10000000.0</td>\n",
       "      <td>100.0</td>\n",
       "      <td>2018-06-19</td>\n",
       "      <td>2</td>\n",
       "      <td>3.030000</td>\n",
       "      <td>14</td>\n",
       "      <td>32.000000</td>\n",
       "      <td>13</td>\n",
       "      <td>NaN</td>\n",
       "      <td>...</td>\n",
       "      <td>Санкт-Петербург</td>\n",
       "      <td>100000.0</td>\n",
       "      <td>Tuesday</td>\n",
       "      <td>June</td>\n",
       "      <td>2018</td>\n",
       "      <td>0</td>\n",
       "      <td>0</td>\n",
       "      <td>1</td>\n",
       "      <td>32.0</td>\n",
       "      <td>41.0</td>\n",
       "    </tr>\n",
       "  </tbody>\n",
       "</table>\n",
       "<p>5 rows × 32 columns</p>\n",
       "</div>"
      ],
      "text/plain": [
       "   total_images  last_price  total_area first_day_exposition  rooms  \\\n",
       "0            20  13000000.0       108.0           2019-03-07      3   \n",
       "1             7   3350000.0        40.4           2018-12-04      1   \n",
       "2            10   5196000.0        56.0           2015-08-20      2   \n",
       "3             0  64900000.0       159.0           2015-07-24      3   \n",
       "4             2  10000000.0       100.0           2018-06-19      2   \n",
       "\n",
       "   ceiling_height  floors_total  living_area  floor is_apartment  ...  \\\n",
       "0        2.700000            16    51.000000      8          NaN  ...   \n",
       "1        2.771499            11    18.600000      1          NaN  ...   \n",
       "2        2.771499             5    34.300000      4          NaN  ...   \n",
       "3        2.771499            14    34.457852      9          NaN  ...   \n",
       "4        3.030000            14    32.000000     13          NaN  ...   \n",
       "\n",
       "              spb_or_not  price_per_square   weekday     month  year  \\\n",
       "0        Санкт-Петербург          120370.0  Thursday     March  2019   \n",
       "1  Ленинградская область           82921.0   Tuesday  December  2018   \n",
       "2        Санкт-Петербург           92786.0  Thursday    August  2015   \n",
       "3        Санкт-Петербург          408176.0    Friday      July  2015   \n",
       "4        Санкт-Петербург          100000.0   Tuesday      June  2018   \n",
       "\n",
       "   first_floor  last_floor  other_floor  part_of_living_area  \\\n",
       "0            0           0            1                 47.0   \n",
       "1            1           0            0                 46.0   \n",
       "2            0           0            1                 61.0   \n",
       "3            0           0            1                 22.0   \n",
       "4            0           0            1                 32.0   \n",
       "\n",
       "   part_of_kitchen_area  \n",
       "0                  23.0  \n",
       "1                  27.0  \n",
       "2                  15.0  \n",
       "3                   7.0  \n",
       "4                  41.0  \n",
       "\n",
       "[5 rows x 32 columns]"
      ]
     },
     "execution_count": 58,
     "metadata": {},
     "output_type": "execute_result"
    }
   ],
   "source": [
    "data.head()"
   ]
  },
  {
   "cell_type": "markdown",
   "metadata": {},
   "source": [
    "### Вывод"
   ]
  },
  {
   "cell_type": "markdown",
   "metadata": {},
   "source": [
    "Мы провели некоторые рассчёты и по их итогам в нашем датафрейме появились новые столбцы с данными:\n",
    "\n",
    "* `price_per_square` - здесь посчитана цена за 1 квадратный метр;\n",
    "* `weekday`, `month`, `year` - отдельные столбцы с днями недели, месяцами и годами;\n",
    "* `first_floor`, `last_floor`, `other_floor` - здесь содержится информация о том, находится квартира на первом, последнем или другом этаже;\n",
    "* `part_of_living_area` - здесь посчитано соотношение жилой и общей площади квартиры;\n",
    "* `part_of_kitchen_area` - здесь посчитано соотношение кухни и общей площади квартиры."
   ]
  },
  {
   "cell_type": "markdown",
   "metadata": {},
   "source": [
    "### Шаг 4. Проведите исследовательский анализ данных и выполните инструкции:"
   ]
  },
  {
   "cell_type": "markdown",
   "metadata": {},
   "source": [
    "Изучим следующие параметры: площадь, цена, число комнат, высота потолков. Построим гистограммы для каждого параметра."
   ]
  },
  {
   "cell_type": "code",
   "execution_count": 59,
   "metadata": {},
   "outputs": [
    {
     "data": {
      "text/plain": [
       "count    23699.000000\n",
       "mean        60.348651\n",
       "std         35.654083\n",
       "min         12.000000\n",
       "25%         40.000000\n",
       "50%         52.000000\n",
       "75%         69.900000\n",
       "max        900.000000\n",
       "Name: total_area, dtype: float64"
      ]
     },
     "execution_count": 59,
     "metadata": {},
     "output_type": "execute_result"
    }
   ],
   "source": [
    "data['total_area'].describe()"
   ]
  },
  {
   "cell_type": "markdown",
   "metadata": {},
   "source": [
    "В среднем площадь квартиры составляет около 60 квадртных метров. Лишь 25% квартир имеют площадь от 70 квадратных метров."
   ]
  },
  {
   "cell_type": "code",
   "execution_count": 60,
   "metadata": {},
   "outputs": [
    {
     "data": {
      "text/plain": [
       "count    2.369900e+04\n",
       "mean     6.541549e+06\n",
       "std      1.088701e+07\n",
       "min      1.219000e+04\n",
       "25%      3.400000e+06\n",
       "50%      4.650000e+06\n",
       "75%      6.800000e+06\n",
       "max      7.630000e+08\n",
       "Name: last_price, dtype: float64"
      ]
     },
     "execution_count": 60,
     "metadata": {},
     "output_type": "execute_result"
    }
   ],
   "source": [
    "data['last_price'].describe()"
   ]
  },
  {
   "cell_type": "markdown",
   "metadata": {},
   "source": [
    "Для удобства восприятия разделим столбец на 1000000."
   ]
  },
  {
   "cell_type": "code",
   "execution_count": 61,
   "metadata": {},
   "outputs": [],
   "source": [
    "data['last_price'] = data['last_price'] / 1000000"
   ]
  },
  {
   "cell_type": "code",
   "execution_count": 62,
   "metadata": {},
   "outputs": [
    {
     "data": {
      "text/plain": [
       "count    23699.000000\n",
       "mean         6.541549\n",
       "std         10.887013\n",
       "min          0.012190\n",
       "25%          3.400000\n",
       "50%          4.650000\n",
       "75%          6.800000\n",
       "max        763.000000\n",
       "Name: last_price, dtype: float64"
      ]
     },
     "execution_count": 62,
     "metadata": {},
     "output_type": "execute_result"
    }
   ],
   "source": [
    "data['last_price'].describe()"
   ]
  },
  {
   "cell_type": "markdown",
   "metadata": {},
   "source": [
    "Средняя цена квартиры составляет около 5 миллионов. В то время как половина от всех квартир стоит не дороже 4.3 милионов."
   ]
  },
  {
   "cell_type": "code",
   "execution_count": 63,
   "metadata": {},
   "outputs": [
    {
     "data": {
      "text/plain": [
       "1     8047\n",
       "2     7940\n",
       "3     5814\n",
       "4     1180\n",
       "5      326\n",
       "0      197\n",
       "6      105\n",
       "7       59\n",
       "8       12\n",
       "9        8\n",
       "10       3\n",
       "14       2\n",
       "11       2\n",
       "19       1\n",
       "12       1\n",
       "16       1\n",
       "15       1\n",
       "Name: rooms, dtype: int64"
      ]
     },
     "execution_count": 63,
     "metadata": {},
     "output_type": "execute_result"
    }
   ],
   "source": [
    "data['rooms'].value_counts()"
   ]
  },
  {
   "cell_type": "markdown",
   "metadata": {},
   "source": [
    "Однокомнатных квартир на продажу больше всего. "
   ]
  },
  {
   "cell_type": "code",
   "execution_count": 64,
   "metadata": {},
   "outputs": [
    {
     "data": {
      "text/plain": [
       "count    23699.000000\n",
       "mean         2.771499\n",
       "std          0.986523\n",
       "min          1.000000\n",
       "25%          2.600000\n",
       "50%          2.771499\n",
       "75%          2.771499\n",
       "max        100.000000\n",
       "Name: ceiling_height, dtype: float64"
      ]
     },
     "execution_count": 64,
     "metadata": {},
     "output_type": "execute_result"
    }
   ],
   "source": [
    "data['ceiling_height'].describe()"
   ]
  },
  {
   "cell_type": "markdown",
   "metadata": {},
   "source": [
    "Основные значения высоты потолков лежат в диапазоне от 2.6 метра до 2.77 метра."
   ]
  },
  {
   "cell_type": "code",
   "execution_count": 65,
   "metadata": {},
   "outputs": [
    {
     "data": {
      "image/png": "[encoded data removed]",
      "text/plain": [
       "<Figure size 432x288 with 1 Axes>"
      ]
     },
     "metadata": {
      "needs_background": "light"
     },
     "output_type": "display_data"
    },
    {
     "data": {
      "image/png": "[encoded data removed]",
      "text/plain": [
       "<Figure size 432x288 with 1 Axes>"
      ]
     },
     "metadata": {
      "needs_background": "light"
     },
     "output_type": "display_data"
    },
    {
     "data": {
      "image/png": "[encoded data removed]",
      "text/plain": [
       "<Figure size 432x288 with 1 Axes>"
      ]
     },
     "metadata": {
      "needs_background": "light"
     },
     "output_type": "display_data"
    },
    {
     "data": {
      "image/png": "[encoded data removed]",
      "text/plain": [
       "<Figure size 432x288 with 1 Axes>"
      ]
     },
     "metadata": {
      "needs_background": "light"
     },
     "output_type": "display_data"
    }
   ],
   "source": [
    "dict_for_hist = {\n",
    "    'total_area' : [20, (0, 400)],\n",
    "    'last_price' : [200, (0, 20)],\n",
    "    'rooms' : [20, (1, 10)],\n",
    "    'ceiling_height' : [50, (2, 5)]\n",
    "}\n",
    " \n",
    "for column in dict_for_hist.keys():\n",
    "    data[column].hist(bins = dict_for_hist[column][0], range = dict_for_hist[column][1])\n",
    "    plt.title(column)\n",
    "    plt.show()"
   ]
  },
  {
   "cell_type": "markdown",
   "metadata": {},
   "source": [
    "Мы получили четыре гистограммы."
   ]
  },
  {
   "cell_type": "markdown",
   "metadata": {},
   "source": [
    "Изучим время продажи квартиры."
   ]
  },
  {
   "cell_type": "code",
   "execution_count": 66,
   "metadata": {},
   "outputs": [
    {
     "data": {
      "text/plain": [
       "count    20518.000000\n",
       "mean       180.888634\n",
       "std        219.727988\n",
       "min          1.000000\n",
       "25%         45.000000\n",
       "50%         95.000000\n",
       "75%        232.000000\n",
       "max       1580.000000\n",
       "Name: days_exposition, dtype: float64"
      ]
     },
     "execution_count": 66,
     "metadata": {},
     "output_type": "execute_result"
    }
   ],
   "source": [
    "data['days_exposition'].describe()"
   ]
  },
  {
   "cell_type": "markdown",
   "metadata": {},
   "source": [
    "Посотроим гистограмму по этим данным."
   ]
  },
  {
   "cell_type": "code",
   "execution_count": 67,
   "metadata": {},
   "outputs": [
    {
     "data": {
      "text/plain": [
       "<matplotlib.axes._subplots.AxesSubplot at 0x7fc12eb60d10>"
      ]
     },
     "execution_count": 67,
     "metadata": {},
     "output_type": "execute_result"
    },
    {
     "data": {
      "image/png": "[encoded data removed]",
      "text/plain": [
       "<Figure size 432x288 with 1 Axes>"
      ]
     },
     "metadata": {
      "needs_background": "light"
     },
     "output_type": "display_data"
    }
   ],
   "source": [
    "data.plot(kind='hist',\n",
    "y='days_exposition',  \n",
    "xlim=(0, 1500),\n",
    "ylim=(0, 4500),\n",
    "bins=50,\n",
    "linewidth=2,\n",
    "label='days', \n",
    "grid=True,\n",
    "legend=True) "
   ]
  },
  {
   "cell_type": "markdown",
   "metadata": {},
   "source": [
    "Среднее и медиана различаются практически в 2 раза: 180 и 95 соответственно. Это означает, что примерно половина квартир продаётся менее, чем за 3 месяца. Однако, в среднем этот показатель составляет около 180 дней. Так происходит потому что  некотрые квартиры продаются очень долго (намного дольше, чем основная масса)."
   ]
  },
  {
   "cell_type": "markdown",
   "metadata": {},
   "source": [
    "Построим также график boxplot."
   ]
  },
  {
   "cell_type": "code",
   "execution_count": 68,
   "metadata": {},
   "outputs": [
    {
     "data": {
      "image/png": "[encoded data removed]",
      "text/plain": [
       "<Figure size 432x288 with 1 Axes>"
      ]
     },
     "metadata": {
      "needs_background": "light"
     },
     "output_type": "display_data"
    }
   ],
   "source": [
    "data.boxplot(column='days_exposition')\n",
    "plt.show()"
   ]
  },
  {
   "cell_type": "markdown",
   "metadata": {},
   "source": [
    "75% всех наших наблюдений ограничиваются значением 232 дня. Если квартира продаётся дольше, то такие продажи можно считать долгими. А если продажа длится более 500 дней, то её уже можно считать аномально долгой. "
   ]
  },
  {
   "cell_type": "markdown",
   "metadata": {},
   "source": [
    "Ну а быстрыми продажами можно считать все те, которые осуществились примерно до 30 дней. "
   ]
  },
  {
   "cell_type": "markdown",
   "metadata": {},
   "source": [
    "Уберём редкие и выбивающиеся значения из этого столбца."
   ]
  },
  {
   "cell_type": "code",
   "execution_count": 69,
   "metadata": {},
   "outputs": [],
   "source": [
    "data = data.query('days_exposition > 20 and days_exposition < 500')"
   ]
  },
  {
   "cell_type": "markdown",
   "metadata": {},
   "source": [
    "Построим boxplot для столбца `total_area`, `rooms`, `ceiling_height` и `last_price` и тоже удалим выбросы."
   ]
  },
  {
   "cell_type": "code",
   "execution_count": 70,
   "metadata": {},
   "outputs": [
    {
     "data": {
      "image/png": "[encoded data removed]",
      "text/plain": [
       "<Figure size 432x288 with 1 Axes>"
      ]
     },
     "metadata": {
      "needs_background": "light"
     },
     "output_type": "display_data"
    }
   ],
   "source": [
    "data.boxplot(column='total_area')\n",
    "plt.show()"
   ]
  },
  {
   "cell_type": "code",
   "execution_count": 71,
   "metadata": {},
   "outputs": [],
   "source": [
    "data = data.query('total_area > 20 and total_area < 150')"
   ]
  },
  {
   "cell_type": "code",
   "execution_count": 72,
   "metadata": {},
   "outputs": [
    {
     "data": {
      "image/png": "[encoded data removed]",
      "text/plain": [
       "<Figure size 432x288 with 1 Axes>"
      ]
     },
     "metadata": {
      "needs_background": "light"
     },
     "output_type": "display_data"
    }
   ],
   "source": [
    "data.boxplot(column='rooms')\n",
    "plt.show()"
   ]
  },
  {
   "cell_type": "code",
   "execution_count": 73,
   "metadata": {},
   "outputs": [],
   "source": [
    "data = data.query('rooms < 6')"
   ]
  },
  {
   "cell_type": "code",
   "execution_count": 74,
   "metadata": {},
   "outputs": [
    {
     "data": {
      "image/png": "[encoded data removed]",
      "text/plain": [
       "<Figure size 432x288 with 1 Axes>"
      ]
     },
     "metadata": {
      "needs_background": "light"
     },
     "output_type": "display_data"
    }
   ],
   "source": [
    "data.boxplot(column='ceiling_height')\n",
    "plt.show()"
   ]
  },
  {
   "cell_type": "code",
   "execution_count": 75,
   "metadata": {},
   "outputs": [],
   "source": [
    "data = data.query('ceiling_height > 2 and ceiling_height < 3')"
   ]
  },
  {
   "cell_type": "code",
   "execution_count": 76,
   "metadata": {},
   "outputs": [
    {
     "data": {
      "image/png": "[encoded data removed]",
      "text/plain": [
       "<Figure size 432x288 with 1 Axes>"
      ]
     },
     "metadata": {
      "needs_background": "light"
     },
     "output_type": "display_data"
    }
   ],
   "source": [
    "data.boxplot(column='last_price')\n",
    "plt.show()"
   ]
  },
  {
   "cell_type": "code",
   "execution_count": 77,
   "metadata": {},
   "outputs": [],
   "source": [
    "data = data.query('last_price < 10')"
   ]
  },
  {
   "cell_type": "markdown",
   "metadata": {},
   "source": [
    "В итоге мы удалили:\n",
    "* строки, в которых количество дней размещения объявления меньше 20 и больше 500;\n",
    "* стороки, в которых общая площадь составляет меньше 20 и больше 150 кв. метров;\n",
    "* строки, в которых количество комнат больше 5;\n",
    "* строки, в котрых высота потолков меньше 2 и больше 3 метров;\n",
    "* строки, в которых цена квартиры больше 10 миллионов."
   ]
  },
  {
   "cell_type": "markdown",
   "metadata": {},
   "source": [
    "Построим диаграмму разброса, чтобы узнать: есть ли зависимость между ценой на квартиру и её площадью."
   ]
  },
  {
   "cell_type": "code",
   "execution_count": 78,
   "metadata": {},
   "outputs": [
    {
     "data": {
      "text/plain": [
       "<matplotlib.axes._subplots.AxesSubplot at 0x7fc12ea581d0>"
      ]
     },
     "execution_count": 78,
     "metadata": {},
     "output_type": "execute_result"
    },
    {
     "data": {
      "image/png": "[encoded data removed]",
      "text/plain": [
       "<Figure size 1152x648 with 1 Axes>"
      ]
     },
     "metadata": {
      "needs_background": "light"
     },
     "output_type": "display_data"
    }
   ],
   "source": [
    "data.plot(x='last_price',y='total_area',kind='scatter',figsize=(16,9))"
   ]
  },
  {
   "cell_type": "markdown",
   "metadata": {},
   "source": [
    "Как и ожидалось, мы обнаружили общую зависимость: чем выше стоимость квартиры, тем больше её площадь."
   ]
  },
  {
   "cell_type": "markdown",
   "metadata": {},
   "source": [
    "Построим boxplot, чтобы проследить зависимость цены от количества комнат."
   ]
  },
  {
   "cell_type": "code",
   "execution_count": 79,
   "metadata": {},
   "outputs": [
    {
     "name": "stderr",
     "output_type": "stream",
     "text": [
      "/opt/conda/lib/python3.7/site-packages/numpy/core/_asarray.py:83: VisibleDeprecationWarning: Creating an ndarray from ragged nested sequences (which is a list-or-tuple of lists-or-tuples-or ndarrays with different lengths or shapes) is deprecated. If you meant to do this, you must specify 'dtype=object' when creating the ndarray\n",
      "  return array(a, dtype, copy=False, order=order)\n"
     ]
    },
    {
     "data": {
      "image/png": "[encoded data removed]",
      "text/plain": [
       "<Figure size 432x288 with 1 Axes>"
      ]
     },
     "metadata": {
      "needs_background": "light"
     },
     "output_type": "display_data"
    }
   ],
   "source": [
    "data.boxplot(column='last_price', by='rooms')\n",
    "plt.show()"
   ]
  },
  {
   "cell_type": "markdown",
   "metadata": {},
   "source": [
    "Видим, что цена квартиры в основном повышается с ростом числа комнат."
   ]
  },
  {
   "cell_type": "markdown",
   "metadata": {},
   "source": [
    "Построим диаграмму рассеивания, чтобы узнать, есть ли зависимость между ценой на квартиру и удалённостью её от центра."
   ]
  },
  {
   "cell_type": "code",
   "execution_count": 80,
   "metadata": {},
   "outputs": [
    {
     "data": {
      "text/plain": [
       "<matplotlib.axes._subplots.AxesSubplot at 0x7fc12f7205d0>"
      ]
     },
     "execution_count": 80,
     "metadata": {},
     "output_type": "execute_result"
    },
    {
     "data": {
      "image/png": "[encoded data removed]",
      "text/plain": [
       "<Figure size 1152x648 with 1 Axes>"
      ]
     },
     "metadata": {
      "needs_background": "light"
     },
     "output_type": "display_data"
    }
   ],
   "source": [
    "data.plot(x='cityCenters_nearest',y='last_price',kind='scatter',figsize=(16,9))"
   ]
  },
  {
   "cell_type": "markdown",
   "metadata": {},
   "source": [
    "Ожидаемо, цена квартиры зависит от близости к центру города: обычно чем ближе, тем дороже."
   ]
  },
  {
   "cell_type": "markdown",
   "metadata": {},
   "source": [
    "Чтобы проследить зависимость цены от того, на каком этаже находится квартира, построим сводную таблицу, в которой разобьём цены на 5 категорий."
   ]
  },
  {
   "cell_type": "code",
   "execution_count": 81,
   "metadata": {},
   "outputs": [
    {
     "data": {
      "text/html": [
       "<div>\n",
       "<style scoped>\n",
       "    .dataframe tbody tr th:only-of-type {\n",
       "        vertical-align: middle;\n",
       "    }\n",
       "\n",
       "    .dataframe tbody tr th {\n",
       "        vertical-align: top;\n",
       "    }\n",
       "\n",
       "    .dataframe thead th {\n",
       "        text-align: right;\n",
       "    }\n",
       "</style>\n",
       "<table border=\"1\" class=\"dataframe\">\n",
       "  <thead>\n",
       "    <tr style=\"text-align: right;\">\n",
       "      <th></th>\n",
       "      <th>count</th>\n",
       "      <th>mean</th>\n",
       "    </tr>\n",
       "    <tr>\n",
       "      <th>last_price_group</th>\n",
       "      <th></th>\n",
       "      <th></th>\n",
       "    </tr>\n",
       "  </thead>\n",
       "  <tbody>\n",
       "    <tr>\n",
       "      <td>(0.429, 2.99]</td>\n",
       "      <td>2768</td>\n",
       "      <td>0.207370</td>\n",
       "    </tr>\n",
       "    <tr>\n",
       "      <td>(2.99, 3.764]</td>\n",
       "      <td>2699</td>\n",
       "      <td>0.141904</td>\n",
       "    </tr>\n",
       "    <tr>\n",
       "      <td>(3.764, 4.594]</td>\n",
       "      <td>2733</td>\n",
       "      <td>0.116356</td>\n",
       "    </tr>\n",
       "    <tr>\n",
       "      <td>(4.594, 5.85]</td>\n",
       "      <td>2760</td>\n",
       "      <td>0.102174</td>\n",
       "    </tr>\n",
       "    <tr>\n",
       "      <td>(5.85, 10.0]</td>\n",
       "      <td>2707</td>\n",
       "      <td>0.074252</td>\n",
       "    </tr>\n",
       "  </tbody>\n",
       "</table>\n",
       "</div>"
      ],
      "text/plain": [
       "                  count      mean\n",
       "last_price_group                 \n",
       "(0.429, 2.99]      2768  0.207370\n",
       "(2.99, 3.764]      2699  0.141904\n",
       "(3.764, 4.594]     2733  0.116356\n",
       "(4.594, 5.85]      2760  0.102174\n",
       "(5.85, 10.0]       2707  0.074252"
      ]
     },
     "execution_count": 81,
     "metadata": {},
     "output_type": "execute_result"
    }
   ],
   "source": [
    "data['last_price_group'] = pd.qcut(data['last_price'],5)\n",
    "data.groupby('last_price_group')['first_floor'].agg(['count','mean'])"
   ]
  },
  {
   "cell_type": "markdown",
   "metadata": {},
   "source": [
    "Теперь построим столбчатую диаграмму."
   ]
  },
  {
   "cell_type": "code",
   "execution_count": 82,
   "metadata": {},
   "outputs": [
    {
     "data": {
      "text/plain": [
       "<matplotlib.axes._subplots.AxesSubplot at 0x7fc12ec3cc50>"
      ]
     },
     "execution_count": 82,
     "metadata": {},
     "output_type": "execute_result"
    },
    {
     "data": {
      "image/png": "[encoded data removed]",
      "text/plain": [
       "<Figure size 432x288 with 1 Axes>"
      ]
     },
     "metadata": {
      "needs_background": "light"
     },
     "output_type": "display_data"
    }
   ],
   "source": [
    "data.groupby('last_price_group')['first_floor'].agg(['mean']).plot(kind='bar')"
   ]
  },
  {
   "cell_type": "markdown",
   "metadata": {},
   "source": [
    "Видим, что доля квартир на первом этаже понижается с ростом цены. Посмотрим, есть ли зависимость между ценой и квартирами на последнем этаже."
   ]
  },
  {
   "cell_type": "code",
   "execution_count": 83,
   "metadata": {},
   "outputs": [
    {
     "data": {
      "text/html": [
       "<div>\n",
       "<style scoped>\n",
       "    .dataframe tbody tr th:only-of-type {\n",
       "        vertical-align: middle;\n",
       "    }\n",
       "\n",
       "    .dataframe tbody tr th {\n",
       "        vertical-align: top;\n",
       "    }\n",
       "\n",
       "    .dataframe thead th {\n",
       "        text-align: right;\n",
       "    }\n",
       "</style>\n",
       "<table border=\"1\" class=\"dataframe\">\n",
       "  <thead>\n",
       "    <tr style=\"text-align: right;\">\n",
       "      <th></th>\n",
       "      <th>count</th>\n",
       "      <th>mean</th>\n",
       "    </tr>\n",
       "    <tr>\n",
       "      <th>last_price_group</th>\n",
       "      <th></th>\n",
       "      <th></th>\n",
       "    </tr>\n",
       "  </thead>\n",
       "  <tbody>\n",
       "    <tr>\n",
       "      <td>(0.429, 2.99]</td>\n",
       "      <td>2768</td>\n",
       "      <td>0.201590</td>\n",
       "    </tr>\n",
       "    <tr>\n",
       "      <td>(2.99, 3.764]</td>\n",
       "      <td>2699</td>\n",
       "      <td>0.124861</td>\n",
       "    </tr>\n",
       "    <tr>\n",
       "      <td>(3.764, 4.594]</td>\n",
       "      <td>2733</td>\n",
       "      <td>0.125137</td>\n",
       "    </tr>\n",
       "    <tr>\n",
       "      <td>(4.594, 5.85]</td>\n",
       "      <td>2760</td>\n",
       "      <td>0.108333</td>\n",
       "    </tr>\n",
       "    <tr>\n",
       "      <td>(5.85, 10.0]</td>\n",
       "      <td>2707</td>\n",
       "      <td>0.101219</td>\n",
       "    </tr>\n",
       "  </tbody>\n",
       "</table>\n",
       "</div>"
      ],
      "text/plain": [
       "                  count      mean\n",
       "last_price_group                 \n",
       "(0.429, 2.99]      2768  0.201590\n",
       "(2.99, 3.764]      2699  0.124861\n",
       "(3.764, 4.594]     2733  0.125137\n",
       "(4.594, 5.85]      2760  0.108333\n",
       "(5.85, 10.0]       2707  0.101219"
      ]
     },
     "execution_count": 83,
     "metadata": {},
     "output_type": "execute_result"
    }
   ],
   "source": [
    "data.groupby('last_price_group')['last_floor'].agg(['count','mean'])"
   ]
  },
  {
   "cell_type": "code",
   "execution_count": 84,
   "metadata": {},
   "outputs": [
    {
     "data": {
      "text/plain": [
       "<matplotlib.axes._subplots.AxesSubplot at 0x7fc12ee75f10>"
      ]
     },
     "execution_count": 84,
     "metadata": {},
     "output_type": "execute_result"
    },
    {
     "data": {
      "image/png": "[encoded data removed]",
      "text/plain": [
       "<Figure size 432x288 with 1 Axes>"
      ]
     },
     "metadata": {
      "needs_background": "light"
     },
     "output_type": "display_data"
    }
   ],
   "source": [
    "data.groupby('last_price_group')['last_floor'].agg(['mean']).plot(kind='bar')"
   ]
  },
  {
   "cell_type": "markdown",
   "metadata": {},
   "source": [
    "Похожая зависимость, как и в случае с первым этажом, однако, не такая выраженная, особенно для квартир от 3 миллионов. Посмотрим, есть ли зависимость цены от других этажей."
   ]
  },
  {
   "cell_type": "code",
   "execution_count": 85,
   "metadata": {},
   "outputs": [
    {
     "data": {
      "text/html": [
       "<div>\n",
       "<style scoped>\n",
       "    .dataframe tbody tr th:only-of-type {\n",
       "        vertical-align: middle;\n",
       "    }\n",
       "\n",
       "    .dataframe tbody tr th {\n",
       "        vertical-align: top;\n",
       "    }\n",
       "\n",
       "    .dataframe thead th {\n",
       "        text-align: right;\n",
       "    }\n",
       "</style>\n",
       "<table border=\"1\" class=\"dataframe\">\n",
       "  <thead>\n",
       "    <tr style=\"text-align: right;\">\n",
       "      <th></th>\n",
       "      <th>count</th>\n",
       "      <th>mean</th>\n",
       "    </tr>\n",
       "    <tr>\n",
       "      <th>last_price_group</th>\n",
       "      <th></th>\n",
       "      <th></th>\n",
       "    </tr>\n",
       "  </thead>\n",
       "  <tbody>\n",
       "    <tr>\n",
       "      <td>(0.429, 2.99]</td>\n",
       "      <td>2768</td>\n",
       "      <td>0.594653</td>\n",
       "    </tr>\n",
       "    <tr>\n",
       "      <td>(2.99, 3.764]</td>\n",
       "      <td>2699</td>\n",
       "      <td>0.733976</td>\n",
       "    </tr>\n",
       "    <tr>\n",
       "      <td>(3.764, 4.594]</td>\n",
       "      <td>2733</td>\n",
       "      <td>0.758507</td>\n",
       "    </tr>\n",
       "    <tr>\n",
       "      <td>(4.594, 5.85]</td>\n",
       "      <td>2760</td>\n",
       "      <td>0.790217</td>\n",
       "    </tr>\n",
       "    <tr>\n",
       "      <td>(5.85, 10.0]</td>\n",
       "      <td>2707</td>\n",
       "      <td>0.825268</td>\n",
       "    </tr>\n",
       "  </tbody>\n",
       "</table>\n",
       "</div>"
      ],
      "text/plain": [
       "                  count      mean\n",
       "last_price_group                 \n",
       "(0.429, 2.99]      2768  0.594653\n",
       "(2.99, 3.764]      2699  0.733976\n",
       "(3.764, 4.594]     2733  0.758507\n",
       "(4.594, 5.85]      2760  0.790217\n",
       "(5.85, 10.0]       2707  0.825268"
      ]
     },
     "execution_count": 85,
     "metadata": {},
     "output_type": "execute_result"
    }
   ],
   "source": [
    "data.groupby('last_price_group')['other_floor'].agg(['count','mean'])"
   ]
  },
  {
   "cell_type": "code",
   "execution_count": 86,
   "metadata": {},
   "outputs": [
    {
     "data": {
      "text/plain": [
       "<matplotlib.axes._subplots.AxesSubplot at 0x7fc12ed3d290>"
      ]
     },
     "execution_count": 86,
     "metadata": {},
     "output_type": "execute_result"
    },
    {
     "data": {
      "image/png": "[encoded data removed]",
      "text/plain": [
       "<Figure size 432x288 with 1 Axes>"
      ]
     },
     "metadata": {
      "needs_background": "light"
     },
     "output_type": "display_data"
    }
   ],
   "source": [
    "data.groupby('last_price_group')['other_floor'].agg(['mean']).plot(kind='bar')"
   ]
  },
  {
   "cell_type": "markdown",
   "metadata": {},
   "source": [
    "Здесь наблюдаем следующую тенденцию: если этаж не первый и не последний, то скорее всего квартира будет стоить дороже."
   ]
  },
  {
   "cell_type": "markdown",
   "metadata": {},
   "source": [
    "Построим графики boxplot, чтобы узнать, есть ли зависимость между ценой квартиры и дня, месяца, года размещения объявления."
   ]
  },
  {
   "cell_type": "code",
   "execution_count": 87,
   "metadata": {},
   "outputs": [
    {
     "name": "stderr",
     "output_type": "stream",
     "text": [
      "/opt/conda/lib/python3.7/site-packages/numpy/core/_asarray.py:83: VisibleDeprecationWarning: Creating an ndarray from ragged nested sequences (which is a list-or-tuple of lists-or-tuples-or ndarrays with different lengths or shapes) is deprecated. If you meant to do this, you must specify 'dtype=object' when creating the ndarray\n",
      "  return array(a, dtype, copy=False, order=order)\n"
     ]
    },
    {
     "data": {
      "image/png": "[encoded data removed]",
      "text/plain": [
       "<Figure size 432x288 with 1 Axes>"
      ]
     },
     "metadata": {
      "needs_background": "light"
     },
     "output_type": "display_data"
    }
   ],
   "source": [
    "data.boxplot(column='last_price', by='weekday')\n",
    "plt.show()"
   ]
  },
  {
   "cell_type": "code",
   "execution_count": 88,
   "metadata": {},
   "outputs": [
    {
     "name": "stderr",
     "output_type": "stream",
     "text": [
      "/opt/conda/lib/python3.7/site-packages/numpy/core/_asarray.py:83: VisibleDeprecationWarning: Creating an ndarray from ragged nested sequences (which is a list-or-tuple of lists-or-tuples-or ndarrays with different lengths or shapes) is deprecated. If you meant to do this, you must specify 'dtype=object' when creating the ndarray\n",
      "  return array(a, dtype, copy=False, order=order)\n"
     ]
    },
    {
     "data": {
      "image/png": "[encoded data removed]",
      "text/plain": [
       "<Figure size 432x288 with 1 Axes>"
      ]
     },
     "metadata": {
      "needs_background": "light"
     },
     "output_type": "display_data"
    }
   ],
   "source": [
    "data.boxplot(column='last_price', by='month')\n",
    "plt.show()"
   ]
  },
  {
   "cell_type": "code",
   "execution_count": 89,
   "metadata": {},
   "outputs": [
    {
     "name": "stderr",
     "output_type": "stream",
     "text": [
      "/opt/conda/lib/python3.7/site-packages/numpy/core/_asarray.py:83: VisibleDeprecationWarning: Creating an ndarray from ragged nested sequences (which is a list-or-tuple of lists-or-tuples-or ndarrays with different lengths or shapes) is deprecated. If you meant to do this, you must specify 'dtype=object' when creating the ndarray\n",
      "  return array(a, dtype, copy=False, order=order)\n"
     ]
    },
    {
     "data": {
      "image/png": "[encoded data removed]",
      "text/plain": [
       "<Figure size 432x288 with 1 Axes>"
      ]
     },
     "metadata": {
      "needs_background": "light"
     },
     "output_type": "display_data"
    }
   ],
   "source": [
    "data.boxplot(column='last_price', by='year')\n",
    "plt.show()"
   ]
  },
  {
   "cell_type": "markdown",
   "metadata": {},
   "source": [
    "Выраженной зависимости мы здесь не наблюдаем."
   ]
  },
  {
   "cell_type": "code",
   "execution_count": 90,
   "metadata": {},
   "outputs": [
    {
     "data": {
      "text/html": [
       "<div>\n",
       "<style scoped>\n",
       "    .dataframe tbody tr th:only-of-type {\n",
       "        vertical-align: middle;\n",
       "    }\n",
       "\n",
       "    .dataframe tbody tr th {\n",
       "        vertical-align: top;\n",
       "    }\n",
       "\n",
       "    .dataframe thead th {\n",
       "        text-align: right;\n",
       "    }\n",
       "</style>\n",
       "<table border=\"1\" class=\"dataframe\">\n",
       "  <thead>\n",
       "    <tr style=\"text-align: right;\">\n",
       "      <th></th>\n",
       "      <th>total_images</th>\n",
       "      <th>last_price</th>\n",
       "      <th>total_area</th>\n",
       "      <th>rooms</th>\n",
       "      <th>ceiling_height</th>\n",
       "      <th>floors_total</th>\n",
       "      <th>living_area</th>\n",
       "      <th>floor</th>\n",
       "      <th>studio</th>\n",
       "      <th>open_plan</th>\n",
       "      <th>...</th>\n",
       "      <th>ponds_around3000</th>\n",
       "      <th>ponds_nearest</th>\n",
       "      <th>days_exposition</th>\n",
       "      <th>price_per_square</th>\n",
       "      <th>year</th>\n",
       "      <th>first_floor</th>\n",
       "      <th>last_floor</th>\n",
       "      <th>other_floor</th>\n",
       "      <th>part_of_living_area</th>\n",
       "      <th>part_of_kitchen_area</th>\n",
       "    </tr>\n",
       "  </thead>\n",
       "  <tbody>\n",
       "    <tr>\n",
       "      <td>total_images</td>\n",
       "      <td>1.000000</td>\n",
       "      <td>0.155139</td>\n",
       "      <td>0.087964</td>\n",
       "      <td>0.065993</td>\n",
       "      <td>-0.062320</td>\n",
       "      <td>0.007526</td>\n",
       "      <td>0.056909</td>\n",
       "      <td>0.026441</td>\n",
       "      <td>-0.022135</td>\n",
       "      <td>-0.017019</td>\n",
       "      <td>...</td>\n",
       "      <td>0.004723</td>\n",
       "      <td>0.008963</td>\n",
       "      <td>0.004788</td>\n",
       "      <td>0.116995</td>\n",
       "      <td>0.129598</td>\n",
       "      <td>-0.029571</td>\n",
       "      <td>0.001530</td>\n",
       "      <td>0.021127</td>\n",
       "      <td>-0.048004</td>\n",
       "      <td>-0.063311</td>\n",
       "    </tr>\n",
       "    <tr>\n",
       "      <td>last_price</td>\n",
       "      <td>0.155139</td>\n",
       "      <td>1.000000</td>\n",
       "      <td>0.654029</td>\n",
       "      <td>0.410920</td>\n",
       "      <td>0.158994</td>\n",
       "      <td>0.283320</td>\n",
       "      <td>0.483959</td>\n",
       "      <td>0.182980</td>\n",
       "      <td>-0.067472</td>\n",
       "      <td>-0.044732</td>\n",
       "      <td>...</td>\n",
       "      <td>0.238152</td>\n",
       "      <td>-0.006027</td>\n",
       "      <td>0.029409</td>\n",
       "      <td>0.608319</td>\n",
       "      <td>-0.000291</td>\n",
       "      <td>-0.134590</td>\n",
       "      <td>-0.090232</td>\n",
       "      <td>0.170591</td>\n",
       "      <td>-0.107639</td>\n",
       "      <td>-0.188240</td>\n",
       "    </tr>\n",
       "    <tr>\n",
       "      <td>total_area</td>\n",
       "      <td>0.087964</td>\n",
       "      <td>0.654029</td>\n",
       "      <td>1.000000</td>\n",
       "      <td>0.805368</td>\n",
       "      <td>0.095920</td>\n",
       "      <td>-0.006767</td>\n",
       "      <td>0.852764</td>\n",
       "      <td>-0.031943</td>\n",
       "      <td>-0.117411</td>\n",
       "      <td>-0.074795</td>\n",
       "      <td>...</td>\n",
       "      <td>0.061155</td>\n",
       "      <td>-0.001414</td>\n",
       "      <td>0.068373</td>\n",
       "      <td>-0.159592</td>\n",
       "      <td>-0.060593</td>\n",
       "      <td>0.004853</td>\n",
       "      <td>0.012882</td>\n",
       "      <td>-0.011970</td>\n",
       "      <td>0.036223</td>\n",
       "      <td>-0.508706</td>\n",
       "    </tr>\n",
       "    <tr>\n",
       "      <td>rooms</td>\n",
       "      <td>0.065993</td>\n",
       "      <td>0.410920</td>\n",
       "      <td>0.805368</td>\n",
       "      <td>1.000000</td>\n",
       "      <td>-0.084467</td>\n",
       "      <td>-0.229874</td>\n",
       "      <td>0.849957</td>\n",
       "      <td>-0.188773</td>\n",
       "      <td>-0.168622</td>\n",
       "      <td>-0.112496</td>\n",
       "      <td>...</td>\n",
       "      <td>0.001827</td>\n",
       "      <td>0.014268</td>\n",
       "      <td>0.055323</td>\n",
       "      <td>-0.284837</td>\n",
       "      <td>-0.051897</td>\n",
       "      <td>0.081928</td>\n",
       "      <td>0.043682</td>\n",
       "      <td>-0.095246</td>\n",
       "      <td>0.294601</td>\n",
       "      <td>-0.686381</td>\n",
       "    </tr>\n",
       "    <tr>\n",
       "      <td>ceiling_height</td>\n",
       "      <td>-0.062320</td>\n",
       "      <td>0.158994</td>\n",
       "      <td>0.095920</td>\n",
       "      <td>-0.084467</td>\n",
       "      <td>1.000000</td>\n",
       "      <td>0.244768</td>\n",
       "      <td>-0.006822</td>\n",
       "      <td>0.169091</td>\n",
       "      <td>0.035093</td>\n",
       "      <td>0.038659</td>\n",
       "      <td>...</td>\n",
       "      <td>0.042675</td>\n",
       "      <td>-0.059527</td>\n",
       "      <td>-0.008806</td>\n",
       "      <td>0.112436</td>\n",
       "      <td>-0.169527</td>\n",
       "      <td>-0.063364</td>\n",
       "      <td>-0.027120</td>\n",
       "      <td>0.069862</td>\n",
       "      <td>-0.133493</td>\n",
       "      <td>0.205381</td>\n",
       "    </tr>\n",
       "    <tr>\n",
       "      <td>floors_total</td>\n",
       "      <td>0.007526</td>\n",
       "      <td>0.283320</td>\n",
       "      <td>-0.006767</td>\n",
       "      <td>-0.229874</td>\n",
       "      <td>0.244768</td>\n",
       "      <td>1.000000</td>\n",
       "      <td>-0.158390</td>\n",
       "      <td>0.669977</td>\n",
       "      <td>0.078676</td>\n",
       "      <td>0.053989</td>\n",
       "      <td>...</td>\n",
       "      <td>0.000914</td>\n",
       "      <td>0.032440</td>\n",
       "      <td>-0.034405</td>\n",
       "      <td>0.400379</td>\n",
       "      <td>0.021788</td>\n",
       "      <td>-0.231428</td>\n",
       "      <td>-0.215854</td>\n",
       "      <td>0.339445</td>\n",
       "      <td>-0.262949</td>\n",
       "      <td>0.372766</td>\n",
       "    </tr>\n",
       "    <tr>\n",
       "      <td>living_area</td>\n",
       "      <td>0.056909</td>\n",
       "      <td>0.483959</td>\n",
       "      <td>0.852764</td>\n",
       "      <td>0.849957</td>\n",
       "      <td>-0.006822</td>\n",
       "      <td>-0.158390</td>\n",
       "      <td>1.000000</td>\n",
       "      <td>-0.141729</td>\n",
       "      <td>-0.069920</td>\n",
       "      <td>-0.043680</td>\n",
       "      <td>...</td>\n",
       "      <td>0.027724</td>\n",
       "      <td>0.008103</td>\n",
       "      <td>0.045278</td>\n",
       "      <td>-0.236226</td>\n",
       "      <td>-0.043176</td>\n",
       "      <td>0.059138</td>\n",
       "      <td>0.039876</td>\n",
       "      <td>-0.074665</td>\n",
       "      <td>0.521057</td>\n",
       "      <td>-0.596938</td>\n",
       "    </tr>\n",
       "    <tr>\n",
       "      <td>floor</td>\n",
       "      <td>0.026441</td>\n",
       "      <td>0.182980</td>\n",
       "      <td>-0.031943</td>\n",
       "      <td>-0.188773</td>\n",
       "      <td>0.169091</td>\n",
       "      <td>0.669977</td>\n",
       "      <td>-0.141729</td>\n",
       "      <td>1.000000</td>\n",
       "      <td>0.045343</td>\n",
       "      <td>0.038719</td>\n",
       "      <td>...</td>\n",
       "      <td>0.001379</td>\n",
       "      <td>0.014925</td>\n",
       "      <td>-0.034089</td>\n",
       "      <td>0.289189</td>\n",
       "      <td>0.016627</td>\n",
       "      <td>-0.388871</td>\n",
       "      <td>0.104906</td>\n",
       "      <td>0.213067</td>\n",
       "      <td>-0.200230</td>\n",
       "      <td>0.272572</td>\n",
       "    </tr>\n",
       "    <tr>\n",
       "      <td>studio</td>\n",
       "      <td>-0.022135</td>\n",
       "      <td>-0.067472</td>\n",
       "      <td>-0.117411</td>\n",
       "      <td>-0.168622</td>\n",
       "      <td>0.035093</td>\n",
       "      <td>0.078676</td>\n",
       "      <td>-0.069920</td>\n",
       "      <td>0.045343</td>\n",
       "      <td>1.000000</td>\n",
       "      <td>-0.004755</td>\n",
       "      <td>...</td>\n",
       "      <td>-0.010437</td>\n",
       "      <td>-0.011624</td>\n",
       "      <td>-0.025598</td>\n",
       "      <td>0.057119</td>\n",
       "      <td>0.016105</td>\n",
       "      <td>-0.008470</td>\n",
       "      <td>-0.022296</td>\n",
       "      <td>0.023474</td>\n",
       "      <td>0.089346</td>\n",
       "      <td>0.217469</td>\n",
       "    </tr>\n",
       "    <tr>\n",
       "      <td>open_plan</td>\n",
       "      <td>-0.017019</td>\n",
       "      <td>-0.044732</td>\n",
       "      <td>-0.074795</td>\n",
       "      <td>-0.112496</td>\n",
       "      <td>0.038659</td>\n",
       "      <td>0.053989</td>\n",
       "      <td>-0.043680</td>\n",
       "      <td>0.038719</td>\n",
       "      <td>-0.004755</td>\n",
       "      <td>1.000000</td>\n",
       "      <td>...</td>\n",
       "      <td>0.005152</td>\n",
       "      <td>0.002302</td>\n",
       "      <td>-0.016517</td>\n",
       "      <td>0.032625</td>\n",
       "      <td>-0.016768</td>\n",
       "      <td>-0.014119</td>\n",
       "      <td>-0.006962</td>\n",
       "      <td>0.016008</td>\n",
       "      <td>0.060891</td>\n",
       "      <td>0.135306</td>\n",
       "    </tr>\n",
       "    <tr>\n",
       "      <td>kitchen_area</td>\n",
       "      <td>0.022070</td>\n",
       "      <td>0.409135</td>\n",
       "      <td>0.353257</td>\n",
       "      <td>-0.019168</td>\n",
       "      <td>0.290434</td>\n",
       "      <td>0.367610</td>\n",
       "      <td>0.084418</td>\n",
       "      <td>0.247393</td>\n",
       "      <td>0.028026</td>\n",
       "      <td>0.019037</td>\n",
       "      <td>...</td>\n",
       "      <td>0.054772</td>\n",
       "      <td>-0.044094</td>\n",
       "      <td>0.006641</td>\n",
       "      <td>0.176464</td>\n",
       "      <td>-0.001070</td>\n",
       "      <td>-0.092025</td>\n",
       "      <td>-0.066204</td>\n",
       "      <td>0.121919</td>\n",
       "      <td>-0.314766</td>\n",
       "      <td>0.566397</td>\n",
       "    </tr>\n",
       "    <tr>\n",
       "      <td>balcony</td>\n",
       "      <td>0.033315</td>\n",
       "      <td>0.098395</td>\n",
       "      <td>0.076578</td>\n",
       "      <td>0.013251</td>\n",
       "      <td>-0.036581</td>\n",
       "      <td>0.144347</td>\n",
       "      <td>0.019449</td>\n",
       "      <td>0.145473</td>\n",
       "      <td>0.031117</td>\n",
       "      <td>0.040485</td>\n",
       "      <td>...</td>\n",
       "      <td>-0.021700</td>\n",
       "      <td>0.020500</td>\n",
       "      <td>-0.005508</td>\n",
       "      <td>0.055150</td>\n",
       "      <td>-0.011365</td>\n",
       "      <td>-0.136262</td>\n",
       "      <td>-0.020988</td>\n",
       "      <td>0.118512</td>\n",
       "      <td>-0.097182</td>\n",
       "      <td>0.004103</td>\n",
       "    </tr>\n",
       "    <tr>\n",
       "      <td>airports_nearest</td>\n",
       "      <td>0.000832</td>\n",
       "      <td>0.047440</td>\n",
       "      <td>0.010188</td>\n",
       "      <td>-0.017269</td>\n",
       "      <td>-0.035162</td>\n",
       "      <td>0.086185</td>\n",
       "      <td>-0.018497</td>\n",
       "      <td>0.060255</td>\n",
       "      <td>-0.024403</td>\n",
       "      <td>-0.015492</td>\n",
       "      <td>...</td>\n",
       "      <td>0.009459</td>\n",
       "      <td>0.005895</td>\n",
       "      <td>0.001468</td>\n",
       "      <td>0.043013</td>\n",
       "      <td>0.014455</td>\n",
       "      <td>-0.023545</td>\n",
       "      <td>-0.008120</td>\n",
       "      <td>0.025336</td>\n",
       "      <td>-0.055549</td>\n",
       "      <td>0.007221</td>\n",
       "    </tr>\n",
       "    <tr>\n",
       "      <td>cityCenters_nearest</td>\n",
       "      <td>-0.049950</td>\n",
       "      <td>-0.508127</td>\n",
       "      <td>-0.078818</td>\n",
       "      <td>-0.039890</td>\n",
       "      <td>-0.042327</td>\n",
       "      <td>-0.173720</td>\n",
       "      <td>-0.057220</td>\n",
       "      <td>-0.104339</td>\n",
       "      <td>0.010162</td>\n",
       "      <td>0.006492</td>\n",
       "      <td>...</td>\n",
       "      <td>-0.204688</td>\n",
       "      <td>-0.053180</td>\n",
       "      <td>0.004713</td>\n",
       "      <td>-0.599470</td>\n",
       "      <td>0.044226</td>\n",
       "      <td>0.068533</td>\n",
       "      <td>0.075244</td>\n",
       "      <td>-0.107450</td>\n",
       "      <td>0.020625</td>\n",
       "      <td>0.020585</td>\n",
       "    </tr>\n",
       "    <tr>\n",
       "      <td>parks_around3000</td>\n",
       "      <td>0.018312</td>\n",
       "      <td>0.200411</td>\n",
       "      <td>0.015540</td>\n",
       "      <td>0.029094</td>\n",
       "      <td>-0.010777</td>\n",
       "      <td>-0.113814</td>\n",
       "      <td>0.031961</td>\n",
       "      <td>-0.084930</td>\n",
       "      <td>-0.034455</td>\n",
       "      <td>-0.013897</td>\n",
       "      <td>...</td>\n",
       "      <td>0.342844</td>\n",
       "      <td>-0.105059</td>\n",
       "      <td>0.005283</td>\n",
       "      <td>0.247083</td>\n",
       "      <td>-0.033122</td>\n",
       "      <td>0.011075</td>\n",
       "      <td>0.017522</td>\n",
       "      <td>-0.022718</td>\n",
       "      <td>0.024461</td>\n",
       "      <td>-0.076619</td>\n",
       "    </tr>\n",
       "    <tr>\n",
       "      <td>parks_nearest</td>\n",
       "      <td>-0.003137</td>\n",
       "      <td>0.079898</td>\n",
       "      <td>0.024181</td>\n",
       "      <td>-0.034661</td>\n",
       "      <td>0.055001</td>\n",
       "      <td>0.118697</td>\n",
       "      <td>-0.022734</td>\n",
       "      <td>0.087525</td>\n",
       "      <td>0.035979</td>\n",
       "      <td>0.028328</td>\n",
       "      <td>...</td>\n",
       "      <td>0.049402</td>\n",
       "      <td>0.023217</td>\n",
       "      <td>0.021273</td>\n",
       "      <td>0.090134</td>\n",
       "      <td>-0.018845</td>\n",
       "      <td>-0.026853</td>\n",
       "      <td>-0.033608</td>\n",
       "      <td>0.045924</td>\n",
       "      <td>-0.067719</td>\n",
       "      <td>0.061813</td>\n",
       "    </tr>\n",
       "    <tr>\n",
       "      <td>ponds_around3000</td>\n",
       "      <td>0.004723</td>\n",
       "      <td>0.238152</td>\n",
       "      <td>0.061155</td>\n",
       "      <td>0.001827</td>\n",
       "      <td>0.042675</td>\n",
       "      <td>0.000914</td>\n",
       "      <td>0.027724</td>\n",
       "      <td>0.001379</td>\n",
       "      <td>-0.010437</td>\n",
       "      <td>0.005152</td>\n",
       "      <td>...</td>\n",
       "      <td>1.000000</td>\n",
       "      <td>-0.278766</td>\n",
       "      <td>0.016572</td>\n",
       "      <td>0.252112</td>\n",
       "      <td>-0.019753</td>\n",
       "      <td>-0.019993</td>\n",
       "      <td>-0.004031</td>\n",
       "      <td>0.017815</td>\n",
       "      <td>-0.039754</td>\n",
       "      <td>-0.005368</td>\n",
       "    </tr>\n",
       "    <tr>\n",
       "      <td>ponds_nearest</td>\n",
       "      <td>0.008963</td>\n",
       "      <td>-0.006027</td>\n",
       "      <td>-0.001414</td>\n",
       "      <td>0.014268</td>\n",
       "      <td>-0.059527</td>\n",
       "      <td>0.032440</td>\n",
       "      <td>0.008103</td>\n",
       "      <td>0.014925</td>\n",
       "      <td>-0.011624</td>\n",
       "      <td>0.002302</td>\n",
       "      <td>...</td>\n",
       "      <td>-0.278766</td>\n",
       "      <td>1.000000</td>\n",
       "      <td>-0.032998</td>\n",
       "      <td>-0.003026</td>\n",
       "      <td>-0.003887</td>\n",
       "      <td>0.003093</td>\n",
       "      <td>-0.044058</td>\n",
       "      <td>0.031523</td>\n",
       "      <td>0.009844</td>\n",
       "      <td>-0.041138</td>\n",
       "    </tr>\n",
       "    <tr>\n",
       "      <td>days_exposition</td>\n",
       "      <td>0.004788</td>\n",
       "      <td>0.029409</td>\n",
       "      <td>0.068373</td>\n",
       "      <td>0.055323</td>\n",
       "      <td>-0.008806</td>\n",
       "      <td>-0.034405</td>\n",
       "      <td>0.045278</td>\n",
       "      <td>-0.034089</td>\n",
       "      <td>-0.025598</td>\n",
       "      <td>-0.016517</td>\n",
       "      <td>...</td>\n",
       "      <td>0.016572</td>\n",
       "      <td>-0.032998</td>\n",
       "      <td>1.000000</td>\n",
       "      <td>-0.031386</td>\n",
       "      <td>-0.419037</td>\n",
       "      <td>0.054778</td>\n",
       "      <td>0.011311</td>\n",
       "      <td>-0.050464</td>\n",
       "      <td>-0.044034</td>\n",
       "      <td>-0.051507</td>\n",
       "    </tr>\n",
       "    <tr>\n",
       "      <td>price_per_square</td>\n",
       "      <td>0.116995</td>\n",
       "      <td>0.608319</td>\n",
       "      <td>-0.159592</td>\n",
       "      <td>-0.284837</td>\n",
       "      <td>0.112436</td>\n",
       "      <td>0.400379</td>\n",
       "      <td>-0.236226</td>\n",
       "      <td>0.289189</td>\n",
       "      <td>0.057119</td>\n",
       "      <td>0.032625</td>\n",
       "      <td>...</td>\n",
       "      <td>0.252112</td>\n",
       "      <td>-0.003026</td>\n",
       "      <td>-0.031386</td>\n",
       "      <td>1.000000</td>\n",
       "      <td>0.061594</td>\n",
       "      <td>-0.188640</td>\n",
       "      <td>-0.136940</td>\n",
       "      <td>0.246062</td>\n",
       "      <td>-0.188483</td>\n",
       "      <td>0.298022</td>\n",
       "    </tr>\n",
       "    <tr>\n",
       "      <td>year</td>\n",
       "      <td>0.129598</td>\n",
       "      <td>-0.000291</td>\n",
       "      <td>-0.060593</td>\n",
       "      <td>-0.051897</td>\n",
       "      <td>-0.169527</td>\n",
       "      <td>0.021788</td>\n",
       "      <td>-0.043176</td>\n",
       "      <td>0.016627</td>\n",
       "      <td>0.016105</td>\n",
       "      <td>-0.016768</td>\n",
       "      <td>...</td>\n",
       "      <td>-0.019753</td>\n",
       "      <td>-0.003887</td>\n",
       "      <td>-0.419037</td>\n",
       "      <td>0.061594</td>\n",
       "      <td>1.000000</td>\n",
       "      <td>-0.018347</td>\n",
       "      <td>-0.001883</td>\n",
       "      <td>0.016126</td>\n",
       "      <td>0.025155</td>\n",
       "      <td>0.045339</td>\n",
       "    </tr>\n",
       "    <tr>\n",
       "      <td>first_floor</td>\n",
       "      <td>-0.029571</td>\n",
       "      <td>-0.134590</td>\n",
       "      <td>0.004853</td>\n",
       "      <td>0.081928</td>\n",
       "      <td>-0.063364</td>\n",
       "      <td>-0.231428</td>\n",
       "      <td>0.059138</td>\n",
       "      <td>-0.388871</td>\n",
       "      <td>-0.008470</td>\n",
       "      <td>-0.014119</td>\n",
       "      <td>...</td>\n",
       "      <td>-0.019993</td>\n",
       "      <td>0.003093</td>\n",
       "      <td>0.054778</td>\n",
       "      <td>-0.188640</td>\n",
       "      <td>-0.018347</td>\n",
       "      <td>1.000000</td>\n",
       "      <td>-0.139799</td>\n",
       "      <td>-0.648363</td>\n",
       "      <td>0.101269</td>\n",
       "      <td>-0.091341</td>\n",
       "    </tr>\n",
       "    <tr>\n",
       "      <td>last_floor</td>\n",
       "      <td>0.001530</td>\n",
       "      <td>-0.090232</td>\n",
       "      <td>0.012882</td>\n",
       "      <td>0.043682</td>\n",
       "      <td>-0.027120</td>\n",
       "      <td>-0.215854</td>\n",
       "      <td>0.039876</td>\n",
       "      <td>0.104906</td>\n",
       "      <td>-0.022296</td>\n",
       "      <td>-0.006962</td>\n",
       "      <td>...</td>\n",
       "      <td>-0.004031</td>\n",
       "      <td>-0.044058</td>\n",
       "      <td>0.011311</td>\n",
       "      <td>-0.136940</td>\n",
       "      <td>-0.001883</td>\n",
       "      <td>-0.139799</td>\n",
       "      <td>1.000000</td>\n",
       "      <td>-0.659323</td>\n",
       "      <td>0.054431</td>\n",
       "      <td>-0.079566</td>\n",
       "    </tr>\n",
       "    <tr>\n",
       "      <td>other_floor</td>\n",
       "      <td>0.021127</td>\n",
       "      <td>0.170591</td>\n",
       "      <td>-0.011970</td>\n",
       "      <td>-0.095246</td>\n",
       "      <td>0.069862</td>\n",
       "      <td>0.339445</td>\n",
       "      <td>-0.074665</td>\n",
       "      <td>0.213067</td>\n",
       "      <td>0.023474</td>\n",
       "      <td>0.016008</td>\n",
       "      <td>...</td>\n",
       "      <td>0.017815</td>\n",
       "      <td>0.031523</td>\n",
       "      <td>-0.050464</td>\n",
       "      <td>0.246062</td>\n",
       "      <td>0.016126</td>\n",
       "      <td>-0.648363</td>\n",
       "      <td>-0.659323</td>\n",
       "      <td>1.000000</td>\n",
       "      <td>-0.119085</td>\n",
       "      <td>0.130291</td>\n",
       "    </tr>\n",
       "    <tr>\n",
       "      <td>part_of_living_area</td>\n",
       "      <td>-0.048004</td>\n",
       "      <td>-0.107639</td>\n",
       "      <td>0.036223</td>\n",
       "      <td>0.294601</td>\n",
       "      <td>-0.133493</td>\n",
       "      <td>-0.262949</td>\n",
       "      <td>0.521057</td>\n",
       "      <td>-0.200230</td>\n",
       "      <td>0.089346</td>\n",
       "      <td>0.060891</td>\n",
       "      <td>...</td>\n",
       "      <td>-0.039754</td>\n",
       "      <td>0.009844</td>\n",
       "      <td>-0.044034</td>\n",
       "      <td>-0.188483</td>\n",
       "      <td>0.025155</td>\n",
       "      <td>0.101269</td>\n",
       "      <td>0.054431</td>\n",
       "      <td>-0.119085</td>\n",
       "      <td>1.000000</td>\n",
       "      <td>-0.251371</td>\n",
       "    </tr>\n",
       "    <tr>\n",
       "      <td>part_of_kitchen_area</td>\n",
       "      <td>-0.063311</td>\n",
       "      <td>-0.188240</td>\n",
       "      <td>-0.508706</td>\n",
       "      <td>-0.686381</td>\n",
       "      <td>0.205381</td>\n",
       "      <td>0.372766</td>\n",
       "      <td>-0.596938</td>\n",
       "      <td>0.272572</td>\n",
       "      <td>0.217469</td>\n",
       "      <td>0.135306</td>\n",
       "      <td>...</td>\n",
       "      <td>-0.005368</td>\n",
       "      <td>-0.041138</td>\n",
       "      <td>-0.051507</td>\n",
       "      <td>0.298022</td>\n",
       "      <td>0.045339</td>\n",
       "      <td>-0.091341</td>\n",
       "      <td>-0.079566</td>\n",
       "      <td>0.130291</td>\n",
       "      <td>-0.251371</td>\n",
       "      <td>1.000000</td>\n",
       "    </tr>\n",
       "  </tbody>\n",
       "</table>\n",
       "<p>26 rows × 26 columns</p>\n",
       "</div>"
      ],
      "text/plain": [
       "                      total_images  last_price  total_area     rooms  \\\n",
       "total_images              1.000000    0.155139    0.087964  0.065993   \n",
       "last_price                0.155139    1.000000    0.654029  0.410920   \n",
       "total_area                0.087964    0.654029    1.000000  0.805368   \n",
       "rooms                     0.065993    0.410920    0.805368  1.000000   \n",
       "ceiling_height           -0.062320    0.158994    0.095920 -0.084467   \n",
       "floors_total              0.007526    0.283320   -0.006767 -0.229874   \n",
       "living_area               0.056909    0.483959    0.852764  0.849957   \n",
       "floor                     0.026441    0.182980   -0.031943 -0.188773   \n",
       "studio                   -0.022135   -0.067472   -0.117411 -0.168622   \n",
       "open_plan                -0.017019   -0.044732   -0.074795 -0.112496   \n",
       "kitchen_area              0.022070    0.409135    0.353257 -0.019168   \n",
       "balcony                   0.033315    0.098395    0.076578  0.013251   \n",
       "airports_nearest          0.000832    0.047440    0.010188 -0.017269   \n",
       "cityCenters_nearest      -0.049950   -0.508127   -0.078818 -0.039890   \n",
       "parks_around3000          0.018312    0.200411    0.015540  0.029094   \n",
       "parks_nearest            -0.003137    0.079898    0.024181 -0.034661   \n",
       "ponds_around3000          0.004723    0.238152    0.061155  0.001827   \n",
       "ponds_nearest             0.008963   -0.006027   -0.001414  0.014268   \n",
       "days_exposition           0.004788    0.029409    0.068373  0.055323   \n",
       "price_per_square          0.116995    0.608319   -0.159592 -0.284837   \n",
       "year                      0.129598   -0.000291   -0.060593 -0.051897   \n",
       "first_floor              -0.029571   -0.134590    0.004853  0.081928   \n",
       "last_floor                0.001530   -0.090232    0.012882  0.043682   \n",
       "other_floor               0.021127    0.170591   -0.011970 -0.095246   \n",
       "part_of_living_area      -0.048004   -0.107639    0.036223  0.294601   \n",
       "part_of_kitchen_area     -0.063311   -0.188240   -0.508706 -0.686381   \n",
       "\n",
       "                      ceiling_height  floors_total  living_area     floor  \\\n",
       "total_images               -0.062320      0.007526     0.056909  0.026441   \n",
       "last_price                  0.158994      0.283320     0.483959  0.182980   \n",
       "total_area                  0.095920     -0.006767     0.852764 -0.031943   \n",
       "rooms                      -0.084467     -0.229874     0.849957 -0.188773   \n",
       "ceiling_height              1.000000      0.244768    -0.006822  0.169091   \n",
       "floors_total                0.244768      1.000000    -0.158390  0.669977   \n",
       "living_area                -0.006822     -0.158390     1.000000 -0.141729   \n",
       "floor                       0.169091      0.669977    -0.141729  1.000000   \n",
       "studio                      0.035093      0.078676    -0.069920  0.045343   \n",
       "open_plan                   0.038659      0.053989    -0.043680  0.038719   \n",
       "kitchen_area                0.290434      0.367610     0.084418  0.247393   \n",
       "balcony                    -0.036581      0.144347     0.019449  0.145473   \n",
       "airports_nearest           -0.035162      0.086185    -0.018497  0.060255   \n",
       "cityCenters_nearest        -0.042327     -0.173720    -0.057220 -0.104339   \n",
       "parks_around3000           -0.010777     -0.113814     0.031961 -0.084930   \n",
       "parks_nearest               0.055001      0.118697    -0.022734  0.087525   \n",
       "ponds_around3000            0.042675      0.000914     0.027724  0.001379   \n",
       "ponds_nearest              -0.059527      0.032440     0.008103  0.014925   \n",
       "days_exposition            -0.008806     -0.034405     0.045278 -0.034089   \n",
       "price_per_square            0.112436      0.400379    -0.236226  0.289189   \n",
       "year                       -0.169527      0.021788    -0.043176  0.016627   \n",
       "first_floor                -0.063364     -0.231428     0.059138 -0.388871   \n",
       "last_floor                 -0.027120     -0.215854     0.039876  0.104906   \n",
       "other_floor                 0.069862      0.339445    -0.074665  0.213067   \n",
       "part_of_living_area        -0.133493     -0.262949     0.521057 -0.200230   \n",
       "part_of_kitchen_area        0.205381      0.372766    -0.596938  0.272572   \n",
       "\n",
       "                        studio  open_plan  ...  ponds_around3000  \\\n",
       "total_images         -0.022135  -0.017019  ...          0.004723   \n",
       "last_price           -0.067472  -0.044732  ...          0.238152   \n",
       "total_area           -0.117411  -0.074795  ...          0.061155   \n",
       "rooms                -0.168622  -0.112496  ...          0.001827   \n",
       "ceiling_height        0.035093   0.038659  ...          0.042675   \n",
       "floors_total          0.078676   0.053989  ...          0.000914   \n",
       "living_area          -0.069920  -0.043680  ...          0.027724   \n",
       "floor                 0.045343   0.038719  ...          0.001379   \n",
       "studio                1.000000  -0.004755  ...         -0.010437   \n",
       "open_plan            -0.004755   1.000000  ...          0.005152   \n",
       "kitchen_area          0.028026   0.019037  ...          0.054772   \n",
       "balcony               0.031117   0.040485  ...         -0.021700   \n",
       "airports_nearest     -0.024403  -0.015492  ...          0.009459   \n",
       "cityCenters_nearest   0.010162   0.006492  ...         -0.204688   \n",
       "parks_around3000     -0.034455  -0.013897  ...          0.342844   \n",
       "parks_nearest         0.035979   0.028328  ...          0.049402   \n",
       "ponds_around3000     -0.010437   0.005152  ...          1.000000   \n",
       "ponds_nearest        -0.011624   0.002302  ...         -0.278766   \n",
       "days_exposition      -0.025598  -0.016517  ...          0.016572   \n",
       "price_per_square      0.057119   0.032625  ...          0.252112   \n",
       "year                  0.016105  -0.016768  ...         -0.019753   \n",
       "first_floor          -0.008470  -0.014119  ...         -0.019993   \n",
       "last_floor           -0.022296  -0.006962  ...         -0.004031   \n",
       "other_floor           0.023474   0.016008  ...          0.017815   \n",
       "part_of_living_area   0.089346   0.060891  ...         -0.039754   \n",
       "part_of_kitchen_area  0.217469   0.135306  ...         -0.005368   \n",
       "\n",
       "                      ponds_nearest  days_exposition  price_per_square  \\\n",
       "total_images               0.008963         0.004788          0.116995   \n",
       "last_price                -0.006027         0.029409          0.608319   \n",
       "total_area                -0.001414         0.068373         -0.159592   \n",
       "rooms                      0.014268         0.055323         -0.284837   \n",
       "ceiling_height            -0.059527        -0.008806          0.112436   \n",
       "floors_total               0.032440        -0.034405          0.400379   \n",
       "living_area                0.008103         0.045278         -0.236226   \n",
       "floor                      0.014925        -0.034089          0.289189   \n",
       "studio                    -0.011624        -0.025598          0.057119   \n",
       "open_plan                  0.002302        -0.016517          0.032625   \n",
       "kitchen_area              -0.044094         0.006641          0.176464   \n",
       "balcony                    0.020500        -0.005508          0.055150   \n",
       "airports_nearest           0.005895         0.001468          0.043013   \n",
       "cityCenters_nearest       -0.053180         0.004713         -0.599470   \n",
       "parks_around3000          -0.105059         0.005283          0.247083   \n",
       "parks_nearest              0.023217         0.021273          0.090134   \n",
       "ponds_around3000          -0.278766         0.016572          0.252112   \n",
       "ponds_nearest              1.000000        -0.032998         -0.003026   \n",
       "days_exposition           -0.032998         1.000000         -0.031386   \n",
       "price_per_square          -0.003026        -0.031386          1.000000   \n",
       "year                      -0.003887        -0.419037          0.061594   \n",
       "first_floor                0.003093         0.054778         -0.188640   \n",
       "last_floor                -0.044058         0.011311         -0.136940   \n",
       "other_floor                0.031523        -0.050464          0.246062   \n",
       "part_of_living_area        0.009844        -0.044034         -0.188483   \n",
       "part_of_kitchen_area      -0.041138        -0.051507          0.298022   \n",
       "\n",
       "                          year  first_floor  last_floor  other_floor  \\\n",
       "total_images          0.129598    -0.029571    0.001530     0.021127   \n",
       "last_price           -0.000291    -0.134590   -0.090232     0.170591   \n",
       "total_area           -0.060593     0.004853    0.012882    -0.011970   \n",
       "rooms                -0.051897     0.081928    0.043682    -0.095246   \n",
       "ceiling_height       -0.169527    -0.063364   -0.027120     0.069862   \n",
       "floors_total          0.021788    -0.231428   -0.215854     0.339445   \n",
       "living_area          -0.043176     0.059138    0.039876    -0.074665   \n",
       "floor                 0.016627    -0.388871    0.104906     0.213067   \n",
       "studio                0.016105    -0.008470   -0.022296     0.023474   \n",
       "open_plan            -0.016768    -0.014119   -0.006962     0.016008   \n",
       "kitchen_area         -0.001070    -0.092025   -0.066204     0.121919   \n",
       "balcony              -0.011365    -0.136262   -0.020988     0.118512   \n",
       "airports_nearest      0.014455    -0.023545   -0.008120     0.025336   \n",
       "cityCenters_nearest   0.044226     0.068533    0.075244    -0.107450   \n",
       "parks_around3000     -0.033122     0.011075    0.017522    -0.022718   \n",
       "parks_nearest        -0.018845    -0.026853   -0.033608     0.045924   \n",
       "ponds_around3000     -0.019753    -0.019993   -0.004031     0.017815   \n",
       "ponds_nearest        -0.003887     0.003093   -0.044058     0.031523   \n",
       "days_exposition      -0.419037     0.054778    0.011311    -0.050464   \n",
       "price_per_square      0.061594    -0.188640   -0.136940     0.246062   \n",
       "year                  1.000000    -0.018347   -0.001883     0.016126   \n",
       "first_floor          -0.018347     1.000000   -0.139799    -0.648363   \n",
       "last_floor           -0.001883    -0.139799    1.000000    -0.659323   \n",
       "other_floor           0.016126    -0.648363   -0.659323     1.000000   \n",
       "part_of_living_area   0.025155     0.101269    0.054431    -0.119085   \n",
       "part_of_kitchen_area  0.045339    -0.091341   -0.079566     0.130291   \n",
       "\n",
       "                      part_of_living_area  part_of_kitchen_area  \n",
       "total_images                    -0.048004             -0.063311  \n",
       "last_price                      -0.107639             -0.188240  \n",
       "total_area                       0.036223             -0.508706  \n",
       "rooms                            0.294601             -0.686381  \n",
       "ceiling_height                  -0.133493              0.205381  \n",
       "floors_total                    -0.262949              0.372766  \n",
       "living_area                      0.521057             -0.596938  \n",
       "floor                           -0.200230              0.272572  \n",
       "studio                           0.089346              0.217469  \n",
       "open_plan                        0.060891              0.135306  \n",
       "kitchen_area                    -0.314766              0.566397  \n",
       "balcony                         -0.097182              0.004103  \n",
       "airports_nearest                -0.055549              0.007221  \n",
       "cityCenters_nearest              0.020625              0.020585  \n",
       "parks_around3000                 0.024461             -0.076619  \n",
       "parks_nearest                   -0.067719              0.061813  \n",
       "ponds_around3000                -0.039754             -0.005368  \n",
       "ponds_nearest                    0.009844             -0.041138  \n",
       "days_exposition                 -0.044034             -0.051507  \n",
       "price_per_square                -0.188483              0.298022  \n",
       "year                             0.025155              0.045339  \n",
       "first_floor                      0.101269             -0.091341  \n",
       "last_floor                       0.054431             -0.079566  \n",
       "other_floor                     -0.119085              0.130291  \n",
       "part_of_living_area              1.000000             -0.251371  \n",
       "part_of_kitchen_area            -0.251371              1.000000  \n",
       "\n",
       "[26 rows x 26 columns]"
      ]
     },
     "execution_count": 90,
     "metadata": {},
     "output_type": "execute_result"
    }
   ],
   "source": [
    "data.corr()"
   ]
  },
  {
   "cell_type": "code",
   "execution_count": 91,
   "metadata": {},
   "outputs": [
    {
     "data": {
      "text/plain": [
       "0.410920283877633"
      ]
     },
     "execution_count": 91,
     "metadata": {},
     "output_type": "execute_result"
    }
   ],
   "source": [
    "data['last_price'].corr(data['rooms'])"
   ]
  },
  {
   "cell_type": "code",
   "execution_count": 92,
   "metadata": {},
   "outputs": [
    {
     "data": {
      "text/plain": [
       "-0.5081273082202423"
      ]
     },
     "execution_count": 92,
     "metadata": {},
     "output_type": "execute_result"
    }
   ],
   "source": [
    "data['last_price'].corr(data['cityCenters_nearest'])"
   ]
  },
  {
   "cell_type": "code",
   "execution_count": 93,
   "metadata": {},
   "outputs": [
    {
     "data": {
      "text/plain": [
       "0.65402867729483"
      ]
     },
     "execution_count": 93,
     "metadata": {},
     "output_type": "execute_result"
    }
   ],
   "source": [
    "data['last_price'].corr(data['total_area'])"
   ]
  },
  {
   "cell_type": "markdown",
   "metadata": {},
   "source": [
    "Учитывая, что коэффициент корреляции может принимать значения от -1 до 1, мы можем сделать следующие выводы:\n",
    "* есть положительная корреляция в случае с комнатами и общей площадью. Мы видим, что с ростом числа комнат и площади растёт и цена;\n",
    "* есть отрицательная корреляция цены с удалённостью от центра. Здесь также всё ясно: чем выше будет число км, тем ниже будет цена."
   ]
  },
  {
   "cell_type": "markdown",
   "metadata": {},
   "source": [
    "Выделим среди 10 населённых пунктов с наибольшим числом объявлений пункты с самой высокой и низкой стоимостью жилья."
   ]
  },
  {
   "cell_type": "code",
   "execution_count": 94,
   "metadata": {},
   "outputs": [
    {
     "data": {
      "text/plain": [
       "<matplotlib.axes._subplots.AxesSubplot at 0x7fc12e873090>"
      ]
     },
     "execution_count": 94,
     "metadata": {},
     "output_type": "execute_result"
    },
    {
     "data": {
      "image/png": "[encoded data removed]",
      "text/plain": [
       "<Figure size 864x432 with 1 Axes>"
      ]
     },
     "metadata": {
      "needs_background": "light"
     },
     "output_type": "display_data"
    }
   ],
   "source": [
    "top10 = data['locality_name'].value_counts().head(10)\n",
    "(data.query('locality_name in @top10.index')\n",
    " .pivot_table(index = 'locality_name', values = 'price_per_square', aggfunc= 'mean')\n",
    " .sort_values(by = 'price_per_square').plot(kind = 'bar', figsize = (12,6), grid = True)\n",
    "       )"
   ]
  },
  {
   "cell_type": "markdown",
   "metadata": {},
   "source": [
    "Самая низкая стоимость жилья в Выборге, а самые дорогие квартиры - в Санкт-Петербурге."
   ]
  },
  {
   "cell_type": "markdown",
   "metadata": {},
   "source": [
    "Создадим столбец с расстоянием до центра в километрах и округлим до целых значений."
   ]
  },
  {
   "cell_type": "code",
   "execution_count": 95,
   "metadata": {},
   "outputs": [
    {
     "data": {
      "text/plain": [
       "1        19\n",
       "5        30\n",
       "6        19\n",
       "8        30\n",
       "9        15\n",
       "         ..\n",
       "23687    17\n",
       "23689    16\n",
       "23692    30\n",
       "23693    34\n",
       "23695    30\n",
       "Name: cityCenters_nearest_km, Length: 13667, dtype: int64"
      ]
     },
     "execution_count": 95,
     "metadata": {},
     "output_type": "execute_result"
    }
   ],
   "source": [
    "data['cityCenters_nearest_km'] = data['cityCenters_nearest'] / 1000\n",
    "data['cityCenters_nearest_km'] = data['cityCenters_nearest_km'].round()\n",
    "data['cityCenters_nearest_km'] = data['cityCenters_nearest_km'].astype('int')\n",
    "data['cityCenters_nearest_km']"
   ]
  },
  {
   "cell_type": "markdown",
   "metadata": {},
   "source": [
    "Отфильтруем таблицу по Санкт-Петербургу."
   ]
  },
  {
   "cell_type": "code",
   "execution_count": 96,
   "metadata": {},
   "outputs": [
    {
     "data": {
      "text/html": [
       "<div>\n",
       "<style scoped>\n",
       "    .dataframe tbody tr th:only-of-type {\n",
       "        vertical-align: middle;\n",
       "    }\n",
       "\n",
       "    .dataframe tbody tr th {\n",
       "        vertical-align: top;\n",
       "    }\n",
       "\n",
       "    .dataframe thead th {\n",
       "        text-align: right;\n",
       "    }\n",
       "</style>\n",
       "<table border=\"1\" class=\"dataframe\">\n",
       "  <thead>\n",
       "    <tr style=\"text-align: right;\">\n",
       "      <th></th>\n",
       "      <th>total_images</th>\n",
       "      <th>last_price</th>\n",
       "      <th>total_area</th>\n",
       "      <th>first_day_exposition</th>\n",
       "      <th>rooms</th>\n",
       "      <th>ceiling_height</th>\n",
       "      <th>floors_total</th>\n",
       "      <th>living_area</th>\n",
       "      <th>floor</th>\n",
       "      <th>is_apartment</th>\n",
       "      <th>...</th>\n",
       "      <th>weekday</th>\n",
       "      <th>month</th>\n",
       "      <th>year</th>\n",
       "      <th>first_floor</th>\n",
       "      <th>last_floor</th>\n",
       "      <th>other_floor</th>\n",
       "      <th>part_of_living_area</th>\n",
       "      <th>part_of_kitchen_area</th>\n",
       "      <th>last_price_group</th>\n",
       "      <th>cityCenters_nearest_km</th>\n",
       "    </tr>\n",
       "  </thead>\n",
       "  <tbody>\n",
       "    <tr>\n",
       "      <td>9</td>\n",
       "      <td>18</td>\n",
       "      <td>5.40</td>\n",
       "      <td>61.0</td>\n",
       "      <td>2017-02-26</td>\n",
       "      <td>3</td>\n",
       "      <td>2.500000</td>\n",
       "      <td>9</td>\n",
       "      <td>43.6</td>\n",
       "      <td>7</td>\n",
       "      <td>NaN</td>\n",
       "      <td>...</td>\n",
       "      <td>Sunday</td>\n",
       "      <td>February</td>\n",
       "      <td>2017</td>\n",
       "      <td>0</td>\n",
       "      <td>0</td>\n",
       "      <td>1</td>\n",
       "      <td>71.0</td>\n",
       "      <td>11.0</td>\n",
       "      <td>(4.594, 5.85]</td>\n",
       "      <td>15</td>\n",
       "    </tr>\n",
       "    <tr>\n",
       "      <td>10</td>\n",
       "      <td>5</td>\n",
       "      <td>5.05</td>\n",
       "      <td>39.6</td>\n",
       "      <td>2017-11-16</td>\n",
       "      <td>1</td>\n",
       "      <td>2.670000</td>\n",
       "      <td>12</td>\n",
       "      <td>20.3</td>\n",
       "      <td>3</td>\n",
       "      <td>NaN</td>\n",
       "      <td>...</td>\n",
       "      <td>Thursday</td>\n",
       "      <td>November</td>\n",
       "      <td>2017</td>\n",
       "      <td>0</td>\n",
       "      <td>0</td>\n",
       "      <td>1</td>\n",
       "      <td>51.0</td>\n",
       "      <td>21.0</td>\n",
       "      <td>(4.594, 5.85]</td>\n",
       "      <td>14</td>\n",
       "    </tr>\n",
       "    <tr>\n",
       "      <td>18</td>\n",
       "      <td>8</td>\n",
       "      <td>3.25</td>\n",
       "      <td>31.0</td>\n",
       "      <td>2017-01-27</td>\n",
       "      <td>1</td>\n",
       "      <td>2.500000</td>\n",
       "      <td>5</td>\n",
       "      <td>19.4</td>\n",
       "      <td>2</td>\n",
       "      <td>NaN</td>\n",
       "      <td>...</td>\n",
       "      <td>Friday</td>\n",
       "      <td>January</td>\n",
       "      <td>2017</td>\n",
       "      <td>0</td>\n",
       "      <td>0</td>\n",
       "      <td>1</td>\n",
       "      <td>63.0</td>\n",
       "      <td>18.0</td>\n",
       "      <td>(2.99, 3.764]</td>\n",
       "      <td>11</td>\n",
       "    </tr>\n",
       "    <tr>\n",
       "      <td>21</td>\n",
       "      <td>13</td>\n",
       "      <td>3.20</td>\n",
       "      <td>31.6</td>\n",
       "      <td>2018-03-14</td>\n",
       "      <td>1</td>\n",
       "      <td>2.771499</td>\n",
       "      <td>5</td>\n",
       "      <td>16.9</td>\n",
       "      <td>2</td>\n",
       "      <td>NaN</td>\n",
       "      <td>...</td>\n",
       "      <td>Wednesday</td>\n",
       "      <td>March</td>\n",
       "      <td>2018</td>\n",
       "      <td>0</td>\n",
       "      <td>0</td>\n",
       "      <td>1</td>\n",
       "      <td>53.0</td>\n",
       "      <td>18.0</td>\n",
       "      <td>(2.99, 3.764]</td>\n",
       "      <td>10</td>\n",
       "    </tr>\n",
       "    <tr>\n",
       "      <td>24</td>\n",
       "      <td>8</td>\n",
       "      <td>6.50</td>\n",
       "      <td>97.2</td>\n",
       "      <td>2015-10-31</td>\n",
       "      <td>2</td>\n",
       "      <td>2.771499</td>\n",
       "      <td>3</td>\n",
       "      <td>46.5</td>\n",
       "      <td>1</td>\n",
       "      <td>NaN</td>\n",
       "      <td>...</td>\n",
       "      <td>Saturday</td>\n",
       "      <td>October</td>\n",
       "      <td>2015</td>\n",
       "      <td>1</td>\n",
       "      <td>0</td>\n",
       "      <td>0</td>\n",
       "      <td>48.0</td>\n",
       "      <td>20.0</td>\n",
       "      <td>(5.85, 10.0]</td>\n",
       "      <td>2</td>\n",
       "    </tr>\n",
       "    <tr>\n",
       "      <td>...</td>\n",
       "      <td>...</td>\n",
       "      <td>...</td>\n",
       "      <td>...</td>\n",
       "      <td>...</td>\n",
       "      <td>...</td>\n",
       "      <td>...</td>\n",
       "      <td>...</td>\n",
       "      <td>...</td>\n",
       "      <td>...</td>\n",
       "      <td>...</td>\n",
       "      <td>...</td>\n",
       "      <td>...</td>\n",
       "      <td>...</td>\n",
       "      <td>...</td>\n",
       "      <td>...</td>\n",
       "      <td>...</td>\n",
       "      <td>...</td>\n",
       "      <td>...</td>\n",
       "      <td>...</td>\n",
       "      <td>...</td>\n",
       "      <td>...</td>\n",
       "    </tr>\n",
       "    <tr>\n",
       "      <td>23676</td>\n",
       "      <td>19</td>\n",
       "      <td>3.55</td>\n",
       "      <td>36.4</td>\n",
       "      <td>2016-06-08</td>\n",
       "      <td>1</td>\n",
       "      <td>2.771499</td>\n",
       "      <td>16</td>\n",
       "      <td>14.9</td>\n",
       "      <td>13</td>\n",
       "      <td>NaN</td>\n",
       "      <td>...</td>\n",
       "      <td>Wednesday</td>\n",
       "      <td>June</td>\n",
       "      <td>2016</td>\n",
       "      <td>0</td>\n",
       "      <td>0</td>\n",
       "      <td>1</td>\n",
       "      <td>41.0</td>\n",
       "      <td>26.0</td>\n",
       "      <td>(2.99, 3.764]</td>\n",
       "      <td>12</td>\n",
       "    </tr>\n",
       "    <tr>\n",
       "      <td>23681</td>\n",
       "      <td>13</td>\n",
       "      <td>5.25</td>\n",
       "      <td>43.0</td>\n",
       "      <td>2018-05-11</td>\n",
       "      <td>2</td>\n",
       "      <td>2.500000</td>\n",
       "      <td>5</td>\n",
       "      <td>29.0</td>\n",
       "      <td>2</td>\n",
       "      <td>NaN</td>\n",
       "      <td>...</td>\n",
       "      <td>Friday</td>\n",
       "      <td>May</td>\n",
       "      <td>2018</td>\n",
       "      <td>0</td>\n",
       "      <td>0</td>\n",
       "      <td>1</td>\n",
       "      <td>67.0</td>\n",
       "      <td>14.0</td>\n",
       "      <td>(4.594, 5.85]</td>\n",
       "      <td>7</td>\n",
       "    </tr>\n",
       "    <tr>\n",
       "      <td>23686</td>\n",
       "      <td>8</td>\n",
       "      <td>3.30</td>\n",
       "      <td>31.0</td>\n",
       "      <td>2017-04-29</td>\n",
       "      <td>1</td>\n",
       "      <td>2.550000</td>\n",
       "      <td>9</td>\n",
       "      <td>18.0</td>\n",
       "      <td>6</td>\n",
       "      <td>NaN</td>\n",
       "      <td>...</td>\n",
       "      <td>Saturday</td>\n",
       "      <td>April</td>\n",
       "      <td>2017</td>\n",
       "      <td>0</td>\n",
       "      <td>0</td>\n",
       "      <td>1</td>\n",
       "      <td>58.0</td>\n",
       "      <td>21.0</td>\n",
       "      <td>(2.99, 3.764]</td>\n",
       "      <td>12</td>\n",
       "    </tr>\n",
       "    <tr>\n",
       "      <td>23687</td>\n",
       "      <td>6</td>\n",
       "      <td>3.20</td>\n",
       "      <td>39.0</td>\n",
       "      <td>2017-12-16</td>\n",
       "      <td>1</td>\n",
       "      <td>2.771499</td>\n",
       "      <td>9</td>\n",
       "      <td>20.0</td>\n",
       "      <td>6</td>\n",
       "      <td>NaN</td>\n",
       "      <td>...</td>\n",
       "      <td>Saturday</td>\n",
       "      <td>December</td>\n",
       "      <td>2017</td>\n",
       "      <td>0</td>\n",
       "      <td>0</td>\n",
       "      <td>1</td>\n",
       "      <td>51.0</td>\n",
       "      <td>28.0</td>\n",
       "      <td>(2.99, 3.764]</td>\n",
       "      <td>17</td>\n",
       "    </tr>\n",
       "    <tr>\n",
       "      <td>23689</td>\n",
       "      <td>13</td>\n",
       "      <td>3.55</td>\n",
       "      <td>35.3</td>\n",
       "      <td>2018-02-28</td>\n",
       "      <td>1</td>\n",
       "      <td>2.860000</td>\n",
       "      <td>15</td>\n",
       "      <td>16.3</td>\n",
       "      <td>4</td>\n",
       "      <td>NaN</td>\n",
       "      <td>...</td>\n",
       "      <td>Wednesday</td>\n",
       "      <td>February</td>\n",
       "      <td>2018</td>\n",
       "      <td>0</td>\n",
       "      <td>0</td>\n",
       "      <td>1</td>\n",
       "      <td>46.0</td>\n",
       "      <td>26.0</td>\n",
       "      <td>(2.99, 3.764]</td>\n",
       "      <td>16</td>\n",
       "    </tr>\n",
       "  </tbody>\n",
       "</table>\n",
       "<p>8307 rows × 34 columns</p>\n",
       "</div>"
      ],
      "text/plain": [
       "       total_images  last_price  total_area first_day_exposition  rooms  \\\n",
       "9                18        5.40        61.0           2017-02-26      3   \n",
       "10                5        5.05        39.6           2017-11-16      1   \n",
       "18                8        3.25        31.0           2017-01-27      1   \n",
       "21               13        3.20        31.6           2018-03-14      1   \n",
       "24                8        6.50        97.2           2015-10-31      2   \n",
       "...             ...         ...         ...                  ...    ...   \n",
       "23676            19        3.55        36.4           2016-06-08      1   \n",
       "23681            13        5.25        43.0           2018-05-11      2   \n",
       "23686             8        3.30        31.0           2017-04-29      1   \n",
       "23687             6        3.20        39.0           2017-12-16      1   \n",
       "23689            13        3.55        35.3           2018-02-28      1   \n",
       "\n",
       "       ceiling_height  floors_total  living_area  floor is_apartment  ...  \\\n",
       "9            2.500000             9         43.6      7          NaN  ...   \n",
       "10           2.670000            12         20.3      3          NaN  ...   \n",
       "18           2.500000             5         19.4      2          NaN  ...   \n",
       "21           2.771499             5         16.9      2          NaN  ...   \n",
       "24           2.771499             3         46.5      1          NaN  ...   \n",
       "...               ...           ...          ...    ...          ...  ...   \n",
       "23676        2.771499            16         14.9     13          NaN  ...   \n",
       "23681        2.500000             5         29.0      2          NaN  ...   \n",
       "23686        2.550000             9         18.0      6          NaN  ...   \n",
       "23687        2.771499             9         20.0      6          NaN  ...   \n",
       "23689        2.860000            15         16.3      4          NaN  ...   \n",
       "\n",
       "         weekday     month  year  first_floor last_floor  other_floor  \\\n",
       "9         Sunday  February  2017            0          0            1   \n",
       "10      Thursday  November  2017            0          0            1   \n",
       "18        Friday   January  2017            0          0            1   \n",
       "21     Wednesday     March  2018            0          0            1   \n",
       "24      Saturday   October  2015            1          0            0   \n",
       "...          ...       ...   ...          ...        ...          ...   \n",
       "23676  Wednesday      June  2016            0          0            1   \n",
       "23681     Friday       May  2018            0          0            1   \n",
       "23686   Saturday     April  2017            0          0            1   \n",
       "23687   Saturday  December  2017            0          0            1   \n",
       "23689  Wednesday  February  2018            0          0            1   \n",
       "\n",
       "       part_of_living_area  part_of_kitchen_area  last_price_group  \\\n",
       "9                     71.0                  11.0     (4.594, 5.85]   \n",
       "10                    51.0                  21.0     (4.594, 5.85]   \n",
       "18                    63.0                  18.0     (2.99, 3.764]   \n",
       "21                    53.0                  18.0     (2.99, 3.764]   \n",
       "24                    48.0                  20.0      (5.85, 10.0]   \n",
       "...                    ...                   ...               ...   \n",
       "23676                 41.0                  26.0     (2.99, 3.764]   \n",
       "23681                 67.0                  14.0     (4.594, 5.85]   \n",
       "23686                 58.0                  21.0     (2.99, 3.764]   \n",
       "23687                 51.0                  28.0     (2.99, 3.764]   \n",
       "23689                 46.0                  26.0     (2.99, 3.764]   \n",
       "\n",
       "       cityCenters_nearest_km  \n",
       "9                          15  \n",
       "10                         14  \n",
       "18                         11  \n",
       "21                         10  \n",
       "24                          2  \n",
       "...                       ...  \n",
       "23676                      12  \n",
       "23681                       7  \n",
       "23686                      12  \n",
       "23687                      17  \n",
       "23689                      16  \n",
       "\n",
       "[8307 rows x 34 columns]"
      ]
     },
     "execution_count": 96,
     "metadata": {},
     "output_type": "execute_result"
    }
   ],
   "source": [
    "data_spb = data[data['locality_name'] == 'Санкт-Петербург']\n",
    "data_spb"
   ]
  },
  {
   "cell_type": "markdown",
   "metadata": {},
   "source": [
    "Теперь посчитаем цену для каждого километра."
   ]
  },
  {
   "cell_type": "markdown",
   "metadata": {},
   "source": [
    "Построим график зависимости цены от удалённости от центра. Определим центральную зону."
   ]
  },
  {
   "cell_type": "code",
   "execution_count": 98,
   "metadata": {},
   "outputs": [
    {
     "data": {
      "text/plain": [
       "<matplotlib.axes._subplots.AxesSubplot at 0x7fc12ec79610>"
      ]
     },
     "execution_count": 98,
     "metadata": {},
     "output_type": "execute_result"
    },
    {
     "data": {
      "image/png": "[encoded data removed]",
      "text/plain": [
       "<Figure size 432x288 with 1 Axes>"
      ]
     },
     "metadata": {
      "needs_background": "light"
     },
     "output_type": "display_data"
    }
   ],
   "source": [
    "data.groupby(['cityCenters_nearest_km']).agg({'last_price' : 'mean'}).plot()"
   ]
  },
  {
   "cell_type": "markdown",
   "metadata": {},
   "source": [
    "Видим, что график сильно меняется от 15-го километра. Значит, наша центральная область ограничивается 15-ю километрами."
   ]
  },
  {
   "cell_type": "markdown",
   "metadata": {},
   "source": [
    "Выделим сегмент квартир в центре."
   ]
  },
  {
   "cell_type": "code",
   "execution_count": 99,
   "metadata": {
    "scrolled": true
   },
   "outputs": [
    {
     "data": {
      "text/html": [
       "<div>\n",
       "<style scoped>\n",
       "    .dataframe tbody tr th:only-of-type {\n",
       "        vertical-align: middle;\n",
       "    }\n",
       "\n",
       "    .dataframe tbody tr th {\n",
       "        vertical-align: top;\n",
       "    }\n",
       "\n",
       "    .dataframe thead th {\n",
       "        text-align: right;\n",
       "    }\n",
       "</style>\n",
       "<table border=\"1\" class=\"dataframe\">\n",
       "  <thead>\n",
       "    <tr style=\"text-align: right;\">\n",
       "      <th></th>\n",
       "      <th>total_images</th>\n",
       "      <th>last_price</th>\n",
       "      <th>total_area</th>\n",
       "      <th>first_day_exposition</th>\n",
       "      <th>rooms</th>\n",
       "      <th>ceiling_height</th>\n",
       "      <th>floors_total</th>\n",
       "      <th>living_area</th>\n",
       "      <th>floor</th>\n",
       "      <th>is_apartment</th>\n",
       "      <th>...</th>\n",
       "      <th>weekday</th>\n",
       "      <th>month</th>\n",
       "      <th>year</th>\n",
       "      <th>first_floor</th>\n",
       "      <th>last_floor</th>\n",
       "      <th>other_floor</th>\n",
       "      <th>part_of_living_area</th>\n",
       "      <th>part_of_kitchen_area</th>\n",
       "      <th>last_price_group</th>\n",
       "      <th>cityCenters_nearest_km</th>\n",
       "    </tr>\n",
       "  </thead>\n",
       "  <tbody>\n",
       "    <tr>\n",
       "      <td>9</td>\n",
       "      <td>18</td>\n",
       "      <td>5.40</td>\n",
       "      <td>61.0</td>\n",
       "      <td>2017-02-26</td>\n",
       "      <td>3</td>\n",
       "      <td>2.500000</td>\n",
       "      <td>9</td>\n",
       "      <td>43.6</td>\n",
       "      <td>7</td>\n",
       "      <td>NaN</td>\n",
       "      <td>...</td>\n",
       "      <td>Sunday</td>\n",
       "      <td>February</td>\n",
       "      <td>2017</td>\n",
       "      <td>0</td>\n",
       "      <td>0</td>\n",
       "      <td>1</td>\n",
       "      <td>71.0</td>\n",
       "      <td>11.0</td>\n",
       "      <td>(4.594, 5.85]</td>\n",
       "      <td>15</td>\n",
       "    </tr>\n",
       "    <tr>\n",
       "      <td>10</td>\n",
       "      <td>5</td>\n",
       "      <td>5.05</td>\n",
       "      <td>39.6</td>\n",
       "      <td>2017-11-16</td>\n",
       "      <td>1</td>\n",
       "      <td>2.670000</td>\n",
       "      <td>12</td>\n",
       "      <td>20.3</td>\n",
       "      <td>3</td>\n",
       "      <td>NaN</td>\n",
       "      <td>...</td>\n",
       "      <td>Thursday</td>\n",
       "      <td>November</td>\n",
       "      <td>2017</td>\n",
       "      <td>0</td>\n",
       "      <td>0</td>\n",
       "      <td>1</td>\n",
       "      <td>51.0</td>\n",
       "      <td>21.0</td>\n",
       "      <td>(4.594, 5.85]</td>\n",
       "      <td>14</td>\n",
       "    </tr>\n",
       "    <tr>\n",
       "      <td>18</td>\n",
       "      <td>8</td>\n",
       "      <td>3.25</td>\n",
       "      <td>31.0</td>\n",
       "      <td>2017-01-27</td>\n",
       "      <td>1</td>\n",
       "      <td>2.500000</td>\n",
       "      <td>5</td>\n",
       "      <td>19.4</td>\n",
       "      <td>2</td>\n",
       "      <td>NaN</td>\n",
       "      <td>...</td>\n",
       "      <td>Friday</td>\n",
       "      <td>January</td>\n",
       "      <td>2017</td>\n",
       "      <td>0</td>\n",
       "      <td>0</td>\n",
       "      <td>1</td>\n",
       "      <td>63.0</td>\n",
       "      <td>18.0</td>\n",
       "      <td>(2.99, 3.764]</td>\n",
       "      <td>11</td>\n",
       "    </tr>\n",
       "    <tr>\n",
       "      <td>21</td>\n",
       "      <td>13</td>\n",
       "      <td>3.20</td>\n",
       "      <td>31.6</td>\n",
       "      <td>2018-03-14</td>\n",
       "      <td>1</td>\n",
       "      <td>2.771499</td>\n",
       "      <td>5</td>\n",
       "      <td>16.9</td>\n",
       "      <td>2</td>\n",
       "      <td>NaN</td>\n",
       "      <td>...</td>\n",
       "      <td>Wednesday</td>\n",
       "      <td>March</td>\n",
       "      <td>2018</td>\n",
       "      <td>0</td>\n",
       "      <td>0</td>\n",
       "      <td>1</td>\n",
       "      <td>53.0</td>\n",
       "      <td>18.0</td>\n",
       "      <td>(2.99, 3.764]</td>\n",
       "      <td>10</td>\n",
       "    </tr>\n",
       "    <tr>\n",
       "      <td>24</td>\n",
       "      <td>8</td>\n",
       "      <td>6.50</td>\n",
       "      <td>97.2</td>\n",
       "      <td>2015-10-31</td>\n",
       "      <td>2</td>\n",
       "      <td>2.771499</td>\n",
       "      <td>3</td>\n",
       "      <td>46.5</td>\n",
       "      <td>1</td>\n",
       "      <td>NaN</td>\n",
       "      <td>...</td>\n",
       "      <td>Saturday</td>\n",
       "      <td>October</td>\n",
       "      <td>2015</td>\n",
       "      <td>1</td>\n",
       "      <td>0</td>\n",
       "      <td>0</td>\n",
       "      <td>48.0</td>\n",
       "      <td>20.0</td>\n",
       "      <td>(5.85, 10.0]</td>\n",
       "      <td>2</td>\n",
       "    </tr>\n",
       "    <tr>\n",
       "      <td>...</td>\n",
       "      <td>...</td>\n",
       "      <td>...</td>\n",
       "      <td>...</td>\n",
       "      <td>...</td>\n",
       "      <td>...</td>\n",
       "      <td>...</td>\n",
       "      <td>...</td>\n",
       "      <td>...</td>\n",
       "      <td>...</td>\n",
       "      <td>...</td>\n",
       "      <td>...</td>\n",
       "      <td>...</td>\n",
       "      <td>...</td>\n",
       "      <td>...</td>\n",
       "      <td>...</td>\n",
       "      <td>...</td>\n",
       "      <td>...</td>\n",
       "      <td>...</td>\n",
       "      <td>...</td>\n",
       "      <td>...</td>\n",
       "      <td>...</td>\n",
       "    </tr>\n",
       "    <tr>\n",
       "      <td>23671</td>\n",
       "      <td>3</td>\n",
       "      <td>3.45</td>\n",
       "      <td>35.3</td>\n",
       "      <td>2017-04-14</td>\n",
       "      <td>1</td>\n",
       "      <td>2.500000</td>\n",
       "      <td>9</td>\n",
       "      <td>17.5</td>\n",
       "      <td>4</td>\n",
       "      <td>False</td>\n",
       "      <td>...</td>\n",
       "      <td>Friday</td>\n",
       "      <td>April</td>\n",
       "      <td>2017</td>\n",
       "      <td>0</td>\n",
       "      <td>0</td>\n",
       "      <td>1</td>\n",
       "      <td>50.0</td>\n",
       "      <td>21.0</td>\n",
       "      <td>(2.99, 3.764]</td>\n",
       "      <td>15</td>\n",
       "    </tr>\n",
       "    <tr>\n",
       "      <td>23673</td>\n",
       "      <td>9</td>\n",
       "      <td>3.10</td>\n",
       "      <td>23.0</td>\n",
       "      <td>2018-03-19</td>\n",
       "      <td>1</td>\n",
       "      <td>2.800000</td>\n",
       "      <td>9</td>\n",
       "      <td>12.6</td>\n",
       "      <td>1</td>\n",
       "      <td>NaN</td>\n",
       "      <td>...</td>\n",
       "      <td>Monday</td>\n",
       "      <td>March</td>\n",
       "      <td>2018</td>\n",
       "      <td>1</td>\n",
       "      <td>0</td>\n",
       "      <td>0</td>\n",
       "      <td>55.0</td>\n",
       "      <td>22.0</td>\n",
       "      <td>(2.99, 3.764]</td>\n",
       "      <td>12</td>\n",
       "    </tr>\n",
       "    <tr>\n",
       "      <td>23676</td>\n",
       "      <td>19</td>\n",
       "      <td>3.55</td>\n",
       "      <td>36.4</td>\n",
       "      <td>2016-06-08</td>\n",
       "      <td>1</td>\n",
       "      <td>2.771499</td>\n",
       "      <td>16</td>\n",
       "      <td>14.9</td>\n",
       "      <td>13</td>\n",
       "      <td>NaN</td>\n",
       "      <td>...</td>\n",
       "      <td>Wednesday</td>\n",
       "      <td>June</td>\n",
       "      <td>2016</td>\n",
       "      <td>0</td>\n",
       "      <td>0</td>\n",
       "      <td>1</td>\n",
       "      <td>41.0</td>\n",
       "      <td>26.0</td>\n",
       "      <td>(2.99, 3.764]</td>\n",
       "      <td>12</td>\n",
       "    </tr>\n",
       "    <tr>\n",
       "      <td>23681</td>\n",
       "      <td>13</td>\n",
       "      <td>5.25</td>\n",
       "      <td>43.0</td>\n",
       "      <td>2018-05-11</td>\n",
       "      <td>2</td>\n",
       "      <td>2.500000</td>\n",
       "      <td>5</td>\n",
       "      <td>29.0</td>\n",
       "      <td>2</td>\n",
       "      <td>NaN</td>\n",
       "      <td>...</td>\n",
       "      <td>Friday</td>\n",
       "      <td>May</td>\n",
       "      <td>2018</td>\n",
       "      <td>0</td>\n",
       "      <td>0</td>\n",
       "      <td>1</td>\n",
       "      <td>67.0</td>\n",
       "      <td>14.0</td>\n",
       "      <td>(4.594, 5.85]</td>\n",
       "      <td>7</td>\n",
       "    </tr>\n",
       "    <tr>\n",
       "      <td>23686</td>\n",
       "      <td>8</td>\n",
       "      <td>3.30</td>\n",
       "      <td>31.0</td>\n",
       "      <td>2017-04-29</td>\n",
       "      <td>1</td>\n",
       "      <td>2.550000</td>\n",
       "      <td>9</td>\n",
       "      <td>18.0</td>\n",
       "      <td>6</td>\n",
       "      <td>NaN</td>\n",
       "      <td>...</td>\n",
       "      <td>Saturday</td>\n",
       "      <td>April</td>\n",
       "      <td>2017</td>\n",
       "      <td>0</td>\n",
       "      <td>0</td>\n",
       "      <td>1</td>\n",
       "      <td>58.0</td>\n",
       "      <td>21.0</td>\n",
       "      <td>(2.99, 3.764]</td>\n",
       "      <td>12</td>\n",
       "    </tr>\n",
       "  </tbody>\n",
       "</table>\n",
       "<p>6230 rows × 34 columns</p>\n",
       "</div>"
      ],
      "text/plain": [
       "       total_images  last_price  total_area first_day_exposition  rooms  \\\n",
       "9                18        5.40        61.0           2017-02-26      3   \n",
       "10                5        5.05        39.6           2017-11-16      1   \n",
       "18                8        3.25        31.0           2017-01-27      1   \n",
       "21               13        3.20        31.6           2018-03-14      1   \n",
       "24                8        6.50        97.2           2015-10-31      2   \n",
       "...             ...         ...         ...                  ...    ...   \n",
       "23671             3        3.45        35.3           2017-04-14      1   \n",
       "23673             9        3.10        23.0           2018-03-19      1   \n",
       "23676            19        3.55        36.4           2016-06-08      1   \n",
       "23681            13        5.25        43.0           2018-05-11      2   \n",
       "23686             8        3.30        31.0           2017-04-29      1   \n",
       "\n",
       "       ceiling_height  floors_total  living_area  floor is_apartment  ...  \\\n",
       "9            2.500000             9         43.6      7          NaN  ...   \n",
       "10           2.670000            12         20.3      3          NaN  ...   \n",
       "18           2.500000             5         19.4      2          NaN  ...   \n",
       "21           2.771499             5         16.9      2          NaN  ...   \n",
       "24           2.771499             3         46.5      1          NaN  ...   \n",
       "...               ...           ...          ...    ...          ...  ...   \n",
       "23671        2.500000             9         17.5      4        False  ...   \n",
       "23673        2.800000             9         12.6      1          NaN  ...   \n",
       "23676        2.771499            16         14.9     13          NaN  ...   \n",
       "23681        2.500000             5         29.0      2          NaN  ...   \n",
       "23686        2.550000             9         18.0      6          NaN  ...   \n",
       "\n",
       "         weekday     month  year  first_floor last_floor  other_floor  \\\n",
       "9         Sunday  February  2017            0          0            1   \n",
       "10      Thursday  November  2017            0          0            1   \n",
       "18        Friday   January  2017            0          0            1   \n",
       "21     Wednesday     March  2018            0          0            1   \n",
       "24      Saturday   October  2015            1          0            0   \n",
       "...          ...       ...   ...          ...        ...          ...   \n",
       "23671     Friday     April  2017            0          0            1   \n",
       "23673     Monday     March  2018            1          0            0   \n",
       "23676  Wednesday      June  2016            0          0            1   \n",
       "23681     Friday       May  2018            0          0            1   \n",
       "23686   Saturday     April  2017            0          0            1   \n",
       "\n",
       "       part_of_living_area  part_of_kitchen_area  last_price_group  \\\n",
       "9                     71.0                  11.0     (4.594, 5.85]   \n",
       "10                    51.0                  21.0     (4.594, 5.85]   \n",
       "18                    63.0                  18.0     (2.99, 3.764]   \n",
       "21                    53.0                  18.0     (2.99, 3.764]   \n",
       "24                    48.0                  20.0      (5.85, 10.0]   \n",
       "...                    ...                   ...               ...   \n",
       "23671                 50.0                  21.0     (2.99, 3.764]   \n",
       "23673                 55.0                  22.0     (2.99, 3.764]   \n",
       "23676                 41.0                  26.0     (2.99, 3.764]   \n",
       "23681                 67.0                  14.0     (4.594, 5.85]   \n",
       "23686                 58.0                  21.0     (2.99, 3.764]   \n",
       "\n",
       "       cityCenters_nearest_km  \n",
       "9                          15  \n",
       "10                         14  \n",
       "18                         11  \n",
       "21                         10  \n",
       "24                          2  \n",
       "...                       ...  \n",
       "23671                      15  \n",
       "23673                      12  \n",
       "23676                      12  \n",
       "23681                       7  \n",
       "23686                      12  \n",
       "\n",
       "[6230 rows x 34 columns]"
      ]
     },
     "execution_count": 99,
     "metadata": {},
     "output_type": "execute_result"
    }
   ],
   "source": [
    "data_spb_centr = data_spb[data_spb['cityCenters_nearest_km'] <= 15]\n",
    "data_spb_centr"
   ]
  },
  {
   "cell_type": "markdown",
   "metadata": {},
   "source": [
    "Изучим следующие параметры: площадь, цена, число комнат, высота потолков."
   ]
  },
  {
   "cell_type": "code",
   "execution_count": 100,
   "metadata": {},
   "outputs": [
    {
     "data": {
      "text/plain": [
       "count    6230.000000\n",
       "mean       51.531029\n",
       "std        16.656568\n",
       "min        21.000000\n",
       "25%        39.000000\n",
       "50%        47.200000\n",
       "75%        61.000000\n",
       "max       147.800000\n",
       "Name: total_area, dtype: float64"
      ]
     },
     "execution_count": 100,
     "metadata": {},
     "output_type": "execute_result"
    }
   ],
   "source": [
    "data_spb_centr['total_area'].describe()"
   ]
  },
  {
   "cell_type": "markdown",
   "metadata": {},
   "source": [
    "Средняя площадь квартир в центре составляет примерно 51,5 кв. метра. Показатель для общих выводов составил 60 кв. метров."
   ]
  },
  {
   "cell_type": "code",
   "execution_count": 101,
   "metadata": {},
   "outputs": [
    {
     "data": {
      "text/plain": [
       "count    6230.000000\n",
       "mean        5.298093\n",
       "std         1.695032\n",
       "min         1.200000\n",
       "25%         4.000000\n",
       "50%         4.900000\n",
       "75%         6.350000\n",
       "max         9.999999\n",
       "Name: last_price, dtype: float64"
      ]
     },
     "execution_count": 101,
     "metadata": {},
     "output_type": "execute_result"
    }
   ],
   "source": [
    "data_spb_centr['last_price'].describe()"
   ]
  },
  {
   "cell_type": "markdown",
   "metadata": {},
   "source": [
    "А вот средняя цена уменьшилась с 6.5 миллионов до 5.3 миллионов."
   ]
  },
  {
   "cell_type": "code",
   "execution_count": 102,
   "metadata": {},
   "outputs": [
    {
     "data": {
      "text/plain": [
       "1    2407\n",
       "2    2230\n",
       "3    1320\n",
       "4     204\n",
       "0      50\n",
       "5      19\n",
       "Name: rooms, dtype: int64"
      ]
     },
     "execution_count": 102,
     "metadata": {},
     "output_type": "execute_result"
    }
   ],
   "source": [
    "data_spb_centr['rooms'].value_counts()"
   ]
  },
  {
   "cell_type": "markdown",
   "metadata": {},
   "source": [
    "Количество однокомнатных и двухкомантных квартир по-прежнему преобладает над остальными."
   ]
  },
  {
   "cell_type": "code",
   "execution_count": 103,
   "metadata": {},
   "outputs": [
    {
     "data": {
      "text/plain": [
       "count    6230.000000\n",
       "mean        2.686713\n",
       "std         0.112811\n",
       "min         2.300000\n",
       "25%         2.600000\n",
       "50%         2.770000\n",
       "75%         2.771499\n",
       "max         2.990000\n",
       "Name: ceiling_height, dtype: float64"
      ]
     },
     "execution_count": 103,
     "metadata": {},
     "output_type": "execute_result"
    }
   ],
   "source": [
    "data_spb_centr['ceiling_height'].describe()"
   ]
  },
  {
   "cell_type": "markdown",
   "metadata": {},
   "source": [
    "Минимальная высота потолков зафиксирована на отметке 2.3 метра. А максимальная - 2.99 метра."
   ]
  },
  {
   "cell_type": "markdown",
   "metadata": {},
   "source": [
    "Построим гистограмы для всех параметров."
   ]
  },
  {
   "cell_type": "code",
   "execution_count": 104,
   "metadata": {},
   "outputs": [
    {
     "data": {
      "image/png": "[encoded data removed]",
      "text/plain": [
       "<Figure size 432x288 with 1 Axes>"
      ]
     },
     "metadata": {
      "needs_background": "light"
     },
     "output_type": "display_data"
    },
    {
     "data": {
      "image/png": "[encoded data removed]",
      "text/plain": [
       "<Figure size 432x288 with 1 Axes>"
      ]
     },
     "metadata": {
      "needs_background": "light"
     },
     "output_type": "display_data"
    },
    {
     "data": {
      "image/png": "[encoded data removed]",
      "text/plain": [
       "<Figure size 432x288 with 1 Axes>"
      ]
     },
     "metadata": {
      "needs_background": "light"
     },
     "output_type": "display_data"
    },
    {
     "data": {
      "image/png": "[encoded data removed]",
      "text/plain": [
       "<Figure size 432x288 with 1 Axes>"
      ]
     },
     "metadata": {
      "needs_background": "light"
     },
     "output_type": "display_data"
    }
   ],
   "source": [
    "dict_for_hist = {\n",
    "    'total_area' : [20, (0, 400)],\n",
    "    'last_price' : [200, (0, 20)],\n",
    "    'rooms' : [20, (1, 10)],\n",
    "    'ceiling_height' : [50, (2, 5)]\n",
    "}\n",
    " \n",
    "for column in dict_for_hist.keys():\n",
    "    data_spb_centr[column].hist(bins = dict_for_hist[column][0], range = dict_for_hist[column][1])\n",
    "    plt.title(column)\n",
    "    plt.show()"
   ]
  },
  {
   "cell_type": "markdown",
   "metadata": {},
   "source": [
    "Построим boxplot, чтобы оценить зависимость цены от количества комнат в центральном сегменте."
   ]
  },
  {
   "cell_type": "code",
   "execution_count": 105,
   "metadata": {},
   "outputs": [
    {
     "name": "stderr",
     "output_type": "stream",
     "text": [
      "/opt/conda/lib/python3.7/site-packages/numpy/core/_asarray.py:83: VisibleDeprecationWarning: Creating an ndarray from ragged nested sequences (which is a list-or-tuple of lists-or-tuples-or ndarrays with different lengths or shapes) is deprecated. If you meant to do this, you must specify 'dtype=object' when creating the ndarray\n",
      "  return array(a, dtype, copy=False, order=order)\n"
     ]
    },
    {
     "data": {
      "image/png": "[encoded data removed]",
      "text/plain": [
       "<Figure size 432x288 with 1 Axes>"
      ]
     },
     "metadata": {
      "needs_background": "light"
     },
     "output_type": "display_data"
    }
   ],
   "source": [
    "data_spb_centr.boxplot(column='last_price', by='rooms')\n",
    "plt.show()"
   ]
  },
  {
   "cell_type": "markdown",
   "metadata": {},
   "source": [
    "Цена растёт с ростом количестава комнат."
   ]
  },
  {
   "cell_type": "markdown",
   "metadata": {},
   "source": [
    "Построим столбчатые диаграмы для оценки зависимости цены от нахождения квартиры на первом, последнем или других этажах."
   ]
  },
  {
   "cell_type": "code",
   "execution_count": 106,
   "metadata": {},
   "outputs": [
    {
     "data": {
      "text/plain": [
       "<matplotlib.axes._subplots.AxesSubplot at 0x7fc12ad83610>"
      ]
     },
     "execution_count": 106,
     "metadata": {},
     "output_type": "execute_result"
    },
    {
     "data": {
      "image/png": "[encoded data removed]",
      "text/plain": [
       "<Figure size 432x288 with 1 Axes>"
      ]
     },
     "metadata": {
      "needs_background": "light"
     },
     "output_type": "display_data"
    }
   ],
   "source": [
    "data_spb_centr.groupby('last_price_group')['first_floor'].agg(['mean']).plot(kind='bar')"
   ]
  },
  {
   "cell_type": "markdown",
   "metadata": {},
   "source": [
    "Так же как и в общих выводах наблюдаем, что квартира на первом этаже скорее всего будет стоить дешевле."
   ]
  },
  {
   "cell_type": "code",
   "execution_count": 107,
   "metadata": {},
   "outputs": [
    {
     "data": {
      "text/plain": [
       "<matplotlib.axes._subplots.AxesSubplot at 0x7fc12abed650>"
      ]
     },
     "execution_count": 107,
     "metadata": {},
     "output_type": "execute_result"
    },
    {
     "data": {
      "image/png": "[encoded data removed]",
      "text/plain": [
       "<Figure size 432x288 with 1 Axes>"
      ]
     },
     "metadata": {
      "needs_background": "light"
     },
     "output_type": "display_data"
    }
   ],
   "source": [
    "data_spb_centr.groupby('last_price_group')['last_floor'].agg(['mean']).plot(kind='bar')"
   ]
  },
  {
   "cell_type": "markdown",
   "metadata": {},
   "source": [
    "В отличие от общих выводов видим, что квартира на последнем этаже в центре скорее будет стоить дороже. Это может быть связано с красивыми видами из окон."
   ]
  },
  {
   "cell_type": "code",
   "execution_count": 108,
   "metadata": {},
   "outputs": [
    {
     "data": {
      "text/plain": [
       "<matplotlib.axes._subplots.AxesSubplot at 0x7fc12addf690>"
      ]
     },
     "execution_count": 108,
     "metadata": {},
     "output_type": "execute_result"
    },
    {
     "data": {
      "image/png": "[encoded data removed]",
      "text/plain": [
       "<Figure size 432x288 with 1 Axes>"
      ]
     },
     "metadata": {
      "needs_background": "light"
     },
     "output_type": "display_data"
    }
   ],
   "source": [
    "data_spb_centr.groupby('last_price_group')['other_floor'].agg(['mean']).plot(kind='bar')"
   ]
  },
  {
   "cell_type": "markdown",
   "metadata": {},
   "source": [
    "Здесь особо сильной зависимости мы не наблюдаем, как и в общих выводах."
   ]
  },
  {
   "cell_type": "markdown",
   "metadata": {},
   "source": [
    "Построим графики boxplot, чтобы оценить зависимость цены от дня недели, месяца и года размещения объявления."
   ]
  },
  {
   "cell_type": "code",
   "execution_count": 109,
   "metadata": {},
   "outputs": [
    {
     "name": "stderr",
     "output_type": "stream",
     "text": [
      "/opt/conda/lib/python3.7/site-packages/numpy/core/_asarray.py:83: VisibleDeprecationWarning: Creating an ndarray from ragged nested sequences (which is a list-or-tuple of lists-or-tuples-or ndarrays with different lengths or shapes) is deprecated. If you meant to do this, you must specify 'dtype=object' when creating the ndarray\n",
      "  return array(a, dtype, copy=False, order=order)\n"
     ]
    },
    {
     "data": {
      "image/png": "[encoded data removed]",
      "text/plain": [
       "<Figure size 432x288 with 1 Axes>"
      ]
     },
     "metadata": {
      "needs_background": "light"
     },
     "output_type": "display_data"
    }
   ],
   "source": [
    "data_spb_centr.boxplot(column='last_price', by='weekday')\n",
    "plt.show()"
   ]
  },
  {
   "cell_type": "code",
   "execution_count": 110,
   "metadata": {},
   "outputs": [
    {
     "name": "stderr",
     "output_type": "stream",
     "text": [
      "/opt/conda/lib/python3.7/site-packages/numpy/core/_asarray.py:83: VisibleDeprecationWarning: Creating an ndarray from ragged nested sequences (which is a list-or-tuple of lists-or-tuples-or ndarrays with different lengths or shapes) is deprecated. If you meant to do this, you must specify 'dtype=object' when creating the ndarray\n",
      "  return array(a, dtype, copy=False, order=order)\n"
     ]
    },
    {
     "data": {
      "image/png": "[encoded data removed]",
      "text/plain": [
       "<Figure size 432x288 with 1 Axes>"
      ]
     },
     "metadata": {
      "needs_background": "light"
     },
     "output_type": "display_data"
    }
   ],
   "source": [
    "data_spb_centr.boxplot(column='last_price', by='month')\n",
    "plt.show()"
   ]
  },
  {
   "cell_type": "code",
   "execution_count": 111,
   "metadata": {},
   "outputs": [
    {
     "name": "stderr",
     "output_type": "stream",
     "text": [
      "/opt/conda/lib/python3.7/site-packages/numpy/core/_asarray.py:83: VisibleDeprecationWarning: Creating an ndarray from ragged nested sequences (which is a list-or-tuple of lists-or-tuples-or ndarrays with different lengths or shapes) is deprecated. If you meant to do this, you must specify 'dtype=object' when creating the ndarray\n",
      "  return array(a, dtype, copy=False, order=order)\n"
     ]
    },
    {
     "data": {
      "image/png": "[encoded data removed]",
      "text/plain": [
       "<Figure size 432x288 with 1 Axes>"
      ]
     },
     "metadata": {
      "needs_background": "light"
     },
     "output_type": "display_data"
    }
   ],
   "source": [
    "data_spb_centr.boxplot(column='last_price', by='year')\n",
    "plt.show()"
   ]
  },
  {
   "cell_type": "markdown",
   "metadata": {},
   "source": [
    "Как и в случае с общими выводами ярко выраженной зависимости от даты размещения мы не наблюдаем."
   ]
  },
  {
   "cell_type": "markdown",
   "metadata": {},
   "source": [
    "Построим график, чтобы узнать, если зависимость между ценой и удалённостью от центра для центрального района."
   ]
  },
  {
   "cell_type": "code",
   "execution_count": 112,
   "metadata": {},
   "outputs": [
    {
     "data": {
      "text/plain": [
       "<matplotlib.axes._subplots.AxesSubplot at 0x7fc12eeed4d0>"
      ]
     },
     "execution_count": 112,
     "metadata": {},
     "output_type": "execute_result"
    },
    {
     "data": {
      "image/png": "[encoded data removed]",
      "text/plain": [
       "<Figure size 432x288 with 1 Axes>"
      ]
     },
     "metadata": {
      "needs_background": "light"
     },
     "output_type": "display_data"
    }
   ],
   "source": [
    "data_spb_centr.groupby('cityCenters_nearest_km')['last_price'].agg(['mean']).plot()"
   ]
  },
  {
   "cell_type": "markdown",
   "metadata": {},
   "source": [
    "Видим, что в целом зависимость есть: чем ближе к центру, тем квартиры в среднем дороже, особенно в пределе от 1 до 2 км."
   ]
  },
  {
   "cell_type": "markdown",
   "metadata": {},
   "source": [
    "### Шаг 5. Общий вывод"
   ]
  },
  {
   "cell_type": "markdown",
   "metadata": {},
   "source": [
    "В этом проекте мы исследовали объявления о продаже квартир в Ленинградской области.\n",
    "Сначала мы предобратали данные: определили (и где смогли избавились от них) пропущенные значения, привели данные к нужным типам.\n",
    "\n",
    "Затем мы добавили в таблицу дополнительные данные: цену квадратного метра, соотношения площадей. А также сделали разбивку даты и этажей.\n",
    "\n",
    "После чего провели исследовательский анализ данных. Для начала мы изучили следующие параметры: площадь, цена, число комнат, высота потолков, время продажи квартиры. Также мы провели исследования, как тот или иной параметр влияет на цену. Такой анализ показал, что:\n",
    "* цена квартиры зависит от удалённости от центра города (чем дальше, тем дешевле);\n",
    "* цена особо не зависит от даты размещения объявления;\n",
    "* цена увеличивается с увеличением числа комнат и общей площади квартиры;\n",
    "* если квартира находится на первом этаже, то скорее всего она будет стоить дешевле. Такая же закономерность прослеживается и для последнего этажа, исключая центр Санкт-Петербурга. Из-за наличия панорамных видов цена таких квартир будет скорее дороже.\n",
    "\n",
    "Однако стоит понимать, что это общие выводы, и, возможно, что Квартира-1 с двумя комнатами будет стоить также, как и Квартира-2 с пятью комнатами. Например, если Квартира-1 находится в центральном районе Петербурга, а Квартира-2 где-то на окраине города. "
   ]
  }
 ],
 "metadata": {
  "kernelspec": {
   "display_name": "Python 3",
   "language": "python",
   "name": "python3"
  },
  "language_info": {
   "codemirror_mode": {
    "name": "ipython",
    "version": 3
   },
   "file_extension": ".py",
   "mimetype": "text/x-python",
   "name": "python",
   "nbconvert_exporter": "python",
   "pygments_lexer": "ipython3",
   "version": "3.7.8"
  },
  "toc": {
   "base_numbering": 1,
   "nav_menu": {},
   "number_sections": true,
   "sideBar": true,
   "skip_h1_title": false,
   "title_cell": "Table of Contents",
   "title_sidebar": "Contents",
   "toc_cell": false,
   "toc_position": {},
   "toc_section_display": true,
   "toc_window_display": false
  }
 },
 "nbformat": 4,
 "nbformat_minor": 2
}
